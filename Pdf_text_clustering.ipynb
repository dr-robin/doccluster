{
 "cells": [
  {
   "cell_type": "markdown",
   "metadata": {
    "slideshow": {
     "slide_type": "slide"
    }
   },
   "source": [
    "# Pdfmatcher\n",
    "### by Robin"
   ]
  },
  {
   "cell_type": "markdown",
   "metadata": {
    "slideshow": {
     "slide_type": "slide"
    }
   },
   "source": [
    "# Challenge\n",
    "<img src=\"img/pdf-file-format-symbol.png\" alt=\"Drawing\" style=\"width: 50px;\"/>\n",
    "\n",
    "### -help annotaters by clustering similar pdfs\n",
    "### -identify duplicates"
   ]
  },
  {
   "cell_type": "markdown",
   "metadata": {
    "slideshow": {
     "slide_type": "slide"
    }
   },
   "source": [
    "# Approach\n",
    "\n",
    "## - Text clustering\n",
    "## - Layout mapping\n",
    "## - Image analysis\n"
   ]
  },
  {
   "cell_type": "markdown",
   "metadata": {
    "slideshow": {
     "slide_type": "subslide"
    }
   },
   "source": [
    "# Text clustering"
   ]
  },
  {
   "cell_type": "code",
   "execution_count": 58,
   "metadata": {},
   "outputs": [],
   "source": [
    "import glob\n",
    "import pandas as pd\n",
    "import os"
   ]
  },
  {
   "cell_type": "code",
   "execution_count": 59,
   "metadata": {},
   "outputs": [
    {
     "name": "stdout",
     "output_type": "stream",
     "text": [
      "['data/expected-original.tsv', 'data/in.tsv', 'data/test.tsv']\n"
     ]
    }
   ],
   "source": [
    "filelist = glob.glob(\"data/*.tsv\")\n",
    "print(filelist)\n",
    "df = pd.read_csv('data/in.tsv',header=None,sep=\"\\t\")\n",
    "labels = pd.read_csv('data/expected-original.tsv',header=None,sep=\"\\t\")"
   ]
  },
  {
   "cell_type": "code",
   "execution_count": 61,
   "metadata": {},
   "outputs": [
    {
     "data": {
      "text/html": [
       "<div>\n",
       "<style scoped>\n",
       "    .dataframe tbody tr th:only-of-type {\n",
       "        vertical-align: middle;\n",
       "    }\n",
       "\n",
       "    .dataframe tbody tr th {\n",
       "        vertical-align: top;\n",
       "    }\n",
       "\n",
       "    .dataframe thead th {\n",
       "        text-align: right;\n",
       "    }\n",
       "</style>\n",
       "<table border=\"1\" class=\"dataframe\">\n",
       "  <thead>\n",
       "    <tr style=\"text-align: right;\">\n",
       "      <th></th>\n",
       "      <th>0</th>\n",
       "    </tr>\n",
       "  </thead>\n",
       "  <tbody>\n",
       "    <tr>\n",
       "      <th>0</th>\n",
       "      <td>address__post_town=OLDHAM address__postcode=OL...</td>\n",
       "    </tr>\n",
       "    <tr>\n",
       "      <th>1</th>\n",
       "      <td>address__post_town=GAINSBOROUGH address__postc...</td>\n",
       "    </tr>\n",
       "    <tr>\n",
       "      <th>2</th>\n",
       "      <td>address__post_town=STAINES-UPON-THAMES[11] add...</td>\n",
       "    </tr>\n",
       "    <tr>\n",
       "      <th>3</th>\n",
       "      <td>address__post_town=LONDON address__postcode=W1...</td>\n",
       "    </tr>\n",
       "    <tr>\n",
       "      <th>4</th>\n",
       "      <td>address__post_town=NOTTINGHAM address__postcod...</td>\n",
       "    </tr>\n",
       "    <tr>\n",
       "      <th>...</th>\n",
       "      <td>...</td>\n",
       "    </tr>\n",
       "    <tr>\n",
       "      <th>1724</th>\n",
       "      <td>address__post_town=OLDHAM address__postcode=OL...</td>\n",
       "    </tr>\n",
       "    <tr>\n",
       "      <th>1725</th>\n",
       "      <td>address__post_town=BROADWAY address__postcode=...</td>\n",
       "    </tr>\n",
       "    <tr>\n",
       "      <th>1726</th>\n",
       "      <td>address__post_town=LONDON address__postcode=NW...</td>\n",
       "    </tr>\n",
       "    <tr>\n",
       "      <th>1727</th>\n",
       "      <td>address__post_town=LONDON address__postcode=N4...</td>\n",
       "    </tr>\n",
       "    <tr>\n",
       "      <th>1728</th>\n",
       "      <td>address__post_town=BRADFORD address__postcode=...</td>\n",
       "    </tr>\n",
       "  </tbody>\n",
       "</table>\n",
       "<p>1729 rows × 1 columns</p>\n",
       "</div>"
      ],
      "text/plain": [
       "                                                      0\n",
       "0     address__post_town=OLDHAM address__postcode=OL...\n",
       "1     address__post_town=GAINSBOROUGH address__postc...\n",
       "2     address__post_town=STAINES-UPON-THAMES[11] add...\n",
       "3     address__post_town=LONDON address__postcode=W1...\n",
       "4     address__post_town=NOTTINGHAM address__postcod...\n",
       "...                                                 ...\n",
       "1724  address__post_town=OLDHAM address__postcode=OL...\n",
       "1725  address__post_town=BROADWAY address__postcode=...\n",
       "1726  address__post_town=LONDON address__postcode=NW...\n",
       "1727  address__post_town=LONDON address__postcode=N4...\n",
       "1728  address__post_town=BRADFORD address__postcode=...\n",
       "\n",
       "[1729 rows x 1 columns]"
      ]
     },
     "execution_count": 61,
     "metadata": {},
     "output_type": "execute_result"
    }
   ],
   "source": [
    "labels"
   ]
  },
  {
   "cell_type": "code",
   "execution_count": 62,
   "metadata": {},
   "outputs": [
    {
     "data": {
      "text/plain": [
       "0       1156398\n",
       "1       1165525\n",
       "2        271547\n",
       "3       1076235\n",
       "4        702321\n",
       "         ...   \n",
       "1724    1156398\n",
       "1725     326446\n",
       "1726    1111593\n",
       "1727    1079575\n",
       "1728    1164704\n",
       "Name: 1, Length: 1729, dtype: object"
      ]
     },
     "execution_count": 62,
     "metadata": {},
     "output_type": "execute_result"
    }
   ],
   "source": [
    "regex = \"(charity_number=)(\\d*)\"\n",
    "ylabels = labels[0].str.extract(regex)\n",
    "labels = ylabels[1]\n",
    "labels"
   ]
  },
  {
   "cell_type": "code",
   "execution_count": 63,
   "metadata": {},
   "outputs": [
    {
     "data": {
      "text/plain": [
       "0     0\n",
       "1     0\n",
       "2    45\n",
       "3     1\n",
       "4     1\n",
       "5     0\n",
       "dtype: int64"
      ]
     },
     "execution_count": 63,
     "metadata": {},
     "output_type": "execute_result"
    }
   ],
   "source": [
    "#Check for NAs\n",
    "df.isna().sum()"
   ]
  },
  {
   "cell_type": "code",
   "execution_count": 64,
   "metadata": {},
   "outputs": [],
   "source": [
    "df = df.iloc[:,[0,5]]"
   ]
  },
  {
   "cell_type": "code",
   "execution_count": 65,
   "metadata": {},
   "outputs": [],
   "source": [
    "df.columns = ['filename','text']"
   ]
  },
  {
   "cell_type": "code",
   "execution_count": 66,
   "metadata": {},
   "outputs": [],
   "source": [
    "#Removes line breaks\n",
    "df = df.replace(r'\\\\n',' ', regex=True) "
   ]
  },
  {
   "cell_type": "code",
   "execution_count": 67,
   "metadata": {},
   "outputs": [],
   "source": [
    "import nltk\n",
    "from nltk.corpus import treebank\n",
    "from nltk.corpus import stopwords\n",
    "from nltk.stem import WordNetLemmatizer "
   ]
  },
  {
   "cell_type": "code",
   "execution_count": null,
   "metadata": {},
   "outputs": [],
   "source": []
  },
  {
   "cell_type": "code",
   "execution_count": 68,
   "metadata": {},
   "outputs": [],
   "source": [
    "def preprocessor(text):\n",
    "    #convert to lowercase\n",
    "    #tokenize words\n",
    "    words = nltk.word_tokenize(text)\n",
    "    words = [w.lower() for w in words]\n",
    "    #remove stopwords\n",
    "    stop_words = stopwords.words('english')\n",
    "    words = [word for word in words if word not in stop_words]\n",
    "    words = [x for x in words if len(x) > 3]\n",
    "    #remove punctuation\n",
    "    words=[word.lower() for word in words if word.isalpha()]\n",
    "    lemmatizer = WordNetLemmatizer()\n",
    "    words =[lemmatizer.lemmatize(w) for w in words]\n",
    "    return words"
   ]
  },
  {
   "cell_type": "code",
   "execution_count": 69,
   "metadata": {},
   "outputs": [],
   "source": [
    "from nltk import ngrams\n",
    "\n",
    "def ngrammer(text, n=3):\n",
    "    tmp=[]\n",
    "    textngrams = ngrams(text.split(), n)\n",
    "    for grams in textngrams:\n",
    "        words = tmp.append(grams)\n",
    "        \n",
    "    return words"
   ]
  },
  {
   "cell_type": "code",
   "execution_count": 70,
   "metadata": {},
   "outputs": [],
   "source": [
    "#Apply preprocessing steps\n",
    "df['preprocess'] = df['text'].apply(lambda x : preprocessor(x))"
   ]
  },
  {
   "cell_type": "code",
   "execution_count": 12,
   "metadata": {},
   "outputs": [],
   "source": [
    "#df['ngrams'] = df['preprocess'].apply(lambda x : ngrammer(''.join(x)))"
   ]
  },
  {
   "cell_type": "code",
   "execution_count": 71,
   "metadata": {},
   "outputs": [],
   "source": [
    "#Convert to list of strings\n",
    "docs = df.text.apply(''.join)"
   ]
  },
  {
   "cell_type": "code",
   "execution_count": 15,
   "metadata": {},
   "outputs": [
    {
     "data": {
      "text/plain": [
       "'#instantiate CountVectorizer() \\ncv=CountVectorizer() \\n \\n# this steps generates word counts for the words in your docs \\nword_count_vector=cv.fit_transform(docs)\\n\\ntfidf_transformer=TfidfTransformer(smooth_idf=True,use_idf=True) \\ntfidf_transformer.fit(word_count_vector)# print idf values \\n\\ndf_idf = pd.DataFrame(tfidf_transformer.idf_, index=cv.get_feature_names(),columns=[\"idf_weights\"]) \\n \\n# sort ascending \\ndf_idf.sort_values(by=[\\'idf_weights\\'])\\n\\n# count matrix \\ncount_vector=cv.transform(docs) \\n \\n# tf-idf scores \\ntf_idf_vector=tfidf_transformer.transform(count_vector)\\n\\nfeature_names = cv.get_feature_names() \\n \\n#get tfidf vector for first document \\nfirst_document_vector=tf_idf_vector[0] \\n \\n#print the scores \\ndf = pd.DataFrame(first_document_vector.T.todense(), index=feature_names, columns=[\"tfidf\"]) \\ndf.sort_values(by=[\"tfidf\"],ascending=False)\\n'"
      ]
     },
     "execution_count": 15,
     "metadata": {},
     "output_type": "execute_result"
    }
   ],
   "source": [
    "'''\n",
    "#instantiate CountVectorizer() \n",
    "cv=CountVectorizer() \n",
    " \n",
    "# this steps generates word counts for the words in your docs \n",
    "word_count_vector=cv.fit_transform(docs)\n",
    "\n",
    "tfidf_transformer=TfidfTransformer(smooth_idf=True,use_idf=True) \n",
    "tfidf_transformer.fit(word_count_vector)# print idf values \n",
    "\n",
    "df_idf = pd.DataFrame(tfidf_transformer.idf_, index=cv.get_feature_names(),columns=[\"idf_weights\"]) \n",
    " \n",
    "# sort ascending \n",
    "df_idf.sort_values(by=['idf_weights'])\n",
    "\n",
    "# count matrix \n",
    "count_vector=cv.transform(docs) \n",
    " \n",
    "# tf-idf scores \n",
    "tf_idf_vector=tfidf_transformer.transform(count_vector)\n",
    "\n",
    "feature_names = cv.get_feature_names() \n",
    " \n",
    "#get tfidf vector for first document \n",
    "first_document_vector=tf_idf_vector[0] \n",
    " \n",
    "#print the scores \n",
    "df = pd.DataFrame(first_document_vector.T.todense(), index=feature_names, columns=[\"tfidf\"]) \n",
    "df.sort_values(by=[\"tfidf\"],ascending=False)\n",
    "'''"
   ]
  },
  {
   "cell_type": "code",
   "execution_count": 74,
   "metadata": {},
   "outputs": [],
   "source": [
    "'''\n",
    "#Shorter way\n",
    "from sklearn.feature_extraction.text import TfidfVectorizer \n",
    " \n",
    "# settings that you use for count vectorizer will go here \n",
    "tfidf_vectorizer=TfidfVectorizer(use_idf=True, min_df=0.01) \n",
    " \n",
    "# just send in all your docs here \n",
    "tfidf_vectorizer_vectors=tfidf_vectorizer.fit_transform(docs)\n",
    "'''"
   ]
  },
  {
   "cell_type": "markdown",
   "metadata": {
    "slideshow": {
     "slide_type": "subslide"
    }
   },
   "source": [
    "# TfidfVectorizer"
   ]
  },
  {
   "cell_type": "code",
   "execution_count": 104,
   "metadata": {},
   "outputs": [],
   "source": [
    "from sklearn.feature_extraction.text import TfidfVectorizer\n",
    "\n",
    "def tfidfvec(docs):\n",
    "    tfidf_vectorizer=TfidfVectorizer(use_idf=True, max_df=0.8, max_features=200000,\n",
    "                                 min_df=0.01)\n",
    "    # just send in all your docs here\n",
    "    fitted_vectorizer=tfidf_vectorizer.fit(docs)\n",
    "    tfidf_vectorizer_vectors=fitted_vectorizer.transform(docs)\n",
    "    X = tfidf_vectorizer_vectors\n",
    "    print(tfidf_vectorizer_vectors.shape)\n",
    "    return X"
   ]
  },
  {
   "cell_type": "code",
   "execution_count": 105,
   "metadata": {},
   "outputs": [
    {
     "name": "stdout",
     "output_type": "stream",
     "text": [
      "(1729, 10408)\n"
     ]
    }
   ],
   "source": [
    "X = tfidfvec(docs)\n"
   ]
  },
  {
   "cell_type": "code",
   "execution_count": 137,
   "metadata": {},
   "outputs": [
    {
     "data": {
      "text/plain": [
       "<1x10408 sparse matrix of type '<class 'numpy.float64'>'\n",
       "\twith 1459 stored elements in Compressed Sparse Row format>"
      ]
     },
     "execution_count": 137,
     "metadata": {},
     "output_type": "execute_result"
    }
   ],
   "source": [
    "X[1709]"
   ]
  },
  {
   "cell_type": "code",
   "execution_count": 106,
   "metadata": {},
   "outputs": [],
   "source": [
    "pairwise_similarity = X * X.T "
   ]
  },
  {
   "cell_type": "code",
   "execution_count": 117,
   "metadata": {},
   "outputs": [
    {
     "data": {
      "text/plain": [
       "<1x1729 sparse matrix of type '<class 'numpy.float64'>'\n",
       "\twith 1729 stored elements in Compressed Sparse Row format>"
      ]
     },
     "execution_count": 117,
     "metadata": {},
     "output_type": "execute_result"
    }
   ],
   "source": [
    "pairwise_similarity[1]"
   ]
  },
  {
   "cell_type": "code",
   "execution_count": 112,
   "metadata": {},
   "outputs": [
    {
     "data": {
      "text/plain": [
       "0.1002656674204876"
      ]
     },
     "execution_count": 112,
     "metadata": {},
     "output_type": "execute_result"
    }
   ],
   "source": [
    "density = X.getnnz() / np.prod(X.shape)\n",
    "density"
   ]
  },
  {
   "cell_type": "code",
   "execution_count": 143,
   "metadata": {},
   "outputs": [
    {
     "data": {
      "text/plain": [
       "<matplotlib.lines.Line2D at 0x7f837028ca60>"
      ]
     },
     "execution_count": 143,
     "metadata": {},
     "output_type": "execute_result"
    },
    {
     "data": {
      "image/png": "[encoded data removed]",
      "text/plain": [
       "<Figure size 576x396 with 1 Axes>"
      ]
     },
     "metadata": {},
     "output_type": "display_data"
    }
   ],
   "source": [
    "plt.spy(X, markersize=0.1)"
   ]
  },
  {
   "cell_type": "code",
   "execution_count": 121,
   "metadata": {},
   "outputs": [
    {
     "ename": "NameError",
     "evalue": "name 'sparse' is not defined",
     "output_type": "error",
     "traceback": [
      "\u001b[0;31m---------------------------------------------------------------------------\u001b[0m",
      "\u001b[0;31mNameError\u001b[0m                                 Traceback (most recent call last)",
      "\u001b[0;32m<ipython-input-121-f5c9b8dd8baf>\u001b[0m in \u001b[0;36m<module>\u001b[0;34m\u001b[0m\n\u001b[0;32m----> 1\u001b[0;31m \u001b[0mA\u001b[0m \u001b[0;34m=\u001b[0m \u001b[0msparse\u001b[0m\u001b[0;34m.\u001b[0m\u001b[0mrandom\u001b[0m\u001b[0;34m(\u001b[0m\u001b[0;36m100\u001b[0m\u001b[0;34m,\u001b[0m\u001b[0;36m100\u001b[0m\u001b[0;34m,\u001b[0m \u001b[0mdensity\u001b[0m\u001b[0;34m=\u001b[0m\u001b[0;36m0.01\u001b[0m\u001b[0;34m)\u001b[0m\u001b[0;34m\u001b[0m\u001b[0;34m\u001b[0m\u001b[0m\n\u001b[0m\u001b[1;32m      2\u001b[0m \u001b[0mplt\u001b[0m\u001b[0;34m.\u001b[0m\u001b[0mspy\u001b[0m\u001b[0;34m(\u001b[0m\u001b[0mA\u001b[0m\u001b[0;34m,\u001b[0m \u001b[0mmarkersize\u001b[0m\u001b[0;34m=\u001b[0m\u001b[0;36m4\u001b[0m\u001b[0;34m)\u001b[0m\u001b[0;34m\u001b[0m\u001b[0;34m\u001b[0m\u001b[0m\n",
      "\u001b[0;31mNameError\u001b[0m: name 'sparse' is not defined"
     ]
    }
   ],
   "source": [
    "A = sparse.random(100,100, density=0.01)\n",
    "plt.spy(A, markersize=4)"
   ]
  },
  {
   "cell_type": "code",
   "execution_count": 139,
   "metadata": {},
   "outputs": [],
   "source": [
    "import matplotlib.pyplot as plt\n",
    "from scipy.sparse import coo_matrix\n",
    "\n",
    "def plot_coo_matrix(m):\n",
    "    if not isinstance(m, coo_matrix):\n",
    "        m = coo_matrix(m)\n",
    "    fig = plt.figure()\n",
    "    ax = fig.add_subplot(111, facecolor='black')\n",
    "    ax.plot(m.col, m.row, 's', color='white', ms=1)\n",
    "    ax.set_xlim(0, m.shape[1])\n",
    "    ax.set_ylim(0, m.shape[0])\n",
    "    ax.set_aspect('equal')\n",
    "    for spine in ax.spines.values():\n",
    "        spine.set_visible(False)\n",
    "    ax.invert_yaxis()\n",
    "    ax.set_aspect('equal')\n",
    "    ax.set_xticks([])\n",
    "    ax.set_yticks([])\n",
    "    return ax"
   ]
  },
  {
   "cell_type": "code",
   "execution_count": null,
   "metadata": {},
   "outputs": [],
   "source": []
  },
  {
   "cell_type": "code",
   "execution_count": 108,
   "metadata": {},
   "outputs": [
    {
     "ename": "ValueError",
     "evalue": "Must pass 2-d input. shape=()",
     "output_type": "error",
     "traceback": [
      "\u001b[0;31m---------------------------------------------------------------------------\u001b[0m",
      "\u001b[0;31mValueError\u001b[0m                                Traceback (most recent call last)",
      "\u001b[0;32m<ipython-input-108-fb89e9088500>\u001b[0m in \u001b[0;36m<module>\u001b[0;34m\u001b[0m\n\u001b[1;32m      2\u001b[0m \u001b[0;32mimport\u001b[0m \u001b[0mseaborn\u001b[0m \u001b[0;32mas\u001b[0m \u001b[0msns\u001b[0m\u001b[0;34m;\u001b[0m \u001b[0msns\u001b[0m\u001b[0;34m.\u001b[0m\u001b[0mset_theme\u001b[0m\u001b[0;34m(\u001b[0m\u001b[0;34m)\u001b[0m\u001b[0;34m\u001b[0m\u001b[0;34m\u001b[0m\u001b[0m\n\u001b[1;32m      3\u001b[0m \u001b[0muniform_data\u001b[0m \u001b[0;34m=\u001b[0m \u001b[0mnp\u001b[0m\u001b[0;34m.\u001b[0m\u001b[0mrandom\u001b[0m\u001b[0;34m.\u001b[0m\u001b[0mrand\u001b[0m\u001b[0;34m(\u001b[0m\u001b[0;36m10\u001b[0m\u001b[0;34m,\u001b[0m \u001b[0;36m12\u001b[0m\u001b[0;34m)\u001b[0m\u001b[0;34m\u001b[0m\u001b[0;34m\u001b[0m\u001b[0m\n\u001b[0;32m----> 4\u001b[0;31m \u001b[0max\u001b[0m \u001b[0;34m=\u001b[0m \u001b[0msns\u001b[0m\u001b[0;34m.\u001b[0m\u001b[0mheatmap\u001b[0m\u001b[0;34m(\u001b[0m\u001b[0mpairwise_similarity\u001b[0m\u001b[0;34m)\u001b[0m\u001b[0;34m\u001b[0m\u001b[0;34m\u001b[0m\u001b[0m\n\u001b[0m",
      "\u001b[0;32m~/.local/lib/python3.8/site-packages/seaborn/_decorators.py\u001b[0m in \u001b[0;36minner_f\u001b[0;34m(*args, **kwargs)\u001b[0m\n\u001b[1;32m     44\u001b[0m             )\n\u001b[1;32m     45\u001b[0m         \u001b[0mkwargs\u001b[0m\u001b[0;34m.\u001b[0m\u001b[0mupdate\u001b[0m\u001b[0;34m(\u001b[0m\u001b[0;34m{\u001b[0m\u001b[0mk\u001b[0m\u001b[0;34m:\u001b[0m \u001b[0marg\u001b[0m \u001b[0;32mfor\u001b[0m \u001b[0mk\u001b[0m\u001b[0;34m,\u001b[0m \u001b[0marg\u001b[0m \u001b[0;32min\u001b[0m \u001b[0mzip\u001b[0m\u001b[0;34m(\u001b[0m\u001b[0msig\u001b[0m\u001b[0;34m.\u001b[0m\u001b[0mparameters\u001b[0m\u001b[0;34m,\u001b[0m \u001b[0margs\u001b[0m\u001b[0;34m)\u001b[0m\u001b[0;34m}\u001b[0m\u001b[0;34m)\u001b[0m\u001b[0;34m\u001b[0m\u001b[0;34m\u001b[0m\u001b[0m\n\u001b[0;32m---> 46\u001b[0;31m         \u001b[0;32mreturn\u001b[0m \u001b[0mf\u001b[0m\u001b[0;34m(\u001b[0m\u001b[0;34m**\u001b[0m\u001b[0mkwargs\u001b[0m\u001b[0;34m)\u001b[0m\u001b[0;34m\u001b[0m\u001b[0;34m\u001b[0m\u001b[0m\n\u001b[0m\u001b[1;32m     47\u001b[0m     \u001b[0;32mreturn\u001b[0m \u001b[0minner_f\u001b[0m\u001b[0;34m\u001b[0m\u001b[0;34m\u001b[0m\u001b[0m\n\u001b[1;32m     48\u001b[0m \u001b[0;34m\u001b[0m\u001b[0m\n",
      "\u001b[0;32m~/.local/lib/python3.8/site-packages/seaborn/matrix.py\u001b[0m in \u001b[0;36mheatmap\u001b[0;34m(data, vmin, vmax, cmap, center, robust, annot, fmt, annot_kws, linewidths, linecolor, cbar, cbar_kws, cbar_ax, square, xticklabels, yticklabels, mask, ax, **kwargs)\u001b[0m\n\u001b[1;32m    543\u001b[0m     \"\"\"\n\u001b[1;32m    544\u001b[0m     \u001b[0;31m# Initialize the plotter object\u001b[0m\u001b[0;34m\u001b[0m\u001b[0;34m\u001b[0m\u001b[0;34m\u001b[0m\u001b[0m\n\u001b[0;32m--> 545\u001b[0;31m     plotter = _HeatMapper(data, vmin, vmax, cmap, center, robust, annot, fmt,\n\u001b[0m\u001b[1;32m    546\u001b[0m                           \u001b[0mannot_kws\u001b[0m\u001b[0;34m,\u001b[0m \u001b[0mcbar\u001b[0m\u001b[0;34m,\u001b[0m \u001b[0mcbar_kws\u001b[0m\u001b[0;34m,\u001b[0m \u001b[0mxticklabels\u001b[0m\u001b[0;34m,\u001b[0m\u001b[0;34m\u001b[0m\u001b[0;34m\u001b[0m\u001b[0m\n\u001b[1;32m    547\u001b[0m                           yticklabels, mask)\n",
      "\u001b[0;32m~/.local/lib/python3.8/site-packages/seaborn/matrix.py\u001b[0m in \u001b[0;36m__init__\u001b[0;34m(self, data, vmin, vmax, cmap, center, robust, annot, fmt, annot_kws, cbar, cbar_kws, xticklabels, yticklabels, mask)\u001b[0m\n\u001b[1;32m    107\u001b[0m         \u001b[0;32melse\u001b[0m\u001b[0;34m:\u001b[0m\u001b[0;34m\u001b[0m\u001b[0;34m\u001b[0m\u001b[0m\n\u001b[1;32m    108\u001b[0m             \u001b[0mplot_data\u001b[0m \u001b[0;34m=\u001b[0m \u001b[0mnp\u001b[0m\u001b[0;34m.\u001b[0m\u001b[0masarray\u001b[0m\u001b[0;34m(\u001b[0m\u001b[0mdata\u001b[0m\u001b[0;34m)\u001b[0m\u001b[0;34m\u001b[0m\u001b[0;34m\u001b[0m\u001b[0m\n\u001b[0;32m--> 109\u001b[0;31m             \u001b[0mdata\u001b[0m \u001b[0;34m=\u001b[0m \u001b[0mpd\u001b[0m\u001b[0;34m.\u001b[0m\u001b[0mDataFrame\u001b[0m\u001b[0;34m(\u001b[0m\u001b[0mplot_data\u001b[0m\u001b[0;34m)\u001b[0m\u001b[0;34m\u001b[0m\u001b[0;34m\u001b[0m\u001b[0m\n\u001b[0m\u001b[1;32m    110\u001b[0m \u001b[0;34m\u001b[0m\u001b[0m\n\u001b[1;32m    111\u001b[0m         \u001b[0;31m# Validate the mask and convet to DataFrame\u001b[0m\u001b[0;34m\u001b[0m\u001b[0;34m\u001b[0m\u001b[0;34m\u001b[0m\u001b[0m\n",
      "\u001b[0;32m~/.local/lib/python3.8/site-packages/pandas/core/frame.py\u001b[0m in \u001b[0;36m__init__\u001b[0;34m(self, data, index, columns, dtype, copy)\u001b[0m\n\u001b[1;32m    495\u001b[0m                 \u001b[0mmgr\u001b[0m \u001b[0;34m=\u001b[0m \u001b[0minit_dict\u001b[0m\u001b[0;34m(\u001b[0m\u001b[0;34m{\u001b[0m\u001b[0mdata\u001b[0m\u001b[0;34m.\u001b[0m\u001b[0mname\u001b[0m\u001b[0;34m:\u001b[0m \u001b[0mdata\u001b[0m\u001b[0;34m}\u001b[0m\u001b[0;34m,\u001b[0m \u001b[0mindex\u001b[0m\u001b[0;34m,\u001b[0m \u001b[0mcolumns\u001b[0m\u001b[0;34m,\u001b[0m \u001b[0mdtype\u001b[0m\u001b[0;34m=\u001b[0m\u001b[0mdtype\u001b[0m\u001b[0;34m)\u001b[0m\u001b[0;34m\u001b[0m\u001b[0;34m\u001b[0m\u001b[0m\n\u001b[1;32m    496\u001b[0m             \u001b[0;32melse\u001b[0m\u001b[0;34m:\u001b[0m\u001b[0;34m\u001b[0m\u001b[0;34m\u001b[0m\u001b[0m\n\u001b[0;32m--> 497\u001b[0;31m                 \u001b[0mmgr\u001b[0m \u001b[0;34m=\u001b[0m \u001b[0minit_ndarray\u001b[0m\u001b[0;34m(\u001b[0m\u001b[0mdata\u001b[0m\u001b[0;34m,\u001b[0m \u001b[0mindex\u001b[0m\u001b[0;34m,\u001b[0m \u001b[0mcolumns\u001b[0m\u001b[0;34m,\u001b[0m \u001b[0mdtype\u001b[0m\u001b[0;34m=\u001b[0m\u001b[0mdtype\u001b[0m\u001b[0;34m,\u001b[0m \u001b[0mcopy\u001b[0m\u001b[0;34m=\u001b[0m\u001b[0mcopy\u001b[0m\u001b[0;34m)\u001b[0m\u001b[0;34m\u001b[0m\u001b[0;34m\u001b[0m\u001b[0m\n\u001b[0m\u001b[1;32m    498\u001b[0m \u001b[0;34m\u001b[0m\u001b[0m\n\u001b[1;32m    499\u001b[0m         \u001b[0;31m# For data is list-like, or Iterable (will consume into list)\u001b[0m\u001b[0;34m\u001b[0m\u001b[0;34m\u001b[0m\u001b[0;34m\u001b[0m\u001b[0m\n",
      "\u001b[0;32m~/.local/lib/python3.8/site-packages/pandas/core/internals/construction.py\u001b[0m in \u001b[0;36minit_ndarray\u001b[0;34m(values, index, columns, dtype, copy)\u001b[0m\n\u001b[1;32m    188\u001b[0m     \u001b[0;31m# by definition an array here\u001b[0m\u001b[0;34m\u001b[0m\u001b[0;34m\u001b[0m\u001b[0;34m\u001b[0m\u001b[0m\n\u001b[1;32m    189\u001b[0m     \u001b[0;31m# the dtypes will be coerced to a single dtype\u001b[0m\u001b[0;34m\u001b[0m\u001b[0;34m\u001b[0m\u001b[0;34m\u001b[0m\u001b[0m\n\u001b[0;32m--> 190\u001b[0;31m     \u001b[0mvalues\u001b[0m \u001b[0;34m=\u001b[0m \u001b[0m_prep_ndarray\u001b[0m\u001b[0;34m(\u001b[0m\u001b[0mvalues\u001b[0m\u001b[0;34m,\u001b[0m \u001b[0mcopy\u001b[0m\u001b[0;34m=\u001b[0m\u001b[0mcopy\u001b[0m\u001b[0;34m)\u001b[0m\u001b[0;34m\u001b[0m\u001b[0;34m\u001b[0m\u001b[0m\n\u001b[0m\u001b[1;32m    191\u001b[0m \u001b[0;34m\u001b[0m\u001b[0m\n\u001b[1;32m    192\u001b[0m     \u001b[0;32mif\u001b[0m \u001b[0mdtype\u001b[0m \u001b[0;32mis\u001b[0m \u001b[0;32mnot\u001b[0m \u001b[0;32mNone\u001b[0m\u001b[0;34m:\u001b[0m\u001b[0;34m\u001b[0m\u001b[0;34m\u001b[0m\u001b[0m\n",
      "\u001b[0;32m~/.local/lib/python3.8/site-packages/pandas/core/internals/construction.py\u001b[0m in \u001b[0;36m_prep_ndarray\u001b[0;34m(values, copy)\u001b[0m\n\u001b[1;32m    322\u001b[0m         \u001b[0mvalues\u001b[0m \u001b[0;34m=\u001b[0m \u001b[0mvalues\u001b[0m\u001b[0;34m.\u001b[0m\u001b[0mreshape\u001b[0m\u001b[0;34m(\u001b[0m\u001b[0;34m(\u001b[0m\u001b[0mvalues\u001b[0m\u001b[0;34m.\u001b[0m\u001b[0mshape\u001b[0m\u001b[0;34m[\u001b[0m\u001b[0;36m0\u001b[0m\u001b[0;34m]\u001b[0m\u001b[0;34m,\u001b[0m \u001b[0;36m1\u001b[0m\u001b[0;34m)\u001b[0m\u001b[0;34m)\u001b[0m\u001b[0;34m\u001b[0m\u001b[0;34m\u001b[0m\u001b[0m\n\u001b[1;32m    323\u001b[0m     \u001b[0;32melif\u001b[0m \u001b[0mvalues\u001b[0m\u001b[0;34m.\u001b[0m\u001b[0mndim\u001b[0m \u001b[0;34m!=\u001b[0m \u001b[0;36m2\u001b[0m\u001b[0;34m:\u001b[0m\u001b[0;34m\u001b[0m\u001b[0;34m\u001b[0m\u001b[0m\n\u001b[0;32m--> 324\u001b[0;31m         \u001b[0;32mraise\u001b[0m \u001b[0mValueError\u001b[0m\u001b[0;34m(\u001b[0m\u001b[0;34mf\"Must pass 2-d input. shape={values.shape}\"\u001b[0m\u001b[0;34m)\u001b[0m\u001b[0;34m\u001b[0m\u001b[0;34m\u001b[0m\u001b[0m\n\u001b[0m\u001b[1;32m    325\u001b[0m \u001b[0;34m\u001b[0m\u001b[0m\n\u001b[1;32m    326\u001b[0m     \u001b[0;32mreturn\u001b[0m \u001b[0mvalues\u001b[0m\u001b[0;34m\u001b[0m\u001b[0;34m\u001b[0m\u001b[0m\n",
      "\u001b[0;31mValueError\u001b[0m: Must pass 2-d input. shape=()"
     ]
    }
   ],
   "source": [
    "import numpy as np; np.random.seed(0)\n",
    "import seaborn as sns; sns.set_theme()\n",
    "uniform_data = np.random.rand(10, 12)\n",
    "ax = sns.heatmap(pairwise_similarity)"
   ]
  },
  {
   "cell_type": "code",
   "execution_count": 29,
   "metadata": {},
   "outputs": [
    {
     "name": "stdout",
     "output_type": "stream",
     "text": [
      "0 (1729, 144539)\n",
      "0.01 (1729, 10408)\n",
      "0.02 (1729, 7323)\n",
      "0.03 (1729, 5945)\n",
      "0.04 (1729, 5098)\n",
      "0.05 (1729, 4581)\n",
      "0.06 (1729, 4191)\n",
      "0.07 (1729, 3899)\n",
      "0.08 (1729, 3661)\n",
      "0.09 (1729, 3432)\n",
      "0.1 (1729, 3247)\n",
      "0.12 (1729, 2926)\n",
      "0.14 (1729, 2364)\n",
      "0.16 (1729, 1939)\n",
      "0.18 (1729, 1656)\n",
      "0.2 (1729, 1450)\n"
     ]
    }
   ],
   "source": [
    "#experient with changing paramters in tfidf\n",
    "\n",
    "min_df = [0,0.01,0.02,0.03,0.04,0.05,0.06,0.07,0.08,0.09,0.1,0.12,0.14,0.16, 0.18, 0.2]\n",
    "max_df = \n",
    "\n",
    "result=[]\n",
    "for i in min_df:\n",
    "    tfidf_vectorizer=TfidfVectorizer(use_idf=True, max_df=0.8, max_features=200000,\n",
    "                                 min_df=i)\n",
    "    # just send in all your docs here\n",
    "    fitted_vectorizer=tfidf_vectorizer.fit(docs)\n",
    "    tfidf_vectorizer_vectors=fitted_vectorizer.transform(docs)\n",
    "    shape = tfidf_vectorizer_vectors.shape\n",
    "    print(i, shape)\n"
   ]
  },
  {
   "cell_type": "markdown",
   "metadata": {
    "slideshow": {
     "slide_type": "subslide"
    }
   },
   "source": [
    "# HashingVectorizer"
   ]
  },
  {
   "cell_type": "code",
   "execution_count": null,
   "metadata": {},
   "outputs": [],
   "source": [
    "hashvectorizer = HashingVectorizer(n_features=opts.n_features,\n",
    "                                       stop_words='english',\n",
    "                                       alternate_sign=False, norm='l2')"
   ]
  },
  {
   "cell_type": "code",
   "execution_count": 39,
   "metadata": {},
   "outputs": [
    {
     "name": "stdout",
     "output_type": "stream",
     "text": [
      "Clustering sparse data with KMeans(max_iter=100, n_clusters=10, verbose=1)\n",
      "Initialization complete\n",
      "Iteration 0, inertia 2465.745380244158\n",
      "Iteration 1, inertia 1393.058528465908\n",
      "Iteration 2, inertia 1379.383768577733\n",
      "Iteration 3, inertia 1374.9984116550354\n",
      "Iteration 4, inertia 1372.2303556286633\n",
      "Iteration 5, inertia 1368.9193749839071\n",
      "Iteration 6, inertia 1367.0256808446256\n",
      "Iteration 7, inertia 1366.0606796019626\n",
      "Iteration 8, inertia 1365.7473558068182\n",
      "Iteration 9, inertia 1365.6536761607938\n",
      "Iteration 10, inertia 1365.5681993643088\n",
      "Iteration 11, inertia 1365.502701348869\n",
      "Iteration 12, inertia 1365.422614345096\n",
      "Iteration 13, inertia 1365.3390623347716\n",
      "Iteration 14, inertia 1365.271169300686\n",
      "Iteration 15, inertia 1365.2264926897742\n",
      "Iteration 16, inertia 1365.2141941173459\n",
      "Iteration 17, inertia 1365.1996038187285\n",
      "Iteration 18, inertia 1365.1117475543613\n",
      "Iteration 19, inertia 1365.0691982834385\n",
      "Iteration 20, inertia 1365.0636733684887\n",
      "Converged at iteration 20: strict convergence.\n",
      "Initialization complete\n",
      "Iteration 0, inertia 2498.3822047971667\n",
      "Iteration 1, inertia 1394.2320364060834\n",
      "Iteration 2, inertia 1377.425408092428\n",
      "Iteration 3, inertia 1371.4303887423177\n",
      "Iteration 4, inertia 1367.016393273048\n",
      "Iteration 5, inertia 1364.9051772006012\n",
      "Iteration 6, inertia 1364.0301770823994\n",
      "Iteration 7, inertia 1363.5518244139257\n",
      "Iteration 8, inertia 1363.3762964331968\n",
      "Iteration 9, inertia 1363.2276886952834\n",
      "Iteration 10, inertia 1363.138527407553\n",
      "Iteration 11, inertia 1363.0385581895387\n",
      "Iteration 12, inertia 1362.981971274359\n",
      "Iteration 13, inertia 1362.9641990857524\n",
      "Converged at iteration 13: strict convergence.\n",
      "Initialization complete\n",
      "Iteration 0, inertia 2573.9165018882604\n",
      "Iteration 1, inertia 1392.5302281655893\n",
      "Iteration 2, inertia 1378.2205149748065\n",
      "Iteration 3, inertia 1370.8032074516054\n",
      "Iteration 4, inertia 1366.6758530270395\n",
      "Iteration 5, inertia 1365.2970898646147\n",
      "Iteration 6, inertia 1364.688576571146\n",
      "Iteration 7, inertia 1364.3410891924373\n",
      "Iteration 8, inertia 1364.1757112473028\n",
      "Iteration 9, inertia 1364.0122435208025\n",
      "Iteration 10, inertia 1363.903720386846\n",
      "Iteration 11, inertia 1363.8355504468875\n",
      "Iteration 12, inertia 1363.8015770461232\n",
      "Iteration 13, inertia 1363.7703836317373\n",
      "Iteration 14, inertia 1363.7325995980943\n",
      "Iteration 15, inertia 1363.6965079535455\n",
      "Iteration 16, inertia 1363.6269298375767\n",
      "Iteration 17, inertia 1363.5517094417676\n",
      "Iteration 18, inertia 1363.4851201849092\n",
      "Iteration 19, inertia 1363.3674146678493\n",
      "Iteration 20, inertia 1363.3349894017827\n",
      "Iteration 21, inertia 1363.3241931594832\n",
      "Converged at iteration 21: strict convergence.\n",
      "Initialization complete\n",
      "Iteration 0, inertia 2541.367111842823\n",
      "Iteration 1, inertia 1400.619111338878\n",
      "Iteration 2, inertia 1385.3146571257862\n",
      "Iteration 3, inertia 1377.7568854690176\n",
      "Iteration 4, inertia 1374.2385115851555\n",
      "Iteration 5, inertia 1371.152962666\n",
      "Iteration 6, inertia 1367.6263752691584\n",
      "Iteration 7, inertia 1363.569878392117\n",
      "Iteration 8, inertia 1358.2015894224935\n",
      "Iteration 9, inertia 1355.3436240322353\n",
      "Iteration 10, inertia 1354.7408802290365\n",
      "Iteration 11, inertia 1354.5358459105373\n",
      "Iteration 12, inertia 1354.3461947735257\n",
      "Iteration 13, inertia 1354.2256727271297\n",
      "Iteration 14, inertia 1354.119776176596\n",
      "Iteration 15, inertia 1354.046485242258\n",
      "Iteration 16, inertia 1353.8996855248613\n",
      "Iteration 17, inertia 1353.8808263269639\n",
      "Iteration 18, inertia 1353.8538662647954\n",
      "Iteration 19, inertia 1353.834254084767\n",
      "Iteration 20, inertia 1353.7997139795173\n",
      "Iteration 21, inertia 1353.7264527701334\n",
      "Iteration 22, inertia 1353.6876956114431\n",
      "Iteration 23, inertia 1353.6821997809595\n",
      "Converged at iteration 23: strict convergence.\n",
      "Initialization complete\n",
      "Iteration 0, inertia 2515.9403875793764\n",
      "Iteration 1, inertia 1395.6268208088816\n",
      "Iteration 2, inertia 1376.2352510787289\n",
      "Iteration 3, inertia 1370.7344597683211\n",
      "Iteration 4, inertia 1369.4144511992931\n",
      "Iteration 5, inertia 1369.015418515875\n",
      "Iteration 6, inertia 1368.730479699153\n",
      "Iteration 7, inertia 1368.607345006003\n",
      "Iteration 8, inertia 1368.569333985759\n",
      "Iteration 9, inertia 1368.5593887238206\n",
      "Iteration 10, inertia 1368.5418232322252\n",
      "Iteration 11, inertia 1368.5320035137706\n",
      "Converged at iteration 11: strict convergence.\n",
      "Initialization complete\n",
      "Iteration 0, inertia 2483.060619515985\n",
      "Iteration 1, inertia 1397.399596977511\n",
      "Iteration 2, inertia 1380.9938368609423\n",
      "Iteration 3, inertia 1367.093737221983\n",
      "Iteration 4, inertia 1364.2540615374426\n",
      "Iteration 5, inertia 1363.034808007607\n",
      "Iteration 6, inertia 1362.0660183095797\n",
      "Iteration 7, inertia 1361.331696091025\n",
      "Iteration 8, inertia 1360.7252283424086\n",
      "Iteration 9, inertia 1360.2407782688772\n",
      "Iteration 10, inertia 1359.9278097890278\n",
      "Iteration 11, inertia 1359.7043289818184\n",
      "Iteration 12, inertia 1359.530467863434\n",
      "Iteration 13, inertia 1359.436664705724\n",
      "Iteration 14, inertia 1359.4177349735799\n",
      "Converged at iteration 14: strict convergence.\n",
      "Initialization complete\n",
      "Iteration 0, inertia 2515.6789652686202\n",
      "Iteration 1, inertia 1387.9950817863999\n",
      "Iteration 2, inertia 1373.3047617417506\n",
      "Iteration 3, inertia 1367.576404907939\n",
      "Iteration 4, inertia 1365.2534806807798\n",
      "Iteration 5, inertia 1363.9212217959168\n",
      "Iteration 6, inertia 1363.2825032434735\n",
      "Iteration 7, inertia 1362.9005675800133\n",
      "Iteration 8, inertia 1362.580545170194\n",
      "Iteration 9, inertia 1362.503990348158\n",
      "Iteration 10, inertia 1362.4141359589794\n",
      "Iteration 11, inertia 1362.3395016486725\n",
      "Converged at iteration 11: strict convergence.\n",
      "Initialization complete\n",
      "Iteration 0, inertia 2499.201641212905\n",
      "Iteration 1, inertia 1390.1017482315206\n",
      "Iteration 2, inertia 1373.15178439377\n",
      "Iteration 3, inertia 1369.148729671659\n",
      "Iteration 4, inertia 1366.4823665949723\n",
      "Iteration 5, inertia 1364.8806456393872\n",
      "Iteration 6, inertia 1362.3339615202665\n",
      "Iteration 7, inertia 1360.6987566220298\n",
      "Iteration 8, inertia 1359.1554135394163\n",
      "Iteration 9, inertia 1358.9055013634477\n",
      "Iteration 10, inertia 1358.7555976470787\n",
      "Iteration 11, inertia 1358.6134485086056\n",
      "Iteration 12, inertia 1358.459890974347\n",
      "Iteration 13, inertia 1358.420327286356\n",
      "Iteration 14, inertia 1358.392378569212\n",
      "Iteration 15, inertia 1358.3675493070816\n",
      "Iteration 16, inertia 1358.344076596992\n",
      "Iteration 17, inertia 1358.3219733291603\n",
      "Iteration 18, inertia 1358.2949665802948\n",
      "Iteration 19, inertia 1358.270947610433\n",
      "Iteration 20, inertia 1358.2581208957968\n",
      "Iteration 21, inertia 1358.2507330041672\n",
      "Iteration 22, inertia 1358.2424092563185\n",
      "Iteration 23, inertia 1358.2318950313104\n",
      "Iteration 24, inertia 1358.2236975714873\n",
      "Iteration 25, inertia 1358.2184614524813\n",
      "Iteration 26, inertia 1358.2128176162719\n",
      "Iteration 27, inertia 1358.205996391416\n",
      "Iteration 28, inertia 1358.1995549337255\n",
      "Iteration 29, inertia 1358.192788331003\n",
      "Iteration 30, inertia 1358.1858892228122\n",
      "Iteration 31, inertia 1358.1802327604387\n",
      "Iteration 32, inertia 1358.1561466049911\n",
      "Iteration 33, inertia 1358.1012852715307\n",
      "Iteration 34, inertia 1358.0506319395233\n",
      "Iteration 35, inertia 1358.0365866458571\n",
      "Iteration 36, inertia 1358.0080711945104\n",
      "Iteration 37, inertia 1357.9942899651871\n",
      "Iteration 38, inertia 1357.9704116401435\n",
      "Iteration 39, inertia 1357.9156317626007\n",
      "Iteration 40, inertia 1357.8236624651543\n",
      "Iteration 41, inertia 1357.7161190744084\n",
      "Iteration 42, inertia 1357.6383652708387\n",
      "Iteration 43, inertia 1357.5815990013598\n",
      "Iteration 44, inertia 1357.5319098515422\n",
      "Iteration 45, inertia 1357.4953838840472\n",
      "Iteration 46, inertia 1357.4626935071847\n",
      "Iteration 47, inertia 1357.4038872296862\n",
      "Iteration 48, inertia 1357.3706787503602\n",
      "Iteration 49, inertia 1357.3199182447825\n",
      "Iteration 50, inertia 1357.20516214935\n",
      "Iteration 51, inertia 1357.1766533389437\n",
      "Iteration 52, inertia 1357.1652146578638\n",
      "Iteration 53, inertia 1357.1468362216199\n",
      "Iteration 54, inertia 1357.1233543111107\n",
      "Iteration 55, inertia 1357.0900097919707\n",
      "Iteration 56, inertia 1357.0730429947055\n",
      "Iteration 57, inertia 1357.0645957873012\n",
      "Iteration 58, inertia 1357.0474071975048\n",
      "Converged at iteration 58: strict convergence.\n",
      "Initialization complete\n",
      "Iteration 0, inertia 2490.194894100023\n",
      "Iteration 1, inertia 1393.3045020921852\n",
      "Iteration 2, inertia 1377.9956835941023\n",
      "Iteration 3, inertia 1374.3093010965556\n",
      "Iteration 4, inertia 1370.8819363764533\n",
      "Iteration 5, inertia 1363.9531202981896\n",
      "Iteration 6, inertia 1360.8659256577323\n",
      "Iteration 7, inertia 1360.374128556129\n"
     ]
    },
    {
     "name": "stdout",
     "output_type": "stream",
     "text": [
      "Iteration 8, inertia 1360.2356909278597\n",
      "Iteration 9, inertia 1360.1362231974329\n",
      "Iteration 10, inertia 1360.083859820155\n",
      "Iteration 11, inertia 1360.0416624253742\n",
      "Iteration 12, inertia 1360.0142113146517\n",
      "Iteration 13, inertia 1360.0036777902515\n",
      "Iteration 14, inertia 1359.9948804723151\n",
      "Iteration 15, inertia 1359.9890190246454\n",
      "Iteration 16, inertia 1359.9848722449517\n",
      "Converged at iteration 16: strict convergence.\n",
      "Initialization complete\n",
      "Iteration 0, inertia 2546.7796207443444\n",
      "Iteration 1, inertia 1381.2501141033347\n",
      "Iteration 2, inertia 1367.522013213116\n",
      "Iteration 3, inertia 1364.3828325147138\n",
      "Iteration 4, inertia 1362.848082909247\n",
      "Iteration 5, inertia 1362.3490912364987\n",
      "Iteration 6, inertia 1361.8826030203118\n",
      "Iteration 7, inertia 1361.5647111034555\n",
      "Iteration 8, inertia 1361.364350730796\n",
      "Iteration 9, inertia 1361.199746704516\n",
      "Iteration 10, inertia 1361.0741479427995\n",
      "Iteration 11, inertia 1361.0020347989155\n",
      "Iteration 12, inertia 1360.9366279920123\n",
      "Iteration 13, inertia 1360.7190877859798\n",
      "Iteration 14, inertia 1360.480406718414\n",
      "Iteration 15, inertia 1360.4289983766453\n",
      "Iteration 16, inertia 1360.3942910521184\n",
      "Iteration 17, inertia 1360.3813340664574\n",
      "Iteration 18, inertia 1360.3584673256469\n",
      "Iteration 19, inertia 1360.3386321984585\n",
      "Iteration 20, inertia 1360.3132245662591\n",
      "Iteration 21, inertia 1360.295066158739\n",
      "Iteration 22, inertia 1360.2692874619945\n",
      "Iteration 23, inertia 1360.2614474144018\n",
      "Iteration 24, inertia 1360.2492502542393\n",
      "Converged at iteration 24: strict convergence.\n",
      "done in 8.790s\n",
      "\n",
      "Homogeneity: 0.255\n",
      "Completeness: 0.844\n",
      "V-measure: 0.391\n",
      "Adjusted Rand-Index: 0.004\n",
      "Silhouette Coefficient: 0.041\n",
      "\n"
     ]
    }
   ],
   "source": [
    "from sklearn import metrics\n",
    "\n",
    "from sklearn.cluster import KMeans, MiniBatchKMeans\n",
    "\n",
    "import sys\n",
    "from time import time\n",
    "\n",
    "km = KMeans(n_clusters=10, init='k-means++', max_iter=100, n_init=10,\n",
    "                verbose=1)\n",
    "\n",
    "print(\"Clustering sparse data with %s\" % km)\n",
    "t0 = time()\n",
    "km.fit(X)\n",
    "km.predict(X)\n",
    "print(\"done in %0.3fs\" % (time() - t0))\n",
    "print()\n",
    "\n",
    "print(\"Homogeneity: %0.3f\" % metrics.homogeneity_score(labels, km.labels_))\n",
    "print(\"Completeness: %0.3f\" % metrics.completeness_score(labels, km.labels_))\n",
    "print(\"V-measure: %0.3f\" % metrics.v_measure_score(labels, km.labels_))\n",
    "print(\"Adjusted Rand-Index: %.3f\"\n",
    "      % metrics.adjusted_rand_score(labels, km.labels_))\n",
    "print(\"Silhouette Coefficient: %0.3f\"\n",
    "      % metrics.silhouette_score(X, km.labels_, sample_size=1000))\n",
    "\n",
    "print()\n",
    "\n"
   ]
  },
  {
   "cell_type": "code",
   "execution_count": 81,
   "metadata": {},
   "outputs": [
    {
     "name": "stderr",
     "output_type": "stream",
     "text": [
      "/home/becode/.local/lib/python3.8/site-packages/sklearn/utils/deprecation.py:143: FutureWarning: The sklearn.metrics.classification module is  deprecated in version 0.22 and will be removed in version 0.24. The corresponding classes / functions should instead be imported from sklearn.metrics. Anything that cannot be imported from sklearn.metrics is now part of the private API.\n",
      "  warnings.warn(message, FutureWarning)\n",
      "/home/becode/.local/lib/python3.8/site-packages/yellowbrick/utils/kneed.py:140: YellowbrickWarning: No 'knee' or 'elbow point' detected This could be due to bad clustering, no actual clusters being formed etc.\n",
      "  warnings.warn(warning_message, YellowbrickWarning)\n",
      "/home/becode/.local/lib/python3.8/site-packages/yellowbrick/cluster/elbow.py:343: YellowbrickWarning: No 'knee' or 'elbow' point detected, pass `locate_elbow=False` to remove the warning\n",
      "  warnings.warn(warning_message, YellowbrickWarning)\n"
     ]
    },
    {
     "data": {
      "image/png": "[encoded data removed]",
      "text/plain": [
       "<Figure size 576x396 with 2 Axes>"
      ]
     },
     "metadata": {},
     "output_type": "display_data"
    },
    {
     "data": {
      "text/plain": [
       "<AxesSubplot:title={'center':'Distortion Score Elbow for KMeans Clustering'}, xlabel='k', ylabel='distortion score'>"
      ]
     },
     "execution_count": 81,
     "metadata": {},
     "output_type": "execute_result"
    }
   ],
   "source": [
    "from sklearn.cluster import KMeans\n",
    "\n",
    "from yellowbrick.cluster import KElbowVisualizer\n",
    "\n",
    "# Instantiate the clustering model and visualizer\n",
    "model = KMeans()\n",
    "visualizer = KElbowVisualizer(model, k=(4,12))\n",
    "\n",
    "visualizer.fit(X)        # Fit the data to the visualizer\n",
    "visualizer.show()        # Finalize and render the figure"
   ]
  },
  {
   "cell_type": "code",
   "execution_count": 82,
   "metadata": {},
   "outputs": [
    {
     "data": {
      "text/plain": [
       "['__class__',\n",
       " '__delattr__',\n",
       " '__dict__',\n",
       " '__dir__',\n",
       " '__doc__',\n",
       " '__eq__',\n",
       " '__format__',\n",
       " '__ge__',\n",
       " '__getattr__',\n",
       " '__getattribute__',\n",
       " '__getstate__',\n",
       " '__gt__',\n",
       " '__hash__',\n",
       " '__init__',\n",
       " '__init_subclass__',\n",
       " '__le__',\n",
       " '__lt__',\n",
       " '__module__',\n",
       " '__ne__',\n",
       " '__new__',\n",
       " '__reduce__',\n",
       " '__reduce_ex__',\n",
       " '__repr__',\n",
       " '__setattr__',\n",
       " '__setstate__',\n",
       " '__sizeof__',\n",
       " '__str__',\n",
       " '__subclasshook__',\n",
       " '__weakref__',\n",
       " '_ax',\n",
       " '_check_n_features',\n",
       " '_fig',\n",
       " '_get_param_names',\n",
       " '_get_tags',\n",
       " '_more_tags',\n",
       " '_repr_html_',\n",
       " '_repr_html_inner',\n",
       " '_repr_mimebundle_',\n",
       " '_size',\n",
       " '_validate_data',\n",
       " '_wrapped',\n",
       " 'ax',\n",
       " 'axes',\n",
       " 'color',\n",
       " 'draw',\n",
       " 'elbow_score_',\n",
       " 'elbow_value_',\n",
       " 'estimator',\n",
       " 'fig',\n",
       " 'finalize',\n",
       " 'fit',\n",
       " 'force_model',\n",
       " 'get_params',\n",
       " 'is_fitted',\n",
       " 'k_scores_',\n",
       " 'k_timers_',\n",
       " 'k_values_',\n",
       " 'knee_value',\n",
       " 'kneedle',\n",
       " 'locate_elbow',\n",
       " 'metric',\n",
       " 'name',\n",
       " 'poof',\n",
       " 'score',\n",
       " 'scoring_metric',\n",
       " 'set_params',\n",
       " 'set_title',\n",
       " 'show',\n",
       " 'size',\n",
       " 'timings',\n",
       " 'title']"
      ]
     },
     "execution_count": 82,
     "metadata": {},
     "output_type": "execute_result"
    }
   ],
   "source": [
    "dir(visualizer)"
   ]
  },
  {
   "cell_type": "code",
   "execution_count": 89,
   "metadata": {},
   "outputs": [
    {
     "ename": "AttributeError",
     "evalue": "'KMeans' object has no attribute 'k_value'",
     "output_type": "error",
     "traceback": [
      "\u001b[0;31m---------------------------------------------------------------------------\u001b[0m",
      "\u001b[0;31mAttributeError\u001b[0m                            Traceback (most recent call last)",
      "\u001b[0;32m<ipython-input-89-9b25c16ed953>\u001b[0m in \u001b[0;36m<module>\u001b[0;34m\u001b[0m\n\u001b[0;32m----> 1\u001b[0;31m \u001b[0mvisualizer\u001b[0m\u001b[0;34m.\u001b[0m\u001b[0mk_value\u001b[0m\u001b[0;34m\u001b[0m\u001b[0;34m\u001b[0m\u001b[0m\n\u001b[0m",
      "\u001b[0;32m~/.local/lib/python3.8/site-packages/yellowbrick/utils/wrapper.py\u001b[0m in \u001b[0;36m__getattr__\u001b[0;34m(self, attr)\u001b[0m\n\u001b[1;32m     40\u001b[0m     \u001b[0;32mdef\u001b[0m \u001b[0m__getattr__\u001b[0m\u001b[0;34m(\u001b[0m\u001b[0mself\u001b[0m\u001b[0;34m,\u001b[0m \u001b[0mattr\u001b[0m\u001b[0;34m)\u001b[0m\u001b[0;34m:\u001b[0m\u001b[0;34m\u001b[0m\u001b[0;34m\u001b[0m\u001b[0m\n\u001b[1;32m     41\u001b[0m         \u001b[0;31m# proxy to the wrapped object\u001b[0m\u001b[0;34m\u001b[0m\u001b[0;34m\u001b[0m\u001b[0;34m\u001b[0m\u001b[0m\n\u001b[0;32m---> 42\u001b[0;31m         \u001b[0;32mreturn\u001b[0m \u001b[0mgetattr\u001b[0m\u001b[0;34m(\u001b[0m\u001b[0mself\u001b[0m\u001b[0;34m.\u001b[0m\u001b[0m_wrapped\u001b[0m\u001b[0;34m,\u001b[0m \u001b[0mattr\u001b[0m\u001b[0;34m)\u001b[0m\u001b[0;34m\u001b[0m\u001b[0;34m\u001b[0m\u001b[0m\n\u001b[0m",
      "\u001b[0;31mAttributeError\u001b[0m: 'KMeans' object has no attribute 'k_value'"
     ]
    }
   ],
   "source": [
    "visualizer.k_value"
   ]
  },
  {
   "cell_type": "code",
   "execution_count": 42,
   "metadata": {},
   "outputs": [
    {
     "name": "stdout",
     "output_type": "stream",
     "text": [
      "Initialization complete\n",
      "Iteration 0, inertia 2494.667650502895\n",
      "Iteration 1, inertia 1390.539485246563\n",
      "Iteration 2, inertia 1376.7998175027792\n",
      "Iteration 3, inertia 1372.5699341802956\n",
      "Iteration 4, inertia 1370.4440327438615\n",
      "Iteration 5, inertia 1369.247207736083\n",
      "Iteration 6, inertia 1368.5400439157554\n",
      "Iteration 7, inertia 1368.0252792224621\n",
      "Iteration 8, inertia 1367.5440700094487\n",
      "Iteration 9, inertia 1367.0249739826202\n",
      "Iteration 10, inertia 1366.6211158185586\n",
      "Iteration 11, inertia 1366.3249919404689\n",
      "Iteration 12, inertia 1366.1287425035378\n",
      "Iteration 13, inertia 1365.7900281181476\n",
      "Iteration 14, inertia 1365.4200418297423\n",
      "Iteration 15, inertia 1365.2063366437385\n",
      "Iteration 16, inertia 1365.0673551549212\n",
      "Iteration 17, inertia 1364.9453791071433\n",
      "Iteration 18, inertia 1364.775178847103\n",
      "Iteration 19, inertia 1364.709191725006\n",
      "Iteration 20, inertia 1364.64737398419\n",
      "Iteration 21, inertia 1364.612879365588\n",
      "Iteration 22, inertia 1364.5947518309217\n",
      "Iteration 23, inertia 1364.5850236259514\n",
      "Converged at iteration 23: strict convergence.\n",
      "Initialization complete\n",
      "Iteration 0, inertia 2541.150922825385\n",
      "Iteration 1, inertia 1421.2993335203248\n",
      "Iteration 2, inertia 1410.0701056325445\n",
      "Iteration 3, inertia 1403.3411273029897\n",
      "Iteration 4, inertia 1397.4663985460454\n",
      "Iteration 5, inertia 1393.9068333056232\n",
      "Iteration 6, inertia 1392.3274663072948\n",
      "Iteration 7, inertia 1391.6213812439323\n",
      "Iteration 8, inertia 1391.1981256178829\n",
      "Iteration 9, inertia 1390.866430814783\n",
      "Iteration 10, inertia 1390.5807578369631\n",
      "Iteration 11, inertia 1390.337216365849\n",
      "Iteration 12, inertia 1390.2326172414353\n",
      "Iteration 13, inertia 1390.196082557177\n",
      "Iteration 14, inertia 1390.1264466547768\n",
      "Iteration 15, inertia 1390.090755766675\n",
      "Iteration 16, inertia 1390.0635138056923\n",
      "Iteration 17, inertia 1390.0309798750854\n",
      "Iteration 18, inertia 1390.0252924137433\n",
      "Iteration 19, inertia 1390.0197929066674\n",
      "Converged at iteration 19: strict convergence.\n",
      "Initialization complete\n",
      "Iteration 0, inertia 2490.163344622338\n",
      "Iteration 1, inertia 1381.555044745309\n",
      "Iteration 2, inertia 1368.4285958513476\n",
      "Iteration 3, inertia 1364.197361238066\n",
      "Iteration 4, inertia 1362.7983250831148\n",
      "Iteration 5, inertia 1362.2759283058435\n",
      "Iteration 6, inertia 1362.104579446608\n",
      "Iteration 7, inertia 1362.0283296813095\n",
      "Iteration 8, inertia 1361.9738974362128\n",
      "Iteration 9, inertia 1361.9401415582652\n",
      "Iteration 10, inertia 1361.9303012578903\n",
      "Iteration 11, inertia 1361.9139428095466\n",
      "Iteration 12, inertia 1361.9011915190965\n",
      "Iteration 13, inertia 1361.8948378223602\n",
      "Converged at iteration 13: strict convergence.\n",
      "Initialization complete\n",
      "Iteration 0, inertia 2519.596712216316\n",
      "Iteration 1, inertia 1399.7329479450048\n",
      "Iteration 2, inertia 1377.5117037569512\n",
      "Iteration 3, inertia 1366.0171483672946\n",
      "Iteration 4, inertia 1362.9965240374386\n",
      "Iteration 5, inertia 1361.3672590114165\n",
      "Iteration 6, inertia 1360.3867510832945\n",
      "Iteration 7, inertia 1359.6356610778619\n",
      "Iteration 8, inertia 1359.09214983385\n",
      "Iteration 9, inertia 1358.8221102310497\n",
      "Iteration 10, inertia 1358.577170207738\n",
      "Iteration 11, inertia 1358.484560286299\n",
      "Iteration 12, inertia 1358.4491821173658\n",
      "Iteration 13, inertia 1358.4324547003253\n",
      "Iteration 14, inertia 1358.417786766716\n",
      "Iteration 15, inertia 1358.4114761639455\n",
      "Converged at iteration 15: strict convergence.\n",
      "Initialization complete\n",
      "Iteration 0, inertia 2458.1393571268413\n",
      "Iteration 1, inertia 1399.9843258189924\n",
      "Iteration 2, inertia 1381.6460010103515\n",
      "Iteration 3, inertia 1376.6018724344551\n",
      "Iteration 4, inertia 1373.982526908898\n",
      "Iteration 5, inertia 1372.4475305513752\n",
      "Iteration 6, inertia 1371.434531661817\n",
      "Iteration 7, inertia 1370.906392841334\n",
      "Iteration 8, inertia 1370.475631688806\n",
      "Iteration 9, inertia 1370.1650233352582\n",
      "Iteration 10, inertia 1369.8126790555298\n",
      "Iteration 11, inertia 1369.3309714294014\n",
      "Iteration 12, inertia 1368.9055085410844\n",
      "Iteration 13, inertia 1368.4863316695807\n",
      "Iteration 14, inertia 1368.1012504746202\n",
      "Iteration 15, inertia 1367.603559731083\n",
      "Iteration 16, inertia 1366.996969895803\n",
      "Iteration 17, inertia 1366.141298241467\n",
      "Iteration 18, inertia 1365.4737140441282\n",
      "Iteration 19, inertia 1364.869790039691\n",
      "Iteration 20, inertia 1364.5295802759915\n",
      "Iteration 21, inertia 1364.3968361514953\n",
      "Iteration 22, inertia 1364.333668287713\n",
      "Iteration 23, inertia 1364.3182967703212\n",
      "Iteration 24, inertia 1364.302094317101\n",
      "Iteration 25, inertia 1364.28691988944\n",
      "Converged at iteration 25: strict convergence.\n",
      "Initialization complete\n",
      "Iteration 0, inertia 2447.715770231476\n",
      "Iteration 1, inertia 1372.3051366106636\n",
      "Iteration 2, inertia 1356.2685205712137\n",
      "Iteration 3, inertia 1351.7443308415238\n",
      "Iteration 4, inertia 1350.2388982267273\n",
      "Iteration 5, inertia 1349.5712871946814\n",
      "Iteration 6, inertia 1349.0764822523663\n",
      "Iteration 7, inertia 1348.5819473338452\n",
      "Iteration 8, inertia 1348.1675318693726\n",
      "Iteration 9, inertia 1347.7936332941856\n",
      "Iteration 10, inertia 1347.2920936036858\n",
      "Iteration 11, inertia 1346.8114193395804\n",
      "Iteration 12, inertia 1346.4249058121552\n",
      "Iteration 13, inertia 1346.2896522294393\n",
      "Iteration 14, inertia 1346.2470921703882\n",
      "Iteration 15, inertia 1346.2350540831721\n",
      "Iteration 16, inertia 1346.2292710035583\n",
      "Converged at iteration 16: strict convergence.\n",
      "Initialization complete\n",
      "Iteration 0, inertia 2467.710758394579\n",
      "Iteration 1, inertia 1406.3372081208508\n",
      "Iteration 2, inertia 1395.592492753212\n",
      "Iteration 3, inertia 1390.518786619531\n",
      "Iteration 4, inertia 1388.7978070017448\n",
      "Iteration 5, inertia 1387.4122251430529\n",
      "Iteration 6, inertia 1386.5668427767616\n",
      "Iteration 7, inertia 1386.1805688211498\n",
      "Iteration 8, inertia 1385.893943770042\n",
      "Iteration 9, inertia 1385.5765732735683\n",
      "Iteration 10, inertia 1385.4012182113522\n",
      "Iteration 11, inertia 1385.2347127257399\n",
      "Iteration 12, inertia 1385.1309891890933\n",
      "Iteration 13, inertia 1385.0745532680905\n",
      "Iteration 14, inertia 1385.0281141967241\n",
      "Iteration 15, inertia 1385.0092117576542\n",
      "Iteration 16, inertia 1384.9881192285254\n",
      "Iteration 17, inertia 1384.9705436764766\n",
      "Iteration 18, inertia 1384.9655061639648\n",
      "Converged at iteration 18: strict convergence.\n",
      "Initialization complete\n",
      "Iteration 0, inertia 2521.8662597789003\n",
      "Iteration 1, inertia 1384.832905741126\n",
      "Iteration 2, inertia 1372.0432647791258\n",
      "Iteration 3, inertia 1368.221064912643\n",
      "Iteration 4, inertia 1366.3255297701348\n",
      "Iteration 5, inertia 1363.2407201379451\n",
      "Iteration 6, inertia 1355.9866724954356\n",
      "Iteration 7, inertia 1353.5003908027204\n",
      "Iteration 8, inertia 1352.9853282916793\n",
      "Iteration 9, inertia 1352.724629424924\n",
      "Iteration 10, inertia 1352.5502699084718\n",
      "Iteration 11, inertia 1352.3310958933666\n",
      "Iteration 12, inertia 1352.0366575844473\n",
      "Iteration 13, inertia 1351.8787353917317\n",
      "Iteration 14, inertia 1351.7605523223656\n",
      "Iteration 15, inertia 1351.65613936244\n",
      "Iteration 16, inertia 1351.5803499275012\n",
      "Iteration 17, inertia 1351.5257638857183\n",
      "Iteration 18, inertia 1351.5067156466273\n",
      "Converged at iteration 18: strict convergence.\n",
      "Initialization complete\n",
      "Iteration 0, inertia 2508.73453020719\n",
      "Iteration 1, inertia 1378.5822157961375\n",
      "Iteration 2, inertia 1367.829985871061\n",
      "Iteration 3, inertia 1360.0248068864692\n",
      "Iteration 4, inertia 1356.8902913003483\n",
      "Iteration 5, inertia 1355.6822128023814\n",
      "Iteration 6, inertia 1354.7882660718717\n",
      "Iteration 7, inertia 1354.4209552030602\n",
      "Iteration 8, inertia 1354.2615014571604\n",
      "Iteration 9, inertia 1354.1215584396607\n",
      "Iteration 10, inertia 1354.0386551891174\n",
      "Iteration 11, inertia 1353.983705289984\n",
      "Iteration 12, inertia 1353.9555673686204\n",
      "Iteration 13, inertia 1353.9335430984465\n",
      "Iteration 14, inertia 1353.9174142955137\n",
      "Converged at iteration 14: strict convergence.\n",
      "Initialization complete\n",
      "Iteration 0, inertia 2443.246795459873\n",
      "Iteration 1, inertia 1383.7063380175014\n",
      "Iteration 2, inertia 1372.319076734907\n",
      "Iteration 3, inertia 1369.0870494743538\n",
      "Iteration 4, inertia 1366.8224960382938\n",
      "Iteration 5, inertia 1364.5316694524283\n",
      "Iteration 6, inertia 1362.4988758139189\n",
      "Iteration 7, inertia 1361.6782849823785\n",
      "Iteration 8, inertia 1360.9062767408284\n",
      "Iteration 9, inertia 1360.19825282857\n",
      "Iteration 10, inertia 1359.5424776930745\n",
      "Iteration 11, inertia 1359.2054148283169\n",
      "Iteration 12, inertia 1358.9625386945943\n",
      "Iteration 13, inertia 1358.8019392181595\n",
      "Iteration 14, inertia 1358.6907265827012\n",
      "Iteration 15, inertia 1358.5418117912445\n",
      "Iteration 16, inertia 1358.4458725164552\n",
      "Iteration 17, inertia 1358.3586007889153\n",
      "Iteration 18, inertia 1358.2634842248556\n",
      "Iteration 19, inertia 1358.162428483126\n",
      "Iteration 20, inertia 1358.07927320689\n",
      "Iteration 21, inertia 1357.9771347508342\n",
      "Iteration 22, inertia 1357.7751576331832\n",
      "Iteration 23, inertia 1357.548925823896\n",
      "Iteration 24, inertia 1357.2933586829222\n",
      "Iteration 25, inertia 1357.0358273347833\n"
     ]
    },
    {
     "name": "stdout",
     "output_type": "stream",
     "text": [
      "Iteration 26, inertia 1356.5119942367942\n",
      "Iteration 27, inertia 1354.8995099386502\n",
      "Iteration 28, inertia 1351.1071681401481\n",
      "Iteration 29, inertia 1349.3286418172468\n",
      "Iteration 30, inertia 1348.9503459430662\n",
      "Iteration 31, inertia 1348.912017169323\n",
      "Iteration 32, inertia 1348.9065097421478\n",
      "Converged at iteration 32: strict convergence.\n"
     ]
    }
   ],
   "source": [
    "X_new = km.fit_transform(X)"
   ]
  },
  {
   "cell_type": "code",
   "execution_count": 48,
   "metadata": {},
   "outputs": [],
   "source": [
    "y_kmeans = km.predict(X)"
   ]
  },
  {
   "cell_type": "code",
   "execution_count": 47,
   "metadata": {},
   "outputs": [
    {
     "data": {
      "text/plain": [
       "array([9, 7, 1, ..., 9, 5, 6], dtype=int32)"
      ]
     },
     "execution_count": 47,
     "metadata": {},
     "output_type": "execute_result"
    }
   ],
   "source": [
    "X_pred"
   ]
  },
  {
   "cell_type": "code",
   "execution_count": 44,
   "metadata": {},
   "outputs": [
    {
     "data": {
      "text/plain": [
       "array([1.10232743, 1.07247086, 1.04598569, ..., 1.08039447, 1.04319894,\n",
       "       1.0186354 ])"
      ]
     },
     "execution_count": 44,
     "metadata": {},
     "output_type": "execute_result"
    }
   ],
   "source": [
    "X_new[:,0]"
   ]
  },
  {
   "cell_type": "code",
   "execution_count": 51,
   "metadata": {},
   "outputs": [
    {
     "data": {
      "text/plain": [
       "<matplotlib.collections.PathCollection at 0x7f837c3b61c0>"
      ]
     },
     "execution_count": 51,
     "metadata": {},
     "output_type": "execute_result"
    },
    {
     "data": {
      "image/png": "[encoded data removed]",
      "text/plain": [
       "<Figure size 432x288 with 1 Axes>"
      ]
     },
     "metadata": {
      "needs_background": "light"
     },
     "output_type": "display_data"
    }
   ],
   "source": [
    "import matplotlib.pyplot as plt\n",
    "plt.scatter(X_new[:, 0], X_new[:, 1], c=y_kmeans, s=50, cmap='viridis')\n"
   ]
  },
  {
   "cell_type": "code",
   "execution_count": 95,
   "metadata": {},
   "outputs": [
    {
     "data": {
      "image/png": "[encoded data removed]",
      "text/plain": [
       "<Figure size 576x396 with 1 Axes>"
      ]
     },
     "metadata": {},
     "output_type": "display_data"
    },
    {
     "name": "stderr",
     "output_type": "stream",
     "text": [
      "/home/becode/.local/lib/python3.8/site-packages/sklearn/base.py:209: FutureWarning: From version 0.24, get_params will raise an AttributeError if a parameter cannot be retrieved as an instance attribute. Previously it would return None.\n",
      "  warnings.warn('From version 0.24, get_params will raise an '\n"
     ]
    },
    {
     "data": {
      "text/plain": [
       "SilhouetteVisualizer(ax=<AxesSubplot:title={'center':'Silhouette Plot of KMeans Clustering for 1729 Samples in 10 Centers'}, xlabel='silhouette coefficient values', ylabel='cluster label'>,\n",
       "                     colors='yellowbrick', model=None)"
      ]
     },
     "execution_count": 95,
     "metadata": {},
     "output_type": "execute_result"
    }
   ],
   "source": [
    "from sklearn.cluster import KMeans\n",
    "\n",
    "from yellowbrick.cluster import silhouette_visualizer\n",
    "from yellowbrick.datasets import load_credit\n",
    "\n",
    "# Use the quick method and immediately show the figure\n",
    "silhouette_visualizer(km, X, colors='yellowbrick')"
   ]
  },
  {
   "cell_type": "code",
   "execution_count": 102,
   "metadata": {},
   "outputs": [],
   "source": [
    "import sklearn.preprocessing as pp\n",
    "\n",
    "def cosine_similarities(X):\n",
    "    #X_norm = pp.normalize(X.tocsc(), axis=0)\n",
    "    return X.T * X"
   ]
  },
  {
   "cell_type": "code",
   "execution_count": 103,
   "metadata": {},
   "outputs": [],
   "source": [
    "X_cos = cosine_similarities(X)"
   ]
  },
  {
   "cell_type": "code",
   "execution_count": 101,
   "metadata": {},
   "outputs": [
    {
     "data": {
      "text/plain": [
       "scipy.sparse.csr.csr_matrix"
      ]
     },
     "execution_count": 101,
     "metadata": {},
     "output_type": "execute_result"
    }
   ],
   "source": [
    "type(X_cos)"
   ]
  },
  {
   "cell_type": "code",
   "execution_count": 38,
   "metadata": {},
   "outputs": [
    {
     "data": {
      "text/plain": [
       "0"
      ]
     },
     "execution_count": 38,
     "metadata": {},
     "output_type": "execute_result"
    }
   ],
   "source": [
    "len(labels)\n",
    "labels.fillna('Nonumber', inplace=True)\n",
    "labels.isna().sum()"
   ]
  },
  {
   "cell_type": "code",
   "execution_count": 33,
   "metadata": {},
   "outputs": [
    {
     "data": {
      "text/plain": [
       "1729"
      ]
     },
     "execution_count": 33,
     "metadata": {},
     "output_type": "execute_result"
    }
   ],
   "source": [
    "len(km.labels_)"
   ]
  },
  {
   "cell_type": "code",
   "execution_count": 23,
   "metadata": {},
   "outputs": [
    {
     "name": "stdout",
     "output_type": "stream",
     "text": [
      "<class 'numpy.ndarray'>\n"
     ]
    }
   ],
   "source": [
    "from sklearn.metrics.pairwise import cosine_similarity\n",
    "\n",
    "X = cosine_similarity(tfidf_vectorizer_vectors)\n",
    "\n"
   ]
  },
  {
   "cell_type": "code",
   "execution_count": 26,
   "metadata": {},
   "outputs": [
    {
     "data": {
      "text/plain": [
       "(1729, 7323)"
      ]
     },
     "execution_count": 26,
     "metadata": {},
     "output_type": "execute_result"
    }
   ],
   "source": [
    "tfidf_vectorizer_vectors.shape\n"
   ]
  },
  {
   "cell_type": "code",
   "execution_count": 27,
   "metadata": {},
   "outputs": [
    {
     "data": {
      "text/plain": [
       "(1729, 1729)"
      ]
     },
     "execution_count": 27,
     "metadata": {},
     "output_type": "execute_result"
    }
   ],
   "source": [
    "X.shape"
   ]
  },
  {
   "cell_type": "code",
   "execution_count": 28,
   "metadata": {},
   "outputs": [],
   "source": [
    "from sklearn.neighbors import NearestNeighbors\n",
    "neigh = NearestNeighbors(n_neighbors=5, metric='cosine')\n",
    "cos = neigh.fit(tfidf_vectorizer_vectors)"
   ]
  },
  {
   "cell_type": "code",
   "execution_count": 31,
   "metadata": {},
   "outputs": [
    {
     "data": {
      "text/plain": [
       "NearestNeighbors(metric='cosine')"
      ]
     },
     "execution_count": 31,
     "metadata": {},
     "output_type": "execute_result"
    }
   ],
   "source": [
    "cos"
   ]
  },
  {
   "cell_type": "code",
   "execution_count": null,
   "metadata": {},
   "outputs": [],
   "source": [
    "def max_n(row_data, row_indices, n):\n",
    "        i = row_data.argsort()[-n:]\n",
    "        # i = row_data.argpartition(-n)[-n:]\n",
    "        top_values = row_data[i]\n",
    "        top_indices = row_indices[i]  # do the sparse indices matter?\n",
    "\n",
    "        return top_values, top_indices, i"
   ]
  },
  {
   "cell_type": "code",
   "execution_count": null,
   "metadata": {},
   "outputs": [],
   "source": [
    "# Create a tool and make it public"
   ]
  },
  {
   "cell_type": "code",
   "execution_count": 91,
   "metadata": {},
   "outputs": [
    {
     "ename": "TypeError",
     "evalue": "sparse matrix length is ambiguous; use getnnz() or shape[0]",
     "output_type": "error",
     "traceback": [
      "\u001b[0;31m---------------------------------------------------------------------------\u001b[0m",
      "\u001b[0;31mTypeError\u001b[0m                                 Traceback (most recent call last)",
      "\u001b[0;32m<ipython-input-91-4a381a7d92a0>\u001b[0m in \u001b[0;36m<module>\u001b[0;34m\u001b[0m\n\u001b[1;32m      6\u001b[0m \u001b[0;31m#sample = read_sample(FCPS_SAMPLES.SAMPLE_CHAINLINK)\u001b[0m\u001b[0;34m\u001b[0m\u001b[0;34m\u001b[0m\u001b[0;34m\u001b[0m\u001b[0m\n\u001b[1;32m      7\u001b[0m \u001b[0;31m# Create DBSCAN algorithm.\u001b[0m\u001b[0;34m\u001b[0m\u001b[0;34m\u001b[0m\u001b[0;34m\u001b[0m\u001b[0m\n\u001b[0;32m----> 8\u001b[0;31m \u001b[0mdbscan_instance\u001b[0m \u001b[0;34m=\u001b[0m \u001b[0mdbscan\u001b[0m\u001b[0;34m(\u001b[0m\u001b[0mX\u001b[0m\u001b[0;34m,\u001b[0m \u001b[0;36m0.2\u001b[0m\u001b[0;34m,\u001b[0m \u001b[0;36m10\u001b[0m\u001b[0;34m)\u001b[0m\u001b[0;34m\u001b[0m\u001b[0;34m\u001b[0m\u001b[0m\n\u001b[0m\u001b[1;32m      9\u001b[0m \u001b[0;31m# Start processing by DBSCAN.\u001b[0m\u001b[0;34m\u001b[0m\u001b[0;34m\u001b[0m\u001b[0;34m\u001b[0m\u001b[0m\n\u001b[1;32m     10\u001b[0m \u001b[0mdbscan_instance\u001b[0m\u001b[0;34m.\u001b[0m\u001b[0mprocess\u001b[0m\u001b[0;34m(\u001b[0m\u001b[0;34m)\u001b[0m\u001b[0;34m\u001b[0m\u001b[0;34m\u001b[0m\u001b[0m\n",
      "\u001b[0;32m~/.local/lib/python3.8/site-packages/pyclustering/cluster/dbscan.py\u001b[0m in \u001b[0;36m__init__\u001b[0;34m(self, data, eps, neighbors, ccore, **kwargs)\u001b[0m\n\u001b[1;32m     93\u001b[0m         \u001b[0mself\u001b[0m\u001b[0;34m.\u001b[0m\u001b[0m__neighbors\u001b[0m \u001b[0;34m=\u001b[0m \u001b[0mneighbors\u001b[0m\u001b[0;34m\u001b[0m\u001b[0;34m\u001b[0m\u001b[0m\n\u001b[1;32m     94\u001b[0m \u001b[0;34m\u001b[0m\u001b[0m\n\u001b[0;32m---> 95\u001b[0;31m         \u001b[0mself\u001b[0m\u001b[0;34m.\u001b[0m\u001b[0m__visited\u001b[0m \u001b[0;34m=\u001b[0m \u001b[0;34m[\u001b[0m\u001b[0;32mFalse\u001b[0m\u001b[0;34m]\u001b[0m \u001b[0;34m*\u001b[0m \u001b[0mlen\u001b[0m\u001b[0;34m(\u001b[0m\u001b[0mself\u001b[0m\u001b[0;34m.\u001b[0m\u001b[0m__pointer_data\u001b[0m\u001b[0;34m)\u001b[0m\u001b[0;34m\u001b[0m\u001b[0;34m\u001b[0m\u001b[0m\n\u001b[0m\u001b[1;32m     96\u001b[0m         \u001b[0mself\u001b[0m\u001b[0;34m.\u001b[0m\u001b[0m__belong\u001b[0m \u001b[0;34m=\u001b[0m \u001b[0;34m[\u001b[0m\u001b[0;32mFalse\u001b[0m\u001b[0;34m]\u001b[0m \u001b[0;34m*\u001b[0m \u001b[0mlen\u001b[0m\u001b[0;34m(\u001b[0m\u001b[0mself\u001b[0m\u001b[0;34m.\u001b[0m\u001b[0m__pointer_data\u001b[0m\u001b[0;34m)\u001b[0m\u001b[0;34m\u001b[0m\u001b[0;34m\u001b[0m\u001b[0m\n\u001b[1;32m     97\u001b[0m \u001b[0;34m\u001b[0m\u001b[0m\n",
      "\u001b[0;32m~/.local/lib/python3.8/site-packages/scipy/sparse/base.py\u001b[0m in \u001b[0;36m__len__\u001b[0;34m(self)\u001b[0m\n\u001b[1;32m    289\u001b[0m     \u001b[0;31m# non-zeros is more important.  For now, raise an exception!\u001b[0m\u001b[0;34m\u001b[0m\u001b[0;34m\u001b[0m\u001b[0;34m\u001b[0m\u001b[0m\n\u001b[1;32m    290\u001b[0m     \u001b[0;32mdef\u001b[0m \u001b[0m__len__\u001b[0m\u001b[0;34m(\u001b[0m\u001b[0mself\u001b[0m\u001b[0;34m)\u001b[0m\u001b[0;34m:\u001b[0m\u001b[0;34m\u001b[0m\u001b[0;34m\u001b[0m\u001b[0m\n\u001b[0;32m--> 291\u001b[0;31m         raise TypeError(\"sparse matrix length is ambiguous; use getnnz()\"\n\u001b[0m\u001b[1;32m    292\u001b[0m                         \" or shape[0]\")\n\u001b[1;32m    293\u001b[0m \u001b[0;34m\u001b[0m\u001b[0m\n",
      "\u001b[0;31mTypeError\u001b[0m: sparse matrix length is ambiguous; use getnnz() or shape[0]"
     ]
    }
   ],
   "source": [
    "from pyclustering.cluster.dbscan import dbscan\n",
    "from pyclustering.cluster import cluster_visualizer\n",
    "from pyclustering.utils import read_sample\n",
    "from pyclustering.samples.definitions import FCPS_SAMPLES\n",
    "# Sample for cluster analysis.\n",
    "#sample = read_sample(FCPS_SAMPLES.SAMPLE_CHAINLINK)\n",
    "# Create DBSCAN algorithm.\n",
    "dbscan_instance = dbscan(X, 0.2, 10)\n",
    "# Start processing by DBSCAN.\n",
    "dbscan_instance.process()\n",
    "# Obtain results of clustering.\n",
    "clusters = dbscan_instance.get_clusters()\n",
    "noise = dbscan_instance.get_noise()\n",
    "# Visualize clustering results\n",
    "visualizer = cluster_visualizer()\n",
    "visualizer.append_clusters(clusters, X)\n",
    "visualizer.append_cluster(noise, X, marker='x')\n",
    "visualizer.show()"
   ]
  },
  {
   "cell_type": "code",
   "execution_count": 150,
   "metadata": {},
   "outputs": [
    {
     "name": "stdout",
     "output_type": "stream",
     "text": [
      "Cluster memberships:\n",
      "[-1 -1 -1 ... -1 -1 -1]\n"
     ]
    }
   ],
   "source": [
    "from sklearn.cluster import DBSCAN\n",
    "\n",
    "\n",
    "dbscan = DBSCAN()\n",
    "clusters = dbscan.fit_predict(X)\n",
    "print(\"Cluster memberships:\\n{}\".format(clusters))"
   ]
  },
  {
   "cell_type": "code",
   "execution_count": 155,
   "metadata": {
    "scrolled": true
   },
   "outputs": [
    {
     "ename": "ValueError",
     "evalue": "'c' argument has 1729 elements, which is inconsistent with 'x' and 'y' with size 1.",
     "output_type": "error",
     "traceback": [
      "\u001b[0;31m---------------------------------------------------------------------------\u001b[0m",
      "\u001b[0;31mValueError\u001b[0m                                Traceback (most recent call last)",
      "\u001b[0;32m~/.local/lib/python3.8/site-packages/matplotlib/axes/_axes.py\u001b[0m in \u001b[0;36m_parse_scatter_color_args\u001b[0;34m(c, edgecolors, kwargs, xsize, get_next_color_func)\u001b[0m\n\u001b[1;32m   4290\u001b[0m             \u001b[0;32mtry\u001b[0m\u001b[0;34m:\u001b[0m  \u001b[0;31m# Is 'c' acceptable as PathCollection facecolors?\u001b[0m\u001b[0;34m\u001b[0m\u001b[0;34m\u001b[0m\u001b[0m\n\u001b[0;32m-> 4291\u001b[0;31m                 \u001b[0mcolors\u001b[0m \u001b[0;34m=\u001b[0m \u001b[0mmcolors\u001b[0m\u001b[0;34m.\u001b[0m\u001b[0mto_rgba_array\u001b[0m\u001b[0;34m(\u001b[0m\u001b[0mc\u001b[0m\u001b[0;34m)\u001b[0m\u001b[0;34m\u001b[0m\u001b[0;34m\u001b[0m\u001b[0m\n\u001b[0m\u001b[1;32m   4292\u001b[0m             \u001b[0;32mexcept\u001b[0m \u001b[0;34m(\u001b[0m\u001b[0mTypeError\u001b[0m\u001b[0;34m,\u001b[0m \u001b[0mValueError\u001b[0m\u001b[0;34m)\u001b[0m \u001b[0;32mas\u001b[0m \u001b[0merr\u001b[0m\u001b[0;34m:\u001b[0m\u001b[0;34m\u001b[0m\u001b[0;34m\u001b[0m\u001b[0m\n",
      "\u001b[0;32m~/.local/lib/python3.8/site-packages/matplotlib/colors.py\u001b[0m in \u001b[0;36mto_rgba_array\u001b[0;34m(c, alpha)\u001b[0m\n\u001b[1;32m    340\u001b[0m     \u001b[0;32melse\u001b[0m\u001b[0;34m:\u001b[0m\u001b[0;34m\u001b[0m\u001b[0;34m\u001b[0m\u001b[0m\n\u001b[0;32m--> 341\u001b[0;31m         \u001b[0;32mreturn\u001b[0m \u001b[0mnp\u001b[0m\u001b[0;34m.\u001b[0m\u001b[0marray\u001b[0m\u001b[0;34m(\u001b[0m\u001b[0;34m[\u001b[0m\u001b[0mto_rgba\u001b[0m\u001b[0;34m(\u001b[0m\u001b[0mcc\u001b[0m\u001b[0;34m,\u001b[0m \u001b[0malpha\u001b[0m\u001b[0;34m)\u001b[0m \u001b[0;32mfor\u001b[0m \u001b[0mcc\u001b[0m \u001b[0;32min\u001b[0m \u001b[0mc\u001b[0m\u001b[0;34m]\u001b[0m\u001b[0;34m)\u001b[0m\u001b[0;34m\u001b[0m\u001b[0;34m\u001b[0m\u001b[0m\n\u001b[0m\u001b[1;32m    342\u001b[0m \u001b[0;34m\u001b[0m\u001b[0m\n",
      "\u001b[0;32m~/.local/lib/python3.8/site-packages/matplotlib/colors.py\u001b[0m in \u001b[0;36m<listcomp>\u001b[0;34m(.0)\u001b[0m\n\u001b[1;32m    340\u001b[0m     \u001b[0;32melse\u001b[0m\u001b[0;34m:\u001b[0m\u001b[0;34m\u001b[0m\u001b[0;34m\u001b[0m\u001b[0m\n\u001b[0;32m--> 341\u001b[0;31m         \u001b[0;32mreturn\u001b[0m \u001b[0mnp\u001b[0m\u001b[0;34m.\u001b[0m\u001b[0marray\u001b[0m\u001b[0;34m(\u001b[0m\u001b[0;34m[\u001b[0m\u001b[0mto_rgba\u001b[0m\u001b[0;34m(\u001b[0m\u001b[0mcc\u001b[0m\u001b[0;34m,\u001b[0m \u001b[0malpha\u001b[0m\u001b[0;34m)\u001b[0m \u001b[0;32mfor\u001b[0m \u001b[0mcc\u001b[0m \u001b[0;32min\u001b[0m \u001b[0mc\u001b[0m\u001b[0;34m]\u001b[0m\u001b[0;34m)\u001b[0m\u001b[0;34m\u001b[0m\u001b[0;34m\u001b[0m\u001b[0m\n\u001b[0m\u001b[1;32m    342\u001b[0m \u001b[0;34m\u001b[0m\u001b[0m\n",
      "\u001b[0;32m~/.local/lib/python3.8/site-packages/matplotlib/colors.py\u001b[0m in \u001b[0;36mto_rgba\u001b[0;34m(c, alpha)\u001b[0m\n\u001b[1;32m    188\u001b[0m     \u001b[0;32mif\u001b[0m \u001b[0mrgba\u001b[0m \u001b[0;32mis\u001b[0m \u001b[0;32mNone\u001b[0m\u001b[0;34m:\u001b[0m  \u001b[0;31m# Suppress exception chaining of cache lookup failure.\u001b[0m\u001b[0;34m\u001b[0m\u001b[0;34m\u001b[0m\u001b[0m\n\u001b[0;32m--> 189\u001b[0;31m         \u001b[0mrgba\u001b[0m \u001b[0;34m=\u001b[0m \u001b[0m_to_rgba_no_colorcycle\u001b[0m\u001b[0;34m(\u001b[0m\u001b[0mc\u001b[0m\u001b[0;34m,\u001b[0m \u001b[0malpha\u001b[0m\u001b[0;34m)\u001b[0m\u001b[0;34m\u001b[0m\u001b[0;34m\u001b[0m\u001b[0m\n\u001b[0m\u001b[1;32m    190\u001b[0m         \u001b[0;32mtry\u001b[0m\u001b[0;34m:\u001b[0m\u001b[0;34m\u001b[0m\u001b[0;34m\u001b[0m\u001b[0m\n",
      "\u001b[0;32m~/.local/lib/python3.8/site-packages/matplotlib/colors.py\u001b[0m in \u001b[0;36m_to_rgba_no_colorcycle\u001b[0;34m(c, alpha)\u001b[0m\n\u001b[1;32m    262\u001b[0m     \u001b[0;32mif\u001b[0m \u001b[0;32mnot\u001b[0m \u001b[0mnp\u001b[0m\u001b[0;34m.\u001b[0m\u001b[0miterable\u001b[0m\u001b[0;34m(\u001b[0m\u001b[0mc\u001b[0m\u001b[0;34m)\u001b[0m\u001b[0;34m:\u001b[0m\u001b[0;34m\u001b[0m\u001b[0;34m\u001b[0m\u001b[0m\n\u001b[0;32m--> 263\u001b[0;31m         \u001b[0;32mraise\u001b[0m \u001b[0mValueError\u001b[0m\u001b[0;34m(\u001b[0m\u001b[0;34mf\"Invalid RGBA argument: {orig_c!r}\"\u001b[0m\u001b[0;34m)\u001b[0m\u001b[0;34m\u001b[0m\u001b[0;34m\u001b[0m\u001b[0m\n\u001b[0m\u001b[1;32m    264\u001b[0m     \u001b[0;32mif\u001b[0m \u001b[0mlen\u001b[0m\u001b[0;34m(\u001b[0m\u001b[0mc\u001b[0m\u001b[0;34m)\u001b[0m \u001b[0;32mnot\u001b[0m \u001b[0;32min\u001b[0m \u001b[0;34m[\u001b[0m\u001b[0;36m3\u001b[0m\u001b[0;34m,\u001b[0m \u001b[0;36m4\u001b[0m\u001b[0;34m]\u001b[0m\u001b[0;34m:\u001b[0m\u001b[0;34m\u001b[0m\u001b[0;34m\u001b[0m\u001b[0m\n",
      "\u001b[0;31mValueError\u001b[0m: Invalid RGBA argument: -1.0",
      "\nThe above exception was the direct cause of the following exception:\n",
      "\u001b[0;31mValueError\u001b[0m                                Traceback (most recent call last)",
      "\u001b[0;32m<ipython-input-155-410289c7283c>\u001b[0m in \u001b[0;36m<module>\u001b[0;34m\u001b[0m\n\u001b[1;32m      4\u001b[0m \u001b[0mclusters\u001b[0m \u001b[0;34m=\u001b[0m \u001b[0mdbscan\u001b[0m\u001b[0;34m.\u001b[0m\u001b[0mfit_predict\u001b[0m\u001b[0;34m(\u001b[0m\u001b[0mX\u001b[0m\u001b[0;34m)\u001b[0m\u001b[0;34m\u001b[0m\u001b[0;34m\u001b[0m\u001b[0m\n\u001b[1;32m      5\u001b[0m \u001b[0;31m# plot the cluster assignments\u001b[0m\u001b[0;34m\u001b[0m\u001b[0;34m\u001b[0m\u001b[0;34m\u001b[0m\u001b[0m\n\u001b[0;32m----> 6\u001b[0;31m \u001b[0mplt\u001b[0m\u001b[0;34m.\u001b[0m\u001b[0mscatter\u001b[0m\u001b[0;34m(\u001b[0m\u001b[0mX\u001b[0m\u001b[0;34m[\u001b[0m\u001b[0;34m:\u001b[0m\u001b[0;34m,\u001b[0m \u001b[0;36m0\u001b[0m\u001b[0;34m]\u001b[0m\u001b[0;34m,\u001b[0m \u001b[0mX\u001b[0m\u001b[0;34m[\u001b[0m\u001b[0;34m:\u001b[0m\u001b[0;34m,\u001b[0m \u001b[0;36m1\u001b[0m\u001b[0;34m]\u001b[0m\u001b[0;34m,\u001b[0m \u001b[0mc\u001b[0m\u001b[0;34m=\u001b[0m\u001b[0mclusters\u001b[0m\u001b[0;34m,\u001b[0m \u001b[0mcmap\u001b[0m\u001b[0;34m=\u001b[0m\u001b[0mmglearn\u001b[0m\u001b[0;34m.\u001b[0m\u001b[0mcm2\u001b[0m\u001b[0;34m,\u001b[0m \u001b[0ms\u001b[0m\u001b[0;34m=\u001b[0m\u001b[0;36m60\u001b[0m\u001b[0;34m)\u001b[0m\u001b[0;34m\u001b[0m\u001b[0;34m\u001b[0m\u001b[0m\n\u001b[0m",
      "\u001b[0;32m~/.local/lib/python3.8/site-packages/matplotlib/pyplot.py\u001b[0m in \u001b[0;36mscatter\u001b[0;34m(x, y, s, c, marker, cmap, norm, vmin, vmax, alpha, linewidths, verts, edgecolors, plotnonfinite, data, **kwargs)\u001b[0m\n\u001b[1;32m   2888\u001b[0m         \u001b[0mverts\u001b[0m\u001b[0;34m=\u001b[0m\u001b[0mcbook\u001b[0m\u001b[0;34m.\u001b[0m\u001b[0mdeprecation\u001b[0m\u001b[0;34m.\u001b[0m\u001b[0m_deprecated_parameter\u001b[0m\u001b[0;34m,\u001b[0m\u001b[0;34m\u001b[0m\u001b[0;34m\u001b[0m\u001b[0m\n\u001b[1;32m   2889\u001b[0m         edgecolors=None, *, plotnonfinite=False, data=None, **kwargs):\n\u001b[0;32m-> 2890\u001b[0;31m     __ret = gca().scatter(\n\u001b[0m\u001b[1;32m   2891\u001b[0m         \u001b[0mx\u001b[0m\u001b[0;34m,\u001b[0m \u001b[0my\u001b[0m\u001b[0;34m,\u001b[0m \u001b[0ms\u001b[0m\u001b[0;34m=\u001b[0m\u001b[0ms\u001b[0m\u001b[0;34m,\u001b[0m \u001b[0mc\u001b[0m\u001b[0;34m=\u001b[0m\u001b[0mc\u001b[0m\u001b[0;34m,\u001b[0m \u001b[0mmarker\u001b[0m\u001b[0;34m=\u001b[0m\u001b[0mmarker\u001b[0m\u001b[0;34m,\u001b[0m \u001b[0mcmap\u001b[0m\u001b[0;34m=\u001b[0m\u001b[0mcmap\u001b[0m\u001b[0;34m,\u001b[0m \u001b[0mnorm\u001b[0m\u001b[0;34m=\u001b[0m\u001b[0mnorm\u001b[0m\u001b[0;34m,\u001b[0m\u001b[0;34m\u001b[0m\u001b[0;34m\u001b[0m\u001b[0m\n\u001b[1;32m   2892\u001b[0m         \u001b[0mvmin\u001b[0m\u001b[0;34m=\u001b[0m\u001b[0mvmin\u001b[0m\u001b[0;34m,\u001b[0m \u001b[0mvmax\u001b[0m\u001b[0;34m=\u001b[0m\u001b[0mvmax\u001b[0m\u001b[0;34m,\u001b[0m \u001b[0malpha\u001b[0m\u001b[0;34m=\u001b[0m\u001b[0malpha\u001b[0m\u001b[0;34m,\u001b[0m \u001b[0mlinewidths\u001b[0m\u001b[0;34m=\u001b[0m\u001b[0mlinewidths\u001b[0m\u001b[0;34m,\u001b[0m\u001b[0;34m\u001b[0m\u001b[0;34m\u001b[0m\u001b[0m\n",
      "\u001b[0;32m~/.local/lib/python3.8/site-packages/matplotlib/__init__.py\u001b[0m in \u001b[0;36minner\u001b[0;34m(ax, data, *args, **kwargs)\u001b[0m\n\u001b[1;32m   1436\u001b[0m     \u001b[0;32mdef\u001b[0m \u001b[0minner\u001b[0m\u001b[0;34m(\u001b[0m\u001b[0max\u001b[0m\u001b[0;34m,\u001b[0m \u001b[0;34m*\u001b[0m\u001b[0margs\u001b[0m\u001b[0;34m,\u001b[0m \u001b[0mdata\u001b[0m\u001b[0;34m=\u001b[0m\u001b[0;32mNone\u001b[0m\u001b[0;34m,\u001b[0m \u001b[0;34m**\u001b[0m\u001b[0mkwargs\u001b[0m\u001b[0;34m)\u001b[0m\u001b[0;34m:\u001b[0m\u001b[0;34m\u001b[0m\u001b[0;34m\u001b[0m\u001b[0m\n\u001b[1;32m   1437\u001b[0m         \u001b[0;32mif\u001b[0m \u001b[0mdata\u001b[0m \u001b[0;32mis\u001b[0m \u001b[0;32mNone\u001b[0m\u001b[0;34m:\u001b[0m\u001b[0;34m\u001b[0m\u001b[0;34m\u001b[0m\u001b[0m\n\u001b[0;32m-> 1438\u001b[0;31m             \u001b[0;32mreturn\u001b[0m \u001b[0mfunc\u001b[0m\u001b[0;34m(\u001b[0m\u001b[0max\u001b[0m\u001b[0;34m,\u001b[0m \u001b[0;34m*\u001b[0m\u001b[0mmap\u001b[0m\u001b[0;34m(\u001b[0m\u001b[0msanitize_sequence\u001b[0m\u001b[0;34m,\u001b[0m \u001b[0margs\u001b[0m\u001b[0;34m)\u001b[0m\u001b[0;34m,\u001b[0m \u001b[0;34m**\u001b[0m\u001b[0mkwargs\u001b[0m\u001b[0;34m)\u001b[0m\u001b[0;34m\u001b[0m\u001b[0;34m\u001b[0m\u001b[0m\n\u001b[0m\u001b[1;32m   1439\u001b[0m \u001b[0;34m\u001b[0m\u001b[0m\n\u001b[1;32m   1440\u001b[0m         \u001b[0mbound\u001b[0m \u001b[0;34m=\u001b[0m \u001b[0mnew_sig\u001b[0m\u001b[0;34m.\u001b[0m\u001b[0mbind\u001b[0m\u001b[0;34m(\u001b[0m\u001b[0max\u001b[0m\u001b[0;34m,\u001b[0m \u001b[0;34m*\u001b[0m\u001b[0margs\u001b[0m\u001b[0;34m,\u001b[0m \u001b[0;34m**\u001b[0m\u001b[0mkwargs\u001b[0m\u001b[0;34m)\u001b[0m\u001b[0;34m\u001b[0m\u001b[0;34m\u001b[0m\u001b[0m\n",
      "\u001b[0;32m~/.local/lib/python3.8/site-packages/matplotlib/cbook/deprecation.py\u001b[0m in \u001b[0;36mwrapper\u001b[0;34m(*inner_args, **inner_kwargs)\u001b[0m\n\u001b[1;32m    409\u001b[0m                          \u001b[0;32melse\u001b[0m \u001b[0mdeprecation_addendum\u001b[0m\u001b[0;34m,\u001b[0m\u001b[0;34m\u001b[0m\u001b[0;34m\u001b[0m\u001b[0m\n\u001b[1;32m    410\u001b[0m                 **kwargs)\n\u001b[0;32m--> 411\u001b[0;31m         \u001b[0;32mreturn\u001b[0m \u001b[0mfunc\u001b[0m\u001b[0;34m(\u001b[0m\u001b[0;34m*\u001b[0m\u001b[0minner_args\u001b[0m\u001b[0;34m,\u001b[0m \u001b[0;34m**\u001b[0m\u001b[0minner_kwargs\u001b[0m\u001b[0;34m)\u001b[0m\u001b[0;34m\u001b[0m\u001b[0;34m\u001b[0m\u001b[0m\n\u001b[0m\u001b[1;32m    412\u001b[0m \u001b[0;34m\u001b[0m\u001b[0m\n\u001b[1;32m    413\u001b[0m     \u001b[0;32mreturn\u001b[0m \u001b[0mwrapper\u001b[0m\u001b[0;34m\u001b[0m\u001b[0;34m\u001b[0m\u001b[0m\n",
      "\u001b[0;32m~/.local/lib/python3.8/site-packages/matplotlib/axes/_axes.py\u001b[0m in \u001b[0;36mscatter\u001b[0;34m(self, x, y, s, c, marker, cmap, norm, vmin, vmax, alpha, linewidths, verts, edgecolors, plotnonfinite, **kwargs)\u001b[0m\n\u001b[1;32m   4449\u001b[0m \u001b[0;34m\u001b[0m\u001b[0m\n\u001b[1;32m   4450\u001b[0m         \u001b[0mc\u001b[0m\u001b[0;34m,\u001b[0m \u001b[0mcolors\u001b[0m\u001b[0;34m,\u001b[0m \u001b[0medgecolors\u001b[0m \u001b[0;34m=\u001b[0m\u001b[0;31m \u001b[0m\u001b[0;31m\\\u001b[0m\u001b[0;34m\u001b[0m\u001b[0;34m\u001b[0m\u001b[0m\n\u001b[0;32m-> 4451\u001b[0;31m             self._parse_scatter_color_args(\n\u001b[0m\u001b[1;32m   4452\u001b[0m                 \u001b[0mc\u001b[0m\u001b[0;34m,\u001b[0m \u001b[0medgecolors\u001b[0m\u001b[0;34m,\u001b[0m \u001b[0mkwargs\u001b[0m\u001b[0;34m,\u001b[0m \u001b[0mx\u001b[0m\u001b[0;34m.\u001b[0m\u001b[0msize\u001b[0m\u001b[0;34m,\u001b[0m\u001b[0;34m\u001b[0m\u001b[0;34m\u001b[0m\u001b[0m\n\u001b[1;32m   4453\u001b[0m                 get_next_color_func=self._get_patches_for_fill.get_next_color)\n",
      "\u001b[0;32m~/.local/lib/python3.8/site-packages/matplotlib/axes/_axes.py\u001b[0m in \u001b[0;36m_parse_scatter_color_args\u001b[0;34m(c, edgecolors, kwargs, xsize, get_next_color_func)\u001b[0m\n\u001b[1;32m   4295\u001b[0m                 \u001b[0;32melse\u001b[0m\u001b[0;34m:\u001b[0m\u001b[0;34m\u001b[0m\u001b[0;34m\u001b[0m\u001b[0m\n\u001b[1;32m   4296\u001b[0m                     \u001b[0;32mif\u001b[0m \u001b[0;32mnot\u001b[0m \u001b[0mvalid_shape\u001b[0m\u001b[0;34m:\u001b[0m\u001b[0;34m\u001b[0m\u001b[0;34m\u001b[0m\u001b[0m\n\u001b[0;32m-> 4297\u001b[0;31m                         \u001b[0;32mraise\u001b[0m \u001b[0minvalid_shape_exception\u001b[0m\u001b[0;34m(\u001b[0m\u001b[0mc\u001b[0m\u001b[0;34m.\u001b[0m\u001b[0msize\u001b[0m\u001b[0;34m,\u001b[0m \u001b[0mxsize\u001b[0m\u001b[0;34m)\u001b[0m \u001b[0;32mfrom\u001b[0m \u001b[0merr\u001b[0m\u001b[0;34m\u001b[0m\u001b[0;34m\u001b[0m\u001b[0m\n\u001b[0m\u001b[1;32m   4298\u001b[0m                     \u001b[0;31m# Both the mapping *and* the RGBA conversion failed: pretty\u001b[0m\u001b[0;34m\u001b[0m\u001b[0;34m\u001b[0m\u001b[0;34m\u001b[0m\u001b[0m\n\u001b[1;32m   4299\u001b[0m                     \u001b[0;31m# severe failure => one may appreciate a verbose feedback.\u001b[0m\u001b[0;34m\u001b[0m\u001b[0;34m\u001b[0m\u001b[0;34m\u001b[0m\u001b[0m\n",
      "\u001b[0;31mValueError\u001b[0m: 'c' argument has 1729 elements, which is inconsistent with 'x' and 'y' with size 1."
     ]
    },
    {
     "data": {
      "image/png": "[encoded data removed]",
      "text/plain": [
       "<Figure size 576x396 with 1 Axes>"
      ]
     },
     "metadata": {},
     "output_type": "display_data"
    }
   ],
   "source": [
    "from sklearn.cluster import DBSCAN\n",
    "dbsc = DBSCAN(eps = .5, min_samples = 5)\n",
    "\n",
    "clusters = dbscan.fit_predict(X)\n",
    "# plot the cluster assignments\n",
    "plt.scatter(X[:, 0], X[:, 1], c=clusters, cmap=mglearn.cm2, s=60)"
   ]
  },
  {
   "cell_type": "code",
   "execution_count": 158,
   "metadata": {},
   "outputs": [
    {
     "data": {
      "text/plain": [
       "<1x10408 sparse matrix of type '<class 'numpy.float64'>'\n",
       "\twith 429 stored elements in Compressed Sparse Row format>"
      ]
     },
     "execution_count": 158,
     "metadata": {},
     "output_type": "execute_result"
    }
   ],
   "source": [
    "X[0,:]"
   ]
  },
  {
   "cell_type": "code",
   "execution_count": null,
   "metadata": {},
   "outputs": [],
   "source": [
    "X_fit"
   ]
  },
  {
   "cell_type": "code",
   "execution_count": 148,
   "metadata": {},
   "outputs": [
    {
     "data": {
      "text/plain": [
       "['T',\n",
       " '__abs__',\n",
       " '__add__',\n",
       " '__and__',\n",
       " '__array__',\n",
       " '__array_finalize__',\n",
       " '__array_function__',\n",
       " '__array_interface__',\n",
       " '__array_prepare__',\n",
       " '__array_priority__',\n",
       " '__array_struct__',\n",
       " '__array_ufunc__',\n",
       " '__array_wrap__',\n",
       " '__bool__',\n",
       " '__class__',\n",
       " '__complex__',\n",
       " '__contains__',\n",
       " '__copy__',\n",
       " '__deepcopy__',\n",
       " '__delattr__',\n",
       " '__delitem__',\n",
       " '__dir__',\n",
       " '__divmod__',\n",
       " '__doc__',\n",
       " '__eq__',\n",
       " '__float__',\n",
       " '__floordiv__',\n",
       " '__format__',\n",
       " '__ge__',\n",
       " '__getattribute__',\n",
       " '__getitem__',\n",
       " '__gt__',\n",
       " '__hash__',\n",
       " '__iadd__',\n",
       " '__iand__',\n",
       " '__ifloordiv__',\n",
       " '__ilshift__',\n",
       " '__imatmul__',\n",
       " '__imod__',\n",
       " '__imul__',\n",
       " '__index__',\n",
       " '__init__',\n",
       " '__init_subclass__',\n",
       " '__int__',\n",
       " '__invert__',\n",
       " '__ior__',\n",
       " '__ipow__',\n",
       " '__irshift__',\n",
       " '__isub__',\n",
       " '__iter__',\n",
       " '__itruediv__',\n",
       " '__ixor__',\n",
       " '__le__',\n",
       " '__len__',\n",
       " '__lshift__',\n",
       " '__lt__',\n",
       " '__matmul__',\n",
       " '__mod__',\n",
       " '__mul__',\n",
       " '__ne__',\n",
       " '__neg__',\n",
       " '__new__',\n",
       " '__or__',\n",
       " '__pos__',\n",
       " '__pow__',\n",
       " '__radd__',\n",
       " '__rand__',\n",
       " '__rdivmod__',\n",
       " '__reduce__',\n",
       " '__reduce_ex__',\n",
       " '__repr__',\n",
       " '__rfloordiv__',\n",
       " '__rlshift__',\n",
       " '__rmatmul__',\n",
       " '__rmod__',\n",
       " '__rmul__',\n",
       " '__ror__',\n",
       " '__rpow__',\n",
       " '__rrshift__',\n",
       " '__rshift__',\n",
       " '__rsub__',\n",
       " '__rtruediv__',\n",
       " '__rxor__',\n",
       " '__setattr__',\n",
       " '__setitem__',\n",
       " '__setstate__',\n",
       " '__sizeof__',\n",
       " '__str__',\n",
       " '__sub__',\n",
       " '__subclasshook__',\n",
       " '__truediv__',\n",
       " '__xor__',\n",
       " 'all',\n",
       " 'any',\n",
       " 'argmax',\n",
       " 'argmin',\n",
       " 'argpartition',\n",
       " 'argsort',\n",
       " 'astype',\n",
       " 'base',\n",
       " 'byteswap',\n",
       " 'choose',\n",
       " 'clip',\n",
       " 'compress',\n",
       " 'conj',\n",
       " 'conjugate',\n",
       " 'copy',\n",
       " 'ctypes',\n",
       " 'cumprod',\n",
       " 'cumsum',\n",
       " 'data',\n",
       " 'diagonal',\n",
       " 'dot',\n",
       " 'dtype',\n",
       " 'dump',\n",
       " 'dumps',\n",
       " 'fill',\n",
       " 'flags',\n",
       " 'flat',\n",
       " 'flatten',\n",
       " 'getfield',\n",
       " 'imag',\n",
       " 'item',\n",
       " 'itemset',\n",
       " 'itemsize',\n",
       " 'max',\n",
       " 'mean',\n",
       " 'min',\n",
       " 'nbytes',\n",
       " 'ndim',\n",
       " 'newbyteorder',\n",
       " 'nonzero',\n",
       " 'partition',\n",
       " 'prod',\n",
       " 'ptp',\n",
       " 'put',\n",
       " 'ravel',\n",
       " 'real',\n",
       " 'repeat',\n",
       " 'reshape',\n",
       " 'resize',\n",
       " 'round',\n",
       " 'searchsorted',\n",
       " 'setfield',\n",
       " 'setflags',\n",
       " 'shape',\n",
       " 'size',\n",
       " 'sort',\n",
       " 'squeeze',\n",
       " 'std',\n",
       " 'strides',\n",
       " 'sum',\n",
       " 'swapaxes',\n",
       " 'take',\n",
       " 'tobytes',\n",
       " 'tofile',\n",
       " 'tolist',\n",
       " 'tostring',\n",
       " 'trace',\n",
       " 'transpose',\n",
       " 'var',\n",
       " 'view']"
      ]
     },
     "execution_count": 148,
     "metadata": {},
     "output_type": "execute_result"
    }
   ],
   "source": [
    "dir(X_fit)"
   ]
  },
  {
   "cell_type": "code",
   "execution_count": 57,
   "metadata": {},
   "outputs": [
    {
     "data": {
      "text/plain": [
       "0       TAR 1 August 2016 Trustees' Annual Report for ...\n",
       "1        ; Na {if anv) { oA el C 3 QIC [1€d C f (S ' R...\n",
       "2       54 S ke * B   Welcome to our Annual Report for...\n",
       "3       Annual Repor t 8 Accounts 2017/18 Year ended 3...\n",
       "4       The Greenway Centre (Registered charity, numbe...\n",
       "                              ...                        \n",
       "1724    TAR 1 August 2016 Trustees' Annual Report for ...\n",
       "1725    The Gordon Russell Trust Charity No. 326446 Tr...\n",
       "1726    Charity No (if any) 1111593 Period start date ...\n",
       "1727    CASPARI FOUNDATION (Company Number 3815700) (R...\n",
       "1728    REGISTERED COMPANY NUMBER: 09623674 (England a...\n",
       "Name: text, Length: 1729, dtype: object"
      ]
     },
     "execution_count": 57,
     "metadata": {},
     "output_type": "execute_result"
    }
   ],
   "source": [
    "docs"
   ]
  },
  {
   "cell_type": "code",
   "execution_count": null,
   "metadata": {},
   "outputs": [],
   "source": []
  }
 ],
 "metadata": {
  "celltoolbar": "Slideshow",
  "kernelspec": {
   "display_name": "Python 3",
   "language": "python",
   "name": "python3"
  },
  "language_info": {
   "codemirror_mode": {
    "name": "ipython",
    "version": 3
   },
   "file_extension": ".py",
   "mimetype": "text/x-python",
   "name": "python",
   "nbconvert_exporter": "python",
   "pygments_lexer": "ipython3",
   "version": "3.8.5"
  }
 },
 "nbformat": 4,
 "nbformat_minor": 4
}
