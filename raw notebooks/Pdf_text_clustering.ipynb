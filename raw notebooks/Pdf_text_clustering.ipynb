{
 "cells": [
  {
   "cell_type": "markdown",
   "metadata": {
    "slideshow": {
     "slide_type": "slide"
    }
   },
   "source": [
    "# Pdfmatcher\n",
    "### by Robin"
   ]
  },
  {
   "cell_type": "markdown",
   "metadata": {
    "slideshow": {
     "slide_type": "slide"
    }
   },
   "source": [
    "# Challenge\n",
    "<img src=\"img/pdf-file-format-symbol.png\" alt=\"Drawing\" style=\"width: 50px;\"/>\n",
    "\n",
    "### -help annotaters by clustering similar pdfs\n",
    "### -identify duplicates"
   ]
  },
  {
   "cell_type": "markdown",
   "metadata": {
    "slideshow": {
     "slide_type": "slide"
    }
   },
   "source": [
    "# Approach\n",
    "\n",
    "## - Text clustering\n",
    "## - Layout mapping\n",
    "## - Image analysis\n"
   ]
  },
  {
   "cell_type": "markdown",
   "metadata": {
    "slideshow": {
     "slide_type": "subslide"
    }
   },
   "source": [
    "# Text clustering"
   ]
  },
  {
   "cell_type": "code",
   "execution_count": 1,
   "metadata": {},
   "outputs": [],
   "source": [
    "import glob\n",
    "import pandas as pd\n",
    "import os"
   ]
  },
  {
   "cell_type": "code",
   "execution_count": 2,
   "metadata": {},
   "outputs": [
    {
     "name": "stdout",
     "output_type": "stream",
     "text": [
      "['data/expected-original.tsv', 'data/in.tsv', 'data/test.tsv']\n"
     ]
    }
   ],
   "source": [
    "filelist = glob.glob(\"data/*.tsv\")\n",
    "print(filelist)\n",
    "df = pd.read_csv('data/in.tsv',header=None,sep=\"\\t\")\n",
    "labels = pd.read_csv('data/expected-original.tsv',header=None,sep=\"\\t\")"
   ]
  },
  {
   "cell_type": "code",
   "execution_count": 3,
   "metadata": {},
   "outputs": [
    {
     "data": {
      "text/html": [
       "<div>\n",
       "<style scoped>\n",
       "    .dataframe tbody tr th:only-of-type {\n",
       "        vertical-align: middle;\n",
       "    }\n",
       "\n",
       "    .dataframe tbody tr th {\n",
       "        vertical-align: top;\n",
       "    }\n",
       "\n",
       "    .dataframe thead th {\n",
       "        text-align: right;\n",
       "    }\n",
       "</style>\n",
       "<table border=\"1\" class=\"dataframe\">\n",
       "  <thead>\n",
       "    <tr style=\"text-align: right;\">\n",
       "      <th></th>\n",
       "      <th>0</th>\n",
       "    </tr>\n",
       "  </thead>\n",
       "  <tbody>\n",
       "    <tr>\n",
       "      <th>0</th>\n",
       "      <td>address__post_town=OLDHAM address__postcode=OL...</td>\n",
       "    </tr>\n",
       "    <tr>\n",
       "      <th>1</th>\n",
       "      <td>address__post_town=GAINSBOROUGH address__postc...</td>\n",
       "    </tr>\n",
       "    <tr>\n",
       "      <th>2</th>\n",
       "      <td>address__post_town=STAINES-UPON-THAMES[11] add...</td>\n",
       "    </tr>\n",
       "    <tr>\n",
       "      <th>3</th>\n",
       "      <td>address__post_town=LONDON address__postcode=W1...</td>\n",
       "    </tr>\n",
       "    <tr>\n",
       "      <th>4</th>\n",
       "      <td>address__post_town=NOTTINGHAM address__postcod...</td>\n",
       "    </tr>\n",
       "    <tr>\n",
       "      <th>...</th>\n",
       "      <td>...</td>\n",
       "    </tr>\n",
       "    <tr>\n",
       "      <th>1724</th>\n",
       "      <td>address__post_town=OLDHAM address__postcode=OL...</td>\n",
       "    </tr>\n",
       "    <tr>\n",
       "      <th>1725</th>\n",
       "      <td>address__post_town=BROADWAY address__postcode=...</td>\n",
       "    </tr>\n",
       "    <tr>\n",
       "      <th>1726</th>\n",
       "      <td>address__post_town=LONDON address__postcode=NW...</td>\n",
       "    </tr>\n",
       "    <tr>\n",
       "      <th>1727</th>\n",
       "      <td>address__post_town=LONDON address__postcode=N4...</td>\n",
       "    </tr>\n",
       "    <tr>\n",
       "      <th>1728</th>\n",
       "      <td>address__post_town=BRADFORD address__postcode=...</td>\n",
       "    </tr>\n",
       "  </tbody>\n",
       "</table>\n",
       "<p>1729 rows × 1 columns</p>\n",
       "</div>"
      ],
      "text/plain": [
       "                                                      0\n",
       "0     address__post_town=OLDHAM address__postcode=OL...\n",
       "1     address__post_town=GAINSBOROUGH address__postc...\n",
       "2     address__post_town=STAINES-UPON-THAMES[11] add...\n",
       "3     address__post_town=LONDON address__postcode=W1...\n",
       "4     address__post_town=NOTTINGHAM address__postcod...\n",
       "...                                                 ...\n",
       "1724  address__post_town=OLDHAM address__postcode=OL...\n",
       "1725  address__post_town=BROADWAY address__postcode=...\n",
       "1726  address__post_town=LONDON address__postcode=NW...\n",
       "1727  address__post_town=LONDON address__postcode=N4...\n",
       "1728  address__post_town=BRADFORD address__postcode=...\n",
       "\n",
       "[1729 rows x 1 columns]"
      ]
     },
     "execution_count": 3,
     "metadata": {},
     "output_type": "execute_result"
    }
   ],
   "source": [
    "labels"
   ]
  },
  {
   "cell_type": "code",
   "execution_count": 4,
   "metadata": {},
   "outputs": [
    {
     "data": {
      "text/plain": [
       "0       1156398\n",
       "1       1165525\n",
       "2        271547\n",
       "3       1076235\n",
       "4        702321\n",
       "         ...   \n",
       "1724    1156398\n",
       "1725     326446\n",
       "1726    1111593\n",
       "1727    1079575\n",
       "1728    1164704\n",
       "Name: 1, Length: 1729, dtype: object"
      ]
     },
     "execution_count": 4,
     "metadata": {},
     "output_type": "execute_result"
    }
   ],
   "source": [
    "regex = \"(charity_number=)(\\d*)\"\n",
    "ylabels = labels[0].str.extract(regex)\n",
    "labels = ylabels[1]\n",
    "labels"
   ]
  },
  {
   "cell_type": "code",
   "execution_count": 5,
   "metadata": {},
   "outputs": [
    {
     "data": {
      "text/plain": [
       "0     0\n",
       "1     0\n",
       "2    45\n",
       "3     1\n",
       "4     1\n",
       "5     0\n",
       "dtype: int64"
      ]
     },
     "execution_count": 5,
     "metadata": {},
     "output_type": "execute_result"
    }
   ],
   "source": [
    "#Check for NAs\n",
    "df.isna().sum()"
   ]
  },
  {
   "cell_type": "code",
   "execution_count": 6,
   "metadata": {},
   "outputs": [],
   "source": [
    "df = df.iloc[:,[0,5]]"
   ]
  },
  {
   "cell_type": "code",
   "execution_count": 7,
   "metadata": {},
   "outputs": [],
   "source": [
    "df.columns = ['filename','text']"
   ]
  },
  {
   "cell_type": "code",
   "execution_count": 8,
   "metadata": {},
   "outputs": [],
   "source": [
    "#Removes line breaks\n",
    "df = df.replace(r'\\\\n',' ', regex=True) "
   ]
  },
  {
   "cell_type": "code",
   "execution_count": 9,
   "metadata": {
    "slideshow": {
     "slide_type": "subslide"
    }
   },
   "outputs": [],
   "source": [
    "import nltk\n",
    "from nltk.corpus import treebank\n",
    "from nltk.corpus import stopwords\n",
    "from nltk.stem import WordNetLemmatizer "
   ]
  },
  {
   "cell_type": "code",
   "execution_count": 10,
   "metadata": {
    "slideshow": {
     "slide_type": "subslide"
    }
   },
   "outputs": [],
   "source": [
    "#Function for preprocessing text\n",
    "import nltk\n",
    "from nltk.corpus import stopwords\n",
    "from nltk.stem import WordNetLemmatizer \n",
    "\n",
    "def preprocessor(text):\n",
    "    #tokenize words\n",
    "    words = nltk.word_tokenize(text)\n",
    "    #convert to lowercase\n",
    "    words = [w.lower() for w in words]\n",
    "    #remove stopwords\n",
    "    stop_words = stopwords.words('english')\n",
    "    words = [word for word in words if word not in stop_words]\n",
    "    #remove words less that 3 characters\n",
    "    words = [x for x in words if len(x) > 3]\n",
    "    #remove punctuation\n",
    "    words=[word.lower() for word in words if word.isalpha()]\n",
    "    #lemmatize words\n",
    "    lemmatizer = WordNetLemmatizer()\n",
    "    words =[lemmatizer.lemmatize(w) for w in words]\n",
    "    return words"
   ]
  },
  {
   "cell_type": "code",
   "execution_count": 25,
   "metadata": {},
   "outputs": [],
   "source": [
    "from nltk import ngrams\n",
    "\n",
    "def ngrammer(text, n=3):\n",
    "    tmp=[]\n",
    "    textngrams = ngrams(text.split(), n)\n",
    "    for grams in textngrams:\n",
    "        tmp.append(grams)"
   ]
  },
  {
   "cell_type": "code",
   "execution_count": 37,
   "metadata": {},
   "outputs": [],
   "source": [
    "#Apply preprocessing steps\n",
    "df['preprocess'] = df['text'].apply(lambda x : preprocessor(x))"
   ]
  },
  {
   "cell_type": "code",
   "execution_count": 26,
   "metadata": {},
   "outputs": [],
   "source": [
    "df['ngrams'] = df['text'].apply(lambda x : ngrammer(''.join(x)))"
   ]
  },
  {
   "cell_type": "code",
   "execution_count": 27,
   "metadata": {},
   "outputs": [
    {
     "data": {
      "text/plain": [
       "0       None\n",
       "1       None\n",
       "2       None\n",
       "3       None\n",
       "4       None\n",
       "        ... \n",
       "1724    None\n",
       "1725    None\n",
       "1726    None\n",
       "1727    None\n",
       "1728    None\n",
       "Name: ngrams, Length: 1729, dtype: object"
      ]
     },
     "execution_count": 27,
     "metadata": {},
     "output_type": "execute_result"
    }
   ],
   "source": [
    "df.ngrams"
   ]
  },
  {
   "cell_type": "markdown",
   "metadata": {},
   "source": [
    "# Important step to convert text back into a strings"
   ]
  },
  {
   "cell_type": "code",
   "execution_count": 26,
   "metadata": {},
   "outputs": [],
   "source": [
    "#Convert to list of strings\n",
    "#docs = df.text.apply(''.join)"
   ]
  },
  {
   "cell_type": "code",
   "execution_count": 39,
   "metadata": {},
   "outputs": [],
   "source": [
    "docs = df.preprocess.apply(''.join)"
   ]
  },
  {
   "cell_type": "code",
   "execution_count": 97,
   "metadata": {},
   "outputs": [
    {
     "data": {
      "text/plain": [
       "0       [august, trustee, annual, report, period, peri...\n",
       "1       [receipt, payment, account, period, start, per...\n",
       "2       [welcome, annual, report, first, time, combine...\n",
       "3       [annual, repor, account, year, ended, march, c...\n",
       "4       [greenway, centre, registered, charity, number...\n",
       "                              ...                        \n",
       "1724    [august, trustee, annual, report, period, peri...\n",
       "1725    [gordon, russell, trust, charity, trustee, rep...\n",
       "1726    [charity, period, start, date, period, date, r...\n",
       "1727    [caspari, foundation, company, number, registe...\n",
       "1728    [registered, company, number, england, wale, r...\n",
       "Name: preprocess, Length: 1729, dtype: object"
      ]
     },
     "execution_count": 97,
     "metadata": {},
     "output_type": "execute_result"
    }
   ],
   "source": [
    "docs = df.preprocess\n",
    "docs"
   ]
  },
  {
   "cell_type": "code",
   "execution_count": 146,
   "metadata": {},
   "outputs": [
    {
     "data": {
      "image/png": "[encoded data removed]",
      "text/plain": [
       "<Figure size 576x396 with 1 Axes>"
      ]
     },
     "metadata": {},
     "output_type": "display_data"
    },
    {
     "data": {
      "text/plain": [
       "<AxesSubplot:title={'center':'Frequency Distribution of Top 50 tokens'}>"
      ]
     },
     "execution_count": 146,
     "metadata": {},
     "output_type": "execute_result"
    }
   ],
   "source": [
    "#Check the top words \n",
    "\n",
    "from sklearn.feature_extraction.text import CountVectorizer\n",
    "\n",
    "from yellowbrick.text import FreqDistVisualizer\n",
    "from yellowbrick.datasets import load_hobbies\n",
    "\n",
    "# Load the text data\n",
    "corpus = docs\n",
    "\n",
    "#Intialise a count vectorizer\n",
    "vectorizer = CountVectorizer()\n",
    "#Get the count vectors for each doc\n",
    "docs       = vectorizer.fit_transform(corpus)\n",
    "#Get the features/words\n",
    "features   = vectorizer.get_feature_names()\n",
    "#Show the top features/words\n",
    "visualizer = FreqDistVisualizer(features=features, orient='v')\n",
    "visualizer.fit(docs)\n",
    "visualizer.show()"
   ]
  },
  {
   "cell_type": "code",
   "execution_count": 15,
   "metadata": {},
   "outputs": [
    {
     "data": {
      "text/plain": [
       "'#instantiate CountVectorizer() \\ncv=CountVectorizer() \\n \\n# this steps generates word counts for the words in your docs \\nword_count_vector=cv.fit_transform(docs)\\n\\ntfidf_transformer=TfidfTransformer(smooth_idf=True,use_idf=True) \\ntfidf_transformer.fit(word_count_vector)# print idf values \\n\\ndf_idf = pd.DataFrame(tfidf_transformer.idf_, index=cv.get_feature_names(),columns=[\"idf_weights\"]) \\n \\n# sort ascending \\ndf_idf.sort_values(by=[\\'idf_weights\\'])\\n\\n# count matrix \\ncount_vector=cv.transform(docs) \\n \\n# tf-idf scores \\ntf_idf_vector=tfidf_transformer.transform(count_vector)\\n\\nfeature_names = cv.get_feature_names() \\n \\n#get tfidf vector for first document \\nfirst_document_vector=tf_idf_vector[0] \\n \\n#print the scores \\ndf = pd.DataFrame(first_document_vector.T.todense(), index=feature_names, columns=[\"tfidf\"]) \\ndf.sort_values(by=[\"tfidf\"],ascending=False)\\n'"
      ]
     },
     "execution_count": 15,
     "metadata": {},
     "output_type": "execute_result"
    }
   ],
   "source": [
    "'''\n",
    "#Long way to Vectorize and Transform words to vectors\n",
    "\n",
    "#instantiate CountVectorizer() \n",
    "cv=CountVectorizer() \n",
    " \n",
    "# this steps generates word counts for the words in your docs \n",
    "word_count_vector=cv.fit_transform(docs)\n",
    "\n",
    "tfidf_transformer=TfidfTransformer(smooth_idf=True,use_idf=True) \n",
    "tfidf_transformer.fit(word_count_vector)# print idf values \n",
    "\n",
    "df_idf = pd.DataFrame(tfidf_transformer.idf_, index=cv.get_feature_names(),columns=[\"idf_weights\"]) \n",
    " \n",
    "# sort ascending \n",
    "df_idf.sort_values(by=['idf_weights'])\n",
    "\n",
    "# count matrix \n",
    "count_vector=cv.transform(docs) \n",
    " \n",
    "# tf-idf scores \n",
    "tf_idf_vector=tfidf_transformer.transform(count_vector)\n",
    "\n",
    "feature_names = cv.get_feature_names() \n",
    " \n",
    "#get tfidf vector for first document \n",
    "first_document_vector=tf_idf_vector[0] \n",
    " \n",
    "#print the scores \n",
    "df = pd.DataFrame(first_document_vector.T.todense(), index=feature_names, columns=[\"tfidf\"]) \n",
    "df.sort_values(by=[\"tfidf\"],ascending=False)\n",
    "'''"
   ]
  },
  {
   "cell_type": "code",
   "execution_count": 74,
   "metadata": {},
   "outputs": [],
   "source": [
    "'''\n",
    "#Much shorter way to transform words to vectors\n",
    "\n",
    "from sklearn.feature_extraction.text import TfidfVectorizer \n",
    " \n",
    "# settings that you use for count vectorizer will go here \n",
    "tfidf_vectorizer=TfidfVectorizer(use_idf=True, min_df=0.01) \n",
    " \n",
    "# just send in all your docs here \n",
    "tfidf_vectorizer_vectors=tfidf_vectorizer.fit_transform(docs)\n",
    "'''"
   ]
  },
  {
   "cell_type": "markdown",
   "metadata": {
    "slideshow": {
     "slide_type": "subslide"
    }
   },
   "source": [
    "# Small TfidfVectorizer function"
   ]
  },
  {
   "cell_type": "code",
   "execution_count": 118,
   "metadata": {},
   "outputs": [],
   "source": [
    "from sklearn.feature_extraction.text import TfidfVectorizer\n",
    "\n",
    "def tfidfvec(docs):\n",
    "    tfidf_vectorizer=TfidfVectorizer(use_idf=True, max_df=0.8, max_features=200000,\n",
    "                                 min_df=0.2,preprocessor=None, tokenizer=None)\n",
    "    # just send in all your docs here\n",
    "    fitted_vectorizer=tfidf_vectorizer.fit(docs)\n",
    "    tfidf_vectorizer_vectors=fitted_vectorizer.transform(docs)\n",
    "    X = tfidf_vectorizer_vectors\n",
    "    print(tfidf_vectorizer_vectors.shape)\n",
    "    return X"
   ]
  },
  {
   "cell_type": "code",
   "execution_count": 119,
   "metadata": {},
   "outputs": [
    {
     "name": "stdout",
     "output_type": "stream",
     "text": [
      "(1729, 1010)\n"
     ]
    }
   ],
   "source": [
    "X = tfidfvec(docs)\n"
   ]
  },
  {
   "cell_type": "code",
   "execution_count": 120,
   "metadata": {},
   "outputs": [],
   "source": [
    "tfidf_vectorizer=TfidfVectorizer(use_idf=True, max_df=0.8, max_features=200000,\n",
    "                                 min_df=0.2,preprocessor=None, tokenizer=None)\n",
    "    # just send in all your docs here\n",
    "fitted_vectorizer=tfidf_vectorizer.fit(docs)\n",
    "tfidf_vectorizer_vectors=fitted_vectorizer.transform(docs)"
   ]
  },
  {
   "cell_type": "code",
   "execution_count": 122,
   "metadata": {},
   "outputs": [
    {
     "name": "stdout",
     "output_type": "stream",
     "text": [
      "['__class__', '__delattr__', '__dict__', '__dir__', '__doc__', '__eq__', '__format__', '__ge__', '__getattribute__', '__getstate__', '__gt__', '__hash__', '__init__', '__init_subclass__', '__le__', '__lt__', '__module__', '__ne__', '__new__', '__reduce__', '__reduce_ex__', '__repr__', '__setattr__', '__setstate__', '__sizeof__', '__str__', '__subclasshook__', '__weakref__', '_char_ngrams', '_char_wb_ngrams', '_check_n_features', '_check_params', '_check_stop_words_consistency', '_check_vocabulary', '_count_vocab', '_get_param_names', '_get_tags', '_limit_features', '_more_tags', '_repr_html_', '_repr_html_inner', '_repr_mimebundle_', '_sort_features', '_stop_words_id', '_tfidf', '_validate_data', '_validate_params', '_validate_vocabulary', '_warn_for_unused_params', '_white_spaces', '_word_ngrams', 'analyzer', 'binary', 'build_analyzer', 'build_preprocessor', 'build_tokenizer', 'decode', 'decode_error', 'dtype', 'encoding', 'fit', 'fit_transform', 'fixed_vocabulary_', 'get_feature_names', 'get_params', 'get_stop_words', 'idf_', 'input', 'inverse_transform', 'lowercase', 'max_df', 'max_features', 'min_df', 'ngram_range', 'norm', 'preprocessor', 'set_params', 'smooth_idf', 'stop_words', 'stop_words_', 'strip_accents', 'sublinear_tf', 'token_pattern', 'tokenizer', 'transform', 'use_idf', 'vocabulary', 'vocabulary_']\n"
     ]
    }
   ],
   "source": [
    "print(dir(fitted_vectorizer))"
   ]
  },
  {
   "cell_type": "code",
   "execution_count": 126,
   "metadata": {},
   "outputs": [
    {
     "data": {
      "text/plain": [
       "{'analyzer': 'word',\n",
       " 'binary': False,\n",
       " 'decode_error': 'strict',\n",
       " 'dtype': numpy.float64,\n",
       " 'encoding': 'utf-8',\n",
       " 'input': 'content',\n",
       " 'lowercase': True,\n",
       " 'max_df': 0.8,\n",
       " 'max_features': 200000,\n",
       " 'min_df': 0.2,\n",
       " 'ngram_range': (1, 1),\n",
       " 'norm': 'l2',\n",
       " 'preprocessor': None,\n",
       " 'smooth_idf': True,\n",
       " 'stop_words': None,\n",
       " 'strip_accents': None,\n",
       " 'sublinear_tf': False,\n",
       " 'token_pattern': '(?u)\\\\b\\\\w\\\\w+\\\\b',\n",
       " 'tokenizer': None,\n",
       " 'use_idf': True,\n",
       " 'vocabulary': None}"
      ]
     },
     "execution_count": 126,
     "metadata": {},
     "output_type": "execute_result"
    }
   ],
   "source": [
    "#Show parameters of vectorizer\n",
    "fitted_vectorizer.get_params()"
   ]
  },
  {
   "cell_type": "code",
   "execution_count": 124,
   "metadata": {},
   "outputs": [
    {
     "data": {
      "text/plain": [
       "{'august': 104,\n",
       " 'start': 887,\n",
       " 'reference': 762,\n",
       " 'administration': 33,\n",
       " 'detail': 268,\n",
       " 'name': 598,\n",
       " 'known': 517,\n",
       " 'principal': 699,\n",
       " 'address': 30,\n",
       " 'unit': 960,\n",
       " 'business': 135,\n",
       " 'park': 649,\n",
       " 'road': 818,\n",
       " 'manage': 562,\n",
       " 'office': 621,\n",
       " 'whole': 995,\n",
       " 'person': 662,\n",
       " 'body': 127,\n",
       " 'entitled': 325,\n",
       " 'appoint': 70,\n",
       " 'chair': 150,\n",
       " 'example': 348,\n",
       " 'adviser': 41,\n",
       " 'information': 487,\n",
       " 'type': 954,\n",
       " 'legal': 531,\n",
       " 'john': 508,\n",
       " 'north': 609,\n",
       " 'solicitor': 872,\n",
       " 'accountant': 9,\n",
       " 'david': 240,\n",
       " 'accountancy': 8,\n",
       " 'chief': 159,\n",
       " 'executive': 356,\n",
       " 'senior': 843,\n",
       " 'staff': 884,\n",
       " 'structure': 901,\n",
       " 'description': 265,\n",
       " 'trust': 952,\n",
       " 'governing': 425,\n",
       " 'document': 292,\n",
       " 'deed': 249,\n",
       " 'constitution': 208,\n",
       " 'constituted': 207,\n",
       " 'association': 91,\n",
       " 'company': 183,\n",
       " 'incorporated': 479,\n",
       " 'organisation': 633,\n",
       " 'selection': 842,\n",
       " 'method': 579,\n",
       " 'appointed': 71,\n",
       " 'elected': 307,\n",
       " 'additional': 29,\n",
       " 'issue': 504,\n",
       " 'include': 473,\n",
       " 'relevant': 779,\n",
       " 'procedure': 705,\n",
       " 'adopted': 36,\n",
       " 'induction': 486,\n",
       " 'training': 944,\n",
       " 'organisational': 634,\n",
       " 'wider': 999,\n",
       " 'network': 604,\n",
       " 'relationship': 778,\n",
       " 'related': 774,\n",
       " 'party': 653,\n",
       " 'consideration': 202,\n",
       " 'major': 558,\n",
       " 'risk': 817,\n",
       " 'system': 919,\n",
       " 'progress': 712,\n",
       " 'protection': 721,\n",
       " 'fundraising': 412,\n",
       " 'strategy': 898,\n",
       " 'safeguarding': 824,\n",
       " 'guidance': 437,\n",
       " 'issued': 505,\n",
       " 'upon': 967,\n",
       " 'appointment': 72,\n",
       " 'three': 936,\n",
       " 'manager': 564,\n",
       " 'officer': 622,\n",
       " 'ongoing': 623,\n",
       " 'national': 599,\n",
       " 'service': 849,\n",
       " 'funding': 411,\n",
       " 'project': 713,\n",
       " 'approximately': 76,\n",
       " 'summary': 913,\n",
       " 'object': 612,\n",
       " 'aim': 47,\n",
       " 'child': 160,\n",
       " 'young': 1008,\n",
       " 'people': 658,\n",
       " 'effect': 303,\n",
       " 'close': 168,\n",
       " 'family': 375,\n",
       " 'parent': 648,\n",
       " 'assistance': 89,\n",
       " 'provision': 725,\n",
       " 'good': 423,\n",
       " 'help': 445,\n",
       " 'education': 301,\n",
       " 'increasing': 483,\n",
       " 'employment': 314,\n",
       " 'main': 552,\n",
       " 'relation': 777,\n",
       " 'statutory': 892,\n",
       " 'declaration': 247,\n",
       " 'regard': 765,\n",
       " 'funded': 410,\n",
       " 'course': 230,\n",
       " 'provided': 722,\n",
       " 'four': 400,\n",
       " 'month': 591,\n",
       " 'school': 830,\n",
       " 'following': 390,\n",
       " 'establish': 335,\n",
       " 'confirm': 198,\n",
       " 'programme': 711,\n",
       " 'investment': 498,\n",
       " 'contribution': 220,\n",
       " 'volunteer': 982,\n",
       " 'form': 394,\n",
       " 'rather': 738,\n",
       " 'grant': 427,\n",
       " 'individual': 485,\n",
       " 'making': 561,\n",
       " 'criterion': 237,\n",
       " 'remains': 784,\n",
       " 'large': 520,\n",
       " 'still': 894,\n",
       " 'remain': 782,\n",
       " 'active': 24,\n",
       " 'effort': 305,\n",
       " 'recent': 749,\n",
       " 'target': 925,\n",
       " 'providing': 724,\n",
       " 'estimated': 339,\n",
       " 'partnership': 652,\n",
       " 'future': 415,\n",
       " 'achievement': 17,\n",
       " 'performance': 659,\n",
       " 'book': 128,\n",
       " 'profit': 710,\n",
       " 'donated': 293,\n",
       " 'challenge': 152,\n",
       " 'increased': 482,\n",
       " 'awareness': 112,\n",
       " 'conference': 197,\n",
       " 'receipt': 746,\n",
       " 'payment': 656,\n",
       " 'restricted': 804,\n",
       " 'endowment': 318,\n",
       " 'last': 521,\n",
       " 'gross': 431,\n",
       " 'sale': 827,\n",
       " 'table': 920,\n",
       " 'charge': 155,\n",
       " 'salary': 826,\n",
       " 'travel': 948,\n",
       " 'rent': 786,\n",
       " 'paid': 647,\n",
       " 'event': 342,\n",
       " 'sundry': 915,\n",
       " 'purchase': 728,\n",
       " 'transfer': 946,\n",
       " 'category': 145,\n",
       " 'value': 973,\n",
       " 'relates': 775,\n",
       " 'approval': 75,\n",
       " 'monetary': 586,\n",
       " 'retained': 808,\n",
       " 'march': 567,\n",
       " 'examiner': 347,\n",
       " 'sheet': 856,\n",
       " 'respective': 803,\n",
       " 'examination': 345,\n",
       " 'needed': 603,\n",
       " 'examine': 346,\n",
       " 'follow': 388,\n",
       " 'laid': 518,\n",
       " 'direction': 280,\n",
       " 'come': 174,\n",
       " 'attention': 98,\n",
       " 'comparison': 186,\n",
       " 'presented': 691,\n",
       " 'unusual': 965,\n",
       " 'item': 506,\n",
       " 'seeking': 839,\n",
       " 'concerning': 194,\n",
       " 'evidence': 344,\n",
       " 'consequently': 201,\n",
       " 'true': 951,\n",
       " 'connection': 200,\n",
       " 'disclosed': 285,\n",
       " 'cause': 146,\n",
       " 'believe': 121,\n",
       " 'keep': 512,\n",
       " 'accord': 6,\n",
       " 'drawn': 296,\n",
       " 'proper': 717,\n",
       " 'understanding': 957,\n",
       " 'reached': 740,\n",
       " 'apply': 69,\n",
       " 'professional': 709,\n",
       " 'high': 449,\n",
       " 'complete': 187,\n",
       " 'need': 602,\n",
       " 'highlight': 451,\n",
       " 'wish': 1000,\n",
       " 'disclose': 284,\n",
       " 'show': 858,\n",
       " 'meeting': 576,\n",
       " 'workshop': 1004,\n",
       " 'teaching': 927,\n",
       " 'error': 333,\n",
       " 'july': 510,\n",
       " 'health': 443,\n",
       " 'october': 617,\n",
       " 'first': 381,\n",
       " 'session': 850,\n",
       " 'took': 939,\n",
       " 'place': 667,\n",
       " 'street': 899,\n",
       " 'charged': 156,\n",
       " 'well': 992,\n",
       " 'week': 988,\n",
       " 'group': 433,\n",
       " 'home': 457,\n",
       " 'meet': 575,\n",
       " 'centre': 148,\n",
       " 'space': 877,\n",
       " 'free': 403,\n",
       " 'experience': 363,\n",
       " 'came': 137,\n",
       " 'working': 1003,\n",
       " 'performed': 660,\n",
       " 'covered': 233,\n",
       " 'included': 474,\n",
       " 'positive': 679,\n",
       " 'reported': 789,\n",
       " 'improved': 469,\n",
       " 'towards': 941,\n",
       " 'improvement': 470,\n",
       " 'community': 182,\n",
       " 'youth': 1009,\n",
       " 'ground': 432,\n",
       " 'adult': 37,\n",
       " 'attended': 96,\n",
       " 'foundation': 399,\n",
       " 'hold': 455,\n",
       " 'hope': 458,\n",
       " 'secure': 835,\n",
       " 'continue': 214,\n",
       " 'second': 832,\n",
       " 'others': 637,\n",
       " 'started': 888,\n",
       " 'december': 244,\n",
       " 'local': 544,\n",
       " 'full': 406,\n",
       " 'standard': 886,\n",
       " 'great': 429,\n",
       " 'visited': 980,\n",
       " 'many': 566,\n",
       " 'april': 77,\n",
       " 'director': 282,\n",
       " 'award': 109,\n",
       " 'nothing': 610,\n",
       " 'short': 857,\n",
       " 'several': 853,\n",
       " 'play': 673,\n",
       " 'even': 341,\n",
       " 'invited': 499,\n",
       " 'next': 605,\n",
       " 'september': 846,\n",
       " 'kind': 514,\n",
       " 'written': 1007,\n",
       " 'worked': 1002,\n",
       " 'hard': 440,\n",
       " 'monies': 588,\n",
       " 'initiative': 489,\n",
       " 'council': 227,\n",
       " 'continues': 216,\n",
       " 'open': 624,\n",
       " 'commitment': 177,\n",
       " 'referred': 763,\n",
       " 'team': 928,\n",
       " 'house': 460,\n",
       " 'disability': 283,\n",
       " 'west': 993,\n",
       " 'social': 867,\n",
       " 'medium': 574,\n",
       " 'maintain': 554,\n",
       " 'core': 223,\n",
       " 'student': 902,\n",
       " 'university': 962,\n",
       " 'take': 921,\n",
       " 'application': 67,\n",
       " 'success': 908,\n",
       " 'improving': 471,\n",
       " 'helping': 447,\n",
       " 'look': 548,\n",
       " 'welcome': 990,\n",
       " 'ability': 0,\n",
       " 'spent': 883,\n",
       " 'across': 22,\n",
       " 'opening': 625,\n",
       " 'found': 398,\n",
       " 'seen': 840,\n",
       " 'living': 542,\n",
       " 'coming': 175,\n",
       " 'build': 133,\n",
       " 'strong': 900,\n",
       " 'focus': 387,\n",
       " 'quality': 732,\n",
       " 'ensure': 323,\n",
       " 'together': 938,\n",
       " 'right': 816,\n",
       " 'commissioner': 176,\n",
       " 'contract': 218,\n",
       " 'like': 537,\n",
       " 'since': 862,\n",
       " 'every': 343,\n",
       " 'important': 466,\n",
       " 'held': 444,\n",
       " 'building': 134,\n",
       " 'physical': 666,\n",
       " 'learning': 527,\n",
       " 'supported': 916,\n",
       " 'based': 117,\n",
       " 'accept': 2,\n",
       " 'auditing': 102,\n",
       " 'make': 560,\n",
       " 'highly': 452,\n",
       " 'communication': 181,\n",
       " 'recommendation': 752,\n",
       " 'repair': 788,\n",
       " 'long': 546,\n",
       " 'done': 294,\n",
       " 'different': 278,\n",
       " 'variety': 975,\n",
       " 'improve': 468,\n",
       " 'however': 461,\n",
       " 'department': 259,\n",
       " 'priority': 702,\n",
       " 'government': 426,\n",
       " 'higher': 450,\n",
       " 'property': 719,\n",
       " 'better': 124,\n",
       " 'carrying': 143,\n",
       " 'condition': 195,\n",
       " 'january': 507,\n",
       " 'day': 241,\n",
       " 'giving': 421,\n",
       " 'site': 863,\n",
       " 'whose': 997,\n",
       " 'life': 535,\n",
       " 'figure': 378,\n",
       " 'offer': 618,\n",
       " 'safety': 825,\n",
       " 'much': 595,\n",
       " 'bring': 130,\n",
       " 'way': 986,\n",
       " 'keeping': 513,\n",
       " 'planned': 670,\n",
       " 'february': 376,\n",
       " 'area': 78,\n",
       " 'outside': 643,\n",
       " 'advice': 40,\n",
       " 'pleased': 674,\n",
       " 'finance': 380,\n",
       " 'agency': 43,\n",
       " 'specialist': 879,\n",
       " 'maintenance': 557,\n",
       " 'helped': 446,\n",
       " 'direct': 279,\n",
       " 'could': 226,\n",
       " 'change': 153,\n",
       " 'authority': 106,\n",
       " 'continued': 215,\n",
       " 'possible': 680,\n",
       " 'brought': 131,\n",
       " 'average': 108,\n",
       " 'revenue': 812,\n",
       " 'another': 62,\n",
       " 'safe': 823,\n",
       " 'live': 541,\n",
       " 'furniture': 413,\n",
       " 'summer': 914,\n",
       " 'friend': 405,\n",
       " 'money': 587,\n",
       " 'awarded': 110,\n",
       " 'court': 231,\n",
       " 'plant': 672,\n",
       " 'raised': 734,\n",
       " 'successful': 909,\n",
       " 'plan': 669,\n",
       " 'create': 234,\n",
       " 'grow': 434,\n",
       " 'care': 141,\n",
       " 'satisfied': 828,\n",
       " 'although': 55,\n",
       " 'existing': 359,\n",
       " 'including': 475,\n",
       " 'currently': 238,\n",
       " 'using': 971,\n",
       " 'cover': 232,\n",
       " 'engagement': 320,\n",
       " 'access': 4,\n",
       " 'june': 511,\n",
       " 'board': 126,\n",
       " 'equal': 329,\n",
       " 'decided': 245,\n",
       " 'scheme': 829,\n",
       " 'visit': 979,\n",
       " 'involved': 500,\n",
       " 'past': 654,\n",
       " 'taken': 922,\n",
       " 'recruitment': 757,\n",
       " 'process': 707,\n",
       " 'always': 56,\n",
       " 'best': 123,\n",
       " 'approach': 73,\n",
       " 'majority': 559,\n",
       " 'developing': 275,\n",
       " 'carry': 142,\n",
       " 'read': 741,\n",
       " 'personal': 663,\n",
       " 'result': 806,\n",
       " 'budget': 132,\n",
       " 'rental': 787,\n",
       " 'overall': 645,\n",
       " 'longer': 547,\n",
       " 'eligible': 309,\n",
       " 'fully': 408,\n",
       " 'promote': 714,\n",
       " 'excellent': 350,\n",
       " 'consistently': 205,\n",
       " 'outstanding': 644,\n",
       " 'supporting': 917,\n",
       " 'share': 855,\n",
       " 'skill': 864,\n",
       " 'used': 968,\n",
       " 'link': 539,\n",
       " 'without': 1001,\n",
       " 'voluntary': 981,\n",
       " 'beginning': 120,\n",
       " 'able': 1,\n",
       " 'formed': 396,\n",
       " 'achieve': 15,\n",
       " 'delivery': 257,\n",
       " 'rate': 737,\n",
       " 'thank': 932,\n",
       " 'significant': 860,\n",
       " 'prior': 701,\n",
       " 'committed': 178,\n",
       " 'continuing': 217,\n",
       " 'provides': 723,\n",
       " 'decision': 246,\n",
       " 'economic': 300,\n",
       " 'effective': 304,\n",
       " 'whilst': 994,\n",
       " 'ensuring': 324,\n",
       " 'central': 147,\n",
       " 'secretary': 833,\n",
       " 'compared': 185,\n",
       " 'operating': 628,\n",
       " 'surplus': 918,\n",
       " 'previous': 694,\n",
       " 'development': 276,\n",
       " 'line': 538,\n",
       " 'reduced': 759,\n",
       " 'raising': 735,\n",
       " 'reducing': 760,\n",
       " 'develop': 273,\n",
       " 'raise': 733,\n",
       " 'similar': 861,\n",
       " 'term': 931,\n",
       " 'addition': 28,\n",
       " 'expected': 361,\n",
       " 'early': 298,\n",
       " 'back': 113,\n",
       " 'become': 119,\n",
       " 'holding': 456,\n",
       " 'le': 522,\n",
       " 'stock': 895,\n",
       " 'auditor': 103,\n",
       " 'banker': 115,\n",
       " 'registration': 768,\n",
       " 'resigned': 801,\n",
       " 'operation': 629,\n",
       " 'hall': 438,\n",
       " 'london': 545,\n",
       " 'chartered': 158,\n",
       " 'strategic': 897,\n",
       " 'position': 678,\n",
       " 'flow': 386,\n",
       " 'audited': 101,\n",
       " 'united': 961,\n",
       " 'kingdom': 515,\n",
       " 'generally': 417,\n",
       " 'accepted': 3,\n",
       " 'practice': 685,\n",
       " 'reporting': 790,\n",
       " 'applicable': 66,\n",
       " 'republic': 795,\n",
       " 'ireland': 501,\n",
       " 'guarantee': 436,\n",
       " 'entity': 327,\n",
       " 'contained': 212,\n",
       " 'reviewing': 814,\n",
       " 'follows': 391,\n",
       " 'amounted': 58,\n",
       " 'employee': 312,\n",
       " 'established': 336,\n",
       " 'committee': 179,\n",
       " 'representative': 792,\n",
       " 'level': 534,\n",
       " 'market': 568,\n",
       " 'minimum': 581,\n",
       " 'wage': 983,\n",
       " 'opportunity': 631,\n",
       " 'monitoring': 590,\n",
       " 'regular': 769,\n",
       " 'aware': 111,\n",
       " 'relating': 776,\n",
       " 'employed': 311,\n",
       " 'external': 369,\n",
       " 'detailed': 269,\n",
       " 'wide': 998,\n",
       " 'background': 114,\n",
       " 'delegated': 253,\n",
       " 'insurance': 492,\n",
       " 'pension': 657,\n",
       " 'defined': 252,\n",
       " 'final': 379,\n",
       " 'revised': 815,\n",
       " 'exception': 352,\n",
       " 'actively': 25,\n",
       " 'encourage': 315,\n",
       " 'promoting': 715,\n",
       " 'ordinary': 632,\n",
       " 'user': 970,\n",
       " 'clear': 167,\n",
       " 'formal': 395,\n",
       " 'resolution': 802,\n",
       " 'internal': 493,\n",
       " 'control': 221,\n",
       " 'assurance': 94,\n",
       " 'maintaining': 556,\n",
       " 'designed': 267,\n",
       " 'misstatement': 583,\n",
       " 'loss': 550,\n",
       " 'managing': 565,\n",
       " 'throughout': 937,\n",
       " 'arrangement': 82,\n",
       " 'element': 308,\n",
       " 'framework': 401,\n",
       " 'planning': 671,\n",
       " 'appropriate': 74,\n",
       " 'outcome': 640,\n",
       " 'mean': 571,\n",
       " 'memorandum': 578,\n",
       " 'conducted': 196,\n",
       " 'fraud': 402,\n",
       " 'register': 767,\n",
       " 'maintained': 555,\n",
       " 'reviewed': 813,\n",
       " 'monthly': 592,\n",
       " 'therefore': 934,\n",
       " 'chairman': 151,\n",
       " 'accommodation': 5,\n",
       " 'south': 876,\n",
       " 'england': 321,\n",
       " 'expertise': 364,\n",
       " 'assist': 88,\n",
       " 'engage': 319,\n",
       " 'partner': 651,\n",
       " 'seek': 838,\n",
       " 'difference': 277,\n",
       " 'delivering': 256,\n",
       " 'gain': 416,\n",
       " 'taking': 923,\n",
       " 'agreed': 45,\n",
       " 'achieved': 16,\n",
       " 'primarily': 697,\n",
       " 'impact': 464,\n",
       " 'uncertainty': 956,\n",
       " 'administrative': 34,\n",
       " 'identify': 463,\n",
       " 'contribute': 219,\n",
       " 'sector': 834,\n",
       " 'welfare': 991,\n",
       " 'exempt': 357,\n",
       " 'five': 383,\n",
       " 'updated': 966,\n",
       " 'applied': 68,\n",
       " 'purpose': 730,\n",
       " 'model': 585,\n",
       " 'least': 529,\n",
       " 'owned': 646,\n",
       " 'operates': 627,\n",
       " 'monitor': 589,\n",
       " 'deliver': 254,\n",
       " 'loan': 543,\n",
       " 'environment': 328,\n",
       " 'reduction': 761,\n",
       " 'proportion': 720,\n",
       " 'debt': 242,\n",
       " 'delivered': 255,\n",
       " 'increase': 481,\n",
       " 'arising': 80,\n",
       " 'consistent': 204,\n",
       " 'expectation': 360,\n",
       " 'attributable': 99,\n",
       " 'proceeds': 706,\n",
       " 'sold': 870,\n",
       " 'capital': 139,\n",
       " 'light': 536,\n",
       " 'greater': 430,\n",
       " 'original': 636,\n",
       " 'disposal': 289,\n",
       " 'excluding': 355,\n",
       " 'action': 23,\n",
       " 'assessment': 87,\n",
       " 'website': 987,\n",
       " 'step': 893,\n",
       " 'demand': 258,\n",
       " 'completed': 188,\n",
       " 'agreement': 46,\n",
       " 'produced': 708,\n",
       " 'comparative': 184,\n",
       " 'decrease': 248,\n",
       " 'identified': 462,\n",
       " 'price': 696,\n",
       " 'undertake': 958,\n",
       " 'alternative': 54,\n",
       " 'published': 727,\n",
       " 'source': 875,\n",
       " 'hour': 459,\n",
       " 'exceeded': 349,\n",
       " 'obtained': 616,\n",
       " 'available': 107,\n",
       " 'recorded': 755,\n",
       " 'fee': 377,\n",
       " 'research': 798,\n",
       " 'invested': 496,\n",
       " 'attending': 97,\n",
       " 'aspect': 85,\n",
       " 'suitable': 912,\n",
       " 'associated': 90,\n",
       " 'developed': 274,\n",
       " 'analysis': 59,\n",
       " 'setting': 851,\n",
       " 'reduce': 758,\n",
       " 'post': 681,\n",
       " 'achieving': 18,\n",
       " 'considered': 203,\n",
       " 'corporate': 224,\n",
       " 'assessed': 86,\n",
       " 'marketing': 569,\n",
       " 'capacity': 138,\n",
       " 'relate': 773,\n",
       " 'depreciation': 263,\n",
       " 'county': 229,\n",
       " 'growth': 435,\n",
       " 'vehicle': 977,\n",
       " 'valuation': 972,\n",
       " 'beyond': 125,\n",
       " 'deficit': 251,\n",
       " 'fall': 373,\n",
       " 'shown': 859,\n",
       " 'facility': 371,\n",
       " 'fixed': 384,\n",
       " 'range': 736,\n",
       " 'around': 81,\n",
       " 'excess': 353,\n",
       " 'small': 865,\n",
       " 'regularly': 770,\n",
       " 'exposed': 366,\n",
       " 'calculated': 136,\n",
       " 'compliance': 189,\n",
       " 'preparing': 687,\n",
       " 'followed': 389,\n",
       " 'principle': 700,\n",
       " 'sorp': 874,\n",
       " 'transferred': 947,\n",
       " 'designated': 266,\n",
       " 'receivable': 747,\n",
       " 'payable': 655,\n",
       " 'plus': 675,\n",
       " 'reflect': 764,\n",
       " 'regulation': 771,\n",
       " 'requires': 797,\n",
       " 'must': 597,\n",
       " 'unless': 963,\n",
       " 'affair': 42,\n",
       " 'select': 841,\n",
       " 'judgement': 509,\n",
       " 'estimate': 338,\n",
       " 'prudent': 726,\n",
       " 'recommended': 753,\n",
       " 'subject': 904,\n",
       " 'departure': 260,\n",
       " 'explained': 365,\n",
       " 'going': 422,\n",
       " 'concern': 193,\n",
       " 'inappropriate': 472,\n",
       " 'presume': 692,\n",
       " 'adequate': 31,\n",
       " 'sufficient': 911,\n",
       " 'transaction': 945,\n",
       " 'accuracy': 14,\n",
       " 'hence': 448,\n",
       " 'prevention': 693,\n",
       " 'detection': 270,\n",
       " 'irregularity': 503,\n",
       " 'unaware': 955,\n",
       " 'ought': 639,\n",
       " 'legislation': 533,\n",
       " 'club': 171,\n",
       " 'comprise': 190,\n",
       " 'solely': 871,\n",
       " 'chapter': 154,\n",
       " 'might': 580,\n",
       " 'fullest': 407,\n",
       " 'extent': 368,\n",
       " 'permitted': 661,\n",
       " 'assume': 92,\n",
       " 'anyone': 63,\n",
       " 'express': 367,\n",
       " 'international': 494,\n",
       " 'require': 796,\n",
       " 'ethical': 340,\n",
       " 'scope': 831,\n",
       " 'properly': 718,\n",
       " 'private': 703,\n",
       " 'prescribed': 689,\n",
       " 'return': 810,\n",
       " 'branch': 129,\n",
       " 'certain': 149,\n",
       " 'remuneration': 785,\n",
       " 'specified': 882,\n",
       " 'equipment': 330,\n",
       " 'taxation': 926,\n",
       " 'tangible': 924,\n",
       " 'trade': 942,\n",
       " 'debtor': 243,\n",
       " 'equivalent': 332,\n",
       " 'creditor': 236,\n",
       " 'falling': 374,\n",
       " 'authorised': 105,\n",
       " 'generated': 418,\n",
       " 'investing': 497,\n",
       " 'factor': 372,\n",
       " 'along': 51,\n",
       " 'operational': 630,\n",
       " 'foreseeable': 393,\n",
       " 'twelve': 953,\n",
       " 'reason': 745,\n",
       " 'adopt': 35,\n",
       " 'recognised': 750,\n",
       " 'assumption': 93,\n",
       " 'recognition': 751,\n",
       " 'actual': 26,\n",
       " 'useful': 969,\n",
       " 'accumulated': 13,\n",
       " 'obligation': 613,\n",
       " 'discount': 286,\n",
       " 'comprises': 191,\n",
       " 'point': 676,\n",
       " 'reach': 739,\n",
       " 'otherwise': 638,\n",
       " 'added': 27,\n",
       " 'corporation': 225,\n",
       " 'exemption': 358,\n",
       " 'capitalised': 140,\n",
       " 'instrument': 491,\n",
       " 'basic': 118,\n",
       " 'accounted': 10,\n",
       " 'measured': 573,\n",
       " 'impairment': 465,\n",
       " 'incurred': 484,\n",
       " 'stated': 889,\n",
       " 'land': 519,\n",
       " 'treated': 950,\n",
       " 'separately': 845,\n",
       " 'remaining': 783,\n",
       " 'specific': 880,\n",
       " 'deferred': 250,\n",
       " 'accrual': 11,\n",
       " 'advance': 38,\n",
       " 'normally': 608,\n",
       " 'allocated': 48,\n",
       " 'freehold': 404,\n",
       " 'depreciated': 262,\n",
       " 'lease': 528,\n",
       " 'write': 1006,\n",
       " 'residual': 800,\n",
       " 'straight': 896,\n",
       " 'annually': 60,\n",
       " 'recoverable': 756,\n",
       " 'resulting': 807,\n",
       " 'potential': 683,\n",
       " 'fixture': 385,\n",
       " 'fitting': 382,\n",
       " 'computer': 192,\n",
       " 'motor': 593,\n",
       " 'determined': 272,\n",
       " 'classified': 166,\n",
       " 'initially': 488,\n",
       " 'lower': 551,\n",
       " 'case': 144,\n",
       " 'aggregate': 44,\n",
       " 'valued': 974,\n",
       " 'realisable': 743,\n",
       " 'constructive': 210,\n",
       " 'probable': 704,\n",
       " 'accrued': 12,\n",
       " 'forward': 397,\n",
       " 'class': 165,\n",
       " 'managed': 563,\n",
       " 'charging': 157,\n",
       " 'security': 837,\n",
       " 'emolument': 310,\n",
       " 'reimbursed': 772,\n",
       " 'special': 878,\n",
       " 'totalling': 940,\n",
       " 'none': 606,\n",
       " 'secured': 836,\n",
       " 'prepayment': 688,\n",
       " 'either': 306,\n",
       " 'employer': 313,\n",
       " 'represents': 794,\n",
       " 'obtain': 615,\n",
       " 'reconciliation': 754,\n",
       " 'closing': 170,\n",
       " 'ending': 317,\n",
       " 'annum': 61,\n",
       " 'legally': 532,\n",
       " 'november': 611,\n",
       " 'accordingly': 7,\n",
       " 'movement': 594,\n",
       " 'hand': 439,\n",
       " 'acquisition': 21,\n",
       " 'circumstance': 163,\n",
       " 'beneficiary': 122,\n",
       " 'deposit': 261,\n",
       " 'entitlement': 326,\n",
       " 'previously': 695,\n",
       " 'adjustment': 32,\n",
       " 'content': 213,\n",
       " 'looking': 549,\n",
       " 'necessary': 601,\n",
       " 'leadership': 525,\n",
       " 'lead': 523,\n",
       " 'head': 441,\n",
       " 'grateful': 428,\n",
       " 'role': 819,\n",
       " 'world': 1005,\n",
       " 'operate': 626,\n",
       " 'east': 299,\n",
       " 'described': 264,\n",
       " 'closely': 169,\n",
       " 'advantage': 39,\n",
       " 'mission': 582,\n",
       " 'leader': 524,\n",
       " 'particularly': 650,\n",
       " 'face': 370,\n",
       " 'encouraged': 316,\n",
       " 'donor': 295,\n",
       " 'directly': 281,\n",
       " 'vision': 978,\n",
       " 'society': 868,\n",
       " 'institution': 490,\n",
       " 'country': 228,\n",
       " 'power': 684,\n",
       " 'discussion': 288,\n",
       " 'third': 935,\n",
       " 'invest': 495,\n",
       " 'successfully': 910,\n",
       " 'weekly': 989,\n",
       " 'normal': 607,\n",
       " 'leading': 526,\n",
       " 'receive': 748,\n",
       " 'outreach': 642,\n",
       " 'contact': 211,\n",
       " 'alongside': 52,\n",
       " 'water': 985,\n",
       " 'common': 180,\n",
       " 'serve': 847,\n",
       " 'knowledge': 516,\n",
       " 'city': 164,\n",
       " 'food': 392,\n",
       " 'created': 235,\n",
       " 'apparent': 64,\n",
       " 'technology': 929,\n",
       " 'already': 53,\n",
       " 'various': 976,\n",
       " 'base': 116,\n",
       " 'primary': 698,\n",
       " 'exchange': 354,\n",
       " 'music': 596,\n",
       " 'gift': 420,\n",
       " 'regarding': 766,\n",
       " 'mitigate': 584,\n",
       " 'attend': 95,\n",
       " 'except': 351,\n",
       " 'portfolio': 677,\n",
       " 'nature': 600,\n",
       " 'measure': 572,\n",
       " 'function': 409,\n",
       " 'status': 891,\n",
       " 'represented': 793,\n",
       " 'consolidated': 206,\n",
       " 'mainly': 553,\n",
       " 'essential': 334,\n",
       " 'running': 822,\n",
       " 'promotion': 716,\n",
       " 'governed': 424,\n",
       " 'article': 83,\n",
       " 'subsidiary': 907,\n",
       " 'undertaking': 959,\n",
       " 'listed': 540,\n",
       " 'wholly': 996,\n",
       " 'duty': 297,\n",
       " 'observe': 614,\n",
       " 'wale': 984,\n",
       " 'thanks': 933,\n",
       " 'relief': 781,\n",
       " 'church': 162,\n",
       " 'materially': 570,\n",
       " 'inconsistent': 478,\n",
       " 'inconsistency': 477,\n",
       " 'determine': 271,\n",
       " 'arise': 79,\n",
       " 'legacy': 530,\n",
       " 'trading': 943,\n",
       " 'dated': 239,\n",
       " 'separate': 844,\n",
       " 'sofa': 869,\n",
       " 'heading': 442,\n",
       " 'imposed': 467,\n",
       " 'discretion': 287,\n",
       " 'furtherance': 414,\n",
       " 'aside': 84,\n",
       " 'allocation': 49,\n",
       " 'represent': 791,\n",
       " 'settlement': 852,\n",
       " 'reliably': 780,\n",
       " 'retirement': 809,\n",
       " 'premise': 686,\n",
       " 'incoming': 476,\n",
       " 'expended': 362,\n",
       " 'treasurer': 949,\n",
       " 'amended': 57,\n",
       " 'telephone': 930,\n",
       " 'room': 820,\n",
       " 'hire': 453,\n",
       " 'postage': 682,\n",
       " 'stationery': 890,\n",
       " 'subscription': 905,\n",
       " 'restriction': 805,\n",
       " 'served': 848,\n",
       " 'educational': 302,\n",
       " 'organised': 635,\n",
       " 'acknowledge': 19,\n",
       " 'convention': 222,\n",
       " 'smaller': 866,\n",
       " 'peter': 665,\n",
       " 'membership': 577,\n",
       " 'shall': 854,\n",
       " 'offering': 620,\n",
       " 'qualified': 731,\n",
       " 'outgoing': 641,\n",
       " 'enhance': 322,\n",
       " 'estate': 337,\n",
       " 'connected': 199,\n",
       " 'personnel': 664,\n",
       " 'college': 173,\n",
       " 'generating': 419,\n",
       " 'historical': 454,\n",
       " 'irrecoverable': 502,\n",
       " 'attributed': 100,\n",
       " 'stage': 885,\n",
       " 'resident': 799,\n",
       " 'soon': 873,\n",
       " 'study': 903,\n",
       " 'distribution': 290,\n",
       " 'real': 742,\n",
       " 'appeal': 65,\n",
       " 'purchased': 729,\n",
       " 'royal': 821,\n",
       " 'offered': 619,\n",
       " 'acquired': 20,\n",
       " 'equity': 331,\n",
       " 'constitutional': 209,\n",
       " 'revaluation': 811,\n",
       " 'unrealised': 964,\n",
       " ...}"
      ]
     },
     "execution_count": 124,
     "metadata": {},
     "output_type": "execute_result"
    }
   ],
   "source": [
    "#Gets the vocabulary\n",
    "fitted_vectorizer.vocabulary_"
   ]
  },
  {
   "cell_type": "code",
   "execution_count": 148,
   "metadata": {},
   "outputs": [
    {
     "ename": "IndexError",
     "evalue": "list index out of range",
     "output_type": "error",
     "traceback": [
      "\u001b[0;31m---------------------------------------------------------------------------\u001b[0m",
      "\u001b[0;31mIndexError\u001b[0m                                Traceback (most recent call last)",
      "\u001b[0;32m<ipython-input-148-6e30c9db0093>\u001b[0m in \u001b[0;36m<module>\u001b[0;34m\u001b[0m\n\u001b[1;32m      1\u001b[0m \u001b[0mvisualizer\u001b[0m \u001b[0;34m=\u001b[0m \u001b[0mFreqDistVisualizer\u001b[0m\u001b[0;34m(\u001b[0m\u001b[0mfeatures\u001b[0m\u001b[0;34m=\u001b[0m\u001b[0mfitted_vectorizer\u001b[0m\u001b[0;34m.\u001b[0m\u001b[0mget_feature_names\u001b[0m\u001b[0;34m(\u001b[0m\u001b[0;34m)\u001b[0m\u001b[0;34m,\u001b[0m \u001b[0morient\u001b[0m\u001b[0;34m=\u001b[0m\u001b[0;34m'v'\u001b[0m\u001b[0;34m)\u001b[0m\u001b[0;34m\u001b[0m\u001b[0;34m\u001b[0m\u001b[0m\n\u001b[0;32m----> 2\u001b[0;31m \u001b[0mvisualizer\u001b[0m\u001b[0;34m.\u001b[0m\u001b[0mfit\u001b[0m\u001b[0;34m(\u001b[0m\u001b[0mdocs\u001b[0m\u001b[0;34m)\u001b[0m\u001b[0;34m\u001b[0m\u001b[0;34m\u001b[0m\u001b[0m\n\u001b[0m\u001b[1;32m      3\u001b[0m \u001b[0mvisualizer\u001b[0m\u001b[0;34m.\u001b[0m\u001b[0mshow\u001b[0m\u001b[0;34m(\u001b[0m\u001b[0;34m)\u001b[0m\u001b[0;34m\u001b[0m\u001b[0;34m\u001b[0m\u001b[0m\n",
      "\u001b[0;32m~/.local/lib/python3.8/site-packages/yellowbrick/text/freqdist.py\u001b[0m in \u001b[0;36mfit\u001b[0;34m(self, X, y)\u001b[0m\n\u001b[1;32m    218\u001b[0m \u001b[0;34m\u001b[0m\u001b[0m\n\u001b[1;32m    219\u001b[0m         \u001b[0;31m# Draw and ensure that we return self\u001b[0m\u001b[0;34m\u001b[0m\u001b[0;34m\u001b[0m\u001b[0;34m\u001b[0m\u001b[0m\n\u001b[0;32m--> 220\u001b[0;31m         \u001b[0mself\u001b[0m\u001b[0;34m.\u001b[0m\u001b[0mdraw\u001b[0m\u001b[0;34m(\u001b[0m\u001b[0;34m)\u001b[0m\u001b[0;34m\u001b[0m\u001b[0;34m\u001b[0m\u001b[0m\n\u001b[0m\u001b[1;32m    221\u001b[0m         \u001b[0;32mreturn\u001b[0m \u001b[0mself\u001b[0m\u001b[0;34m\u001b[0m\u001b[0;34m\u001b[0m\u001b[0m\n\u001b[1;32m    222\u001b[0m \u001b[0;34m\u001b[0m\u001b[0m\n",
      "\u001b[0;32m~/.local/lib/python3.8/site-packages/yellowbrick/text/freqdist.py\u001b[0m in \u001b[0;36mdraw\u001b[0;34m(self, **kwargs)\u001b[0m\n\u001b[1;32m    233\u001b[0m         \u001b[0;31m# Prepare the data\u001b[0m\u001b[0;34m\u001b[0m\u001b[0;34m\u001b[0m\u001b[0;34m\u001b[0m\u001b[0m\n\u001b[1;32m    234\u001b[0m         \u001b[0mbins\u001b[0m \u001b[0;34m=\u001b[0m \u001b[0mnp\u001b[0m\u001b[0;34m.\u001b[0m\u001b[0marange\u001b[0m\u001b[0;34m(\u001b[0m\u001b[0mself\u001b[0m\u001b[0;34m.\u001b[0m\u001b[0mN\u001b[0m\u001b[0;34m)\u001b[0m\u001b[0;34m\u001b[0m\u001b[0;34m\u001b[0m\u001b[0m\n\u001b[0;32m--> 235\u001b[0;31m         \u001b[0mwords\u001b[0m \u001b[0;34m=\u001b[0m \u001b[0;34m[\u001b[0m\u001b[0mself\u001b[0m\u001b[0;34m.\u001b[0m\u001b[0mfeatures\u001b[0m\u001b[0;34m[\u001b[0m\u001b[0mi\u001b[0m\u001b[0;34m]\u001b[0m \u001b[0;32mfor\u001b[0m \u001b[0mi\u001b[0m \u001b[0;32min\u001b[0m \u001b[0mself\u001b[0m\u001b[0;34m.\u001b[0m\u001b[0msorted_\u001b[0m\u001b[0;34m[\u001b[0m\u001b[0;34m:\u001b[0m \u001b[0mself\u001b[0m\u001b[0;34m.\u001b[0m\u001b[0mN\u001b[0m\u001b[0;34m]\u001b[0m\u001b[0;34m]\u001b[0m\u001b[0;34m\u001b[0m\u001b[0;34m\u001b[0m\u001b[0m\n\u001b[0m\u001b[1;32m    236\u001b[0m         \u001b[0mfreqs\u001b[0m \u001b[0;34m=\u001b[0m \u001b[0;34m{\u001b[0m\u001b[0;34m}\u001b[0m\u001b[0;34m\u001b[0m\u001b[0;34m\u001b[0m\u001b[0m\n\u001b[1;32m    237\u001b[0m \u001b[0;34m\u001b[0m\u001b[0m\n",
      "\u001b[0;32m~/.local/lib/python3.8/site-packages/yellowbrick/text/freqdist.py\u001b[0m in \u001b[0;36m<listcomp>\u001b[0;34m(.0)\u001b[0m\n\u001b[1;32m    233\u001b[0m         \u001b[0;31m# Prepare the data\u001b[0m\u001b[0;34m\u001b[0m\u001b[0;34m\u001b[0m\u001b[0;34m\u001b[0m\u001b[0m\n\u001b[1;32m    234\u001b[0m         \u001b[0mbins\u001b[0m \u001b[0;34m=\u001b[0m \u001b[0mnp\u001b[0m\u001b[0;34m.\u001b[0m\u001b[0marange\u001b[0m\u001b[0;34m(\u001b[0m\u001b[0mself\u001b[0m\u001b[0;34m.\u001b[0m\u001b[0mN\u001b[0m\u001b[0;34m)\u001b[0m\u001b[0;34m\u001b[0m\u001b[0;34m\u001b[0m\u001b[0m\n\u001b[0;32m--> 235\u001b[0;31m         \u001b[0mwords\u001b[0m \u001b[0;34m=\u001b[0m \u001b[0;34m[\u001b[0m\u001b[0mself\u001b[0m\u001b[0;34m.\u001b[0m\u001b[0mfeatures\u001b[0m\u001b[0;34m[\u001b[0m\u001b[0mi\u001b[0m\u001b[0;34m]\u001b[0m \u001b[0;32mfor\u001b[0m \u001b[0mi\u001b[0m \u001b[0;32min\u001b[0m \u001b[0mself\u001b[0m\u001b[0;34m.\u001b[0m\u001b[0msorted_\u001b[0m\u001b[0;34m[\u001b[0m\u001b[0;34m:\u001b[0m \u001b[0mself\u001b[0m\u001b[0;34m.\u001b[0m\u001b[0mN\u001b[0m\u001b[0;34m]\u001b[0m\u001b[0;34m]\u001b[0m\u001b[0;34m\u001b[0m\u001b[0;34m\u001b[0m\u001b[0m\n\u001b[0m\u001b[1;32m    236\u001b[0m         \u001b[0mfreqs\u001b[0m \u001b[0;34m=\u001b[0m \u001b[0;34m{\u001b[0m\u001b[0;34m}\u001b[0m\u001b[0;34m\u001b[0m\u001b[0;34m\u001b[0m\u001b[0m\n\u001b[1;32m    237\u001b[0m \u001b[0;34m\u001b[0m\u001b[0m\n",
      "\u001b[0;31mIndexError\u001b[0m: list index out of range"
     ]
    }
   ],
   "source": [
    "visualizer = FreqDistVisualizer(features=fitted_vectorizer.get_feature_names(), orient='v')\n",
    "visualizer.fit(docs)\n",
    "visualizer.show()"
   ]
  },
  {
   "cell_type": "code",
   "execution_count": 43,
   "metadata": {},
   "outputs": [
    {
     "ename": "AttributeError",
     "evalue": "'list' object has no attribute 'lower'",
     "output_type": "error",
     "traceback": [
      "\u001b[0;31m---------------------------------------------------------------------------\u001b[0m",
      "\u001b[0;31mAttributeError\u001b[0m                            Traceback (most recent call last)",
      "\u001b[0;32m<ipython-input-43-29bb570367e0>\u001b[0m in \u001b[0;36m<module>\u001b[0;34m\u001b[0m\n\u001b[1;32m      1\u001b[0m tfidf_vectorizer=TfidfVectorizer(use_idf=True, max_df=0.8, max_features=200000,\n\u001b[1;32m      2\u001b[0m                                  min_df=0)\n\u001b[0;32m----> 3\u001b[0;31m \u001b[0mfitted_vectorizer\u001b[0m\u001b[0;34m=\u001b[0m\u001b[0mtfidf_vectorizer\u001b[0m\u001b[0;34m.\u001b[0m\u001b[0mfit\u001b[0m\u001b[0;34m(\u001b[0m\u001b[0mdocs\u001b[0m\u001b[0;34m)\u001b[0m\u001b[0;34m\u001b[0m\u001b[0;34m\u001b[0m\u001b[0m\n\u001b[0m\u001b[1;32m      4\u001b[0m \u001b[0mtfidf_vectorizer_vectors\u001b[0m\u001b[0;34m=\u001b[0m\u001b[0mfitted_vectorizer\u001b[0m\u001b[0;34m.\u001b[0m\u001b[0mtransform\u001b[0m\u001b[0;34m(\u001b[0m\u001b[0mdocs\u001b[0m\u001b[0;34m)\u001b[0m\u001b[0;34m\u001b[0m\u001b[0;34m\u001b[0m\u001b[0m\n\u001b[1;32m      5\u001b[0m \u001b[0mtfidf\u001b[0m\u001b[0;34m.\u001b[0m\u001b[0mget_feature_names\u001b[0m\u001b[0;34m(\u001b[0m\u001b[0;34m)\u001b[0m\u001b[0;34m\u001b[0m\u001b[0;34m\u001b[0m\u001b[0m\n",
      "\u001b[0;32m~/.local/lib/python3.8/site-packages/sklearn/feature_extraction/text.py\u001b[0m in \u001b[0;36mfit\u001b[0;34m(self, raw_documents, y)\u001b[0m\n\u001b[1;32m   1816\u001b[0m         \u001b[0mself\u001b[0m\u001b[0;34m.\u001b[0m\u001b[0m_check_params\u001b[0m\u001b[0;34m(\u001b[0m\u001b[0;34m)\u001b[0m\u001b[0;34m\u001b[0m\u001b[0;34m\u001b[0m\u001b[0m\n\u001b[1;32m   1817\u001b[0m         \u001b[0mself\u001b[0m\u001b[0;34m.\u001b[0m\u001b[0m_warn_for_unused_params\u001b[0m\u001b[0;34m(\u001b[0m\u001b[0;34m)\u001b[0m\u001b[0;34m\u001b[0m\u001b[0;34m\u001b[0m\u001b[0m\n\u001b[0;32m-> 1818\u001b[0;31m         \u001b[0mX\u001b[0m \u001b[0;34m=\u001b[0m \u001b[0msuper\u001b[0m\u001b[0;34m(\u001b[0m\u001b[0;34m)\u001b[0m\u001b[0;34m.\u001b[0m\u001b[0mfit_transform\u001b[0m\u001b[0;34m(\u001b[0m\u001b[0mraw_documents\u001b[0m\u001b[0;34m)\u001b[0m\u001b[0;34m\u001b[0m\u001b[0;34m\u001b[0m\u001b[0m\n\u001b[0m\u001b[1;32m   1819\u001b[0m         \u001b[0mself\u001b[0m\u001b[0;34m.\u001b[0m\u001b[0m_tfidf\u001b[0m\u001b[0;34m.\u001b[0m\u001b[0mfit\u001b[0m\u001b[0;34m(\u001b[0m\u001b[0mX\u001b[0m\u001b[0;34m)\u001b[0m\u001b[0;34m\u001b[0m\u001b[0;34m\u001b[0m\u001b[0m\n\u001b[1;32m   1820\u001b[0m         \u001b[0;32mreturn\u001b[0m \u001b[0mself\u001b[0m\u001b[0;34m\u001b[0m\u001b[0;34m\u001b[0m\u001b[0m\n",
      "\u001b[0;32m~/.local/lib/python3.8/site-packages/sklearn/feature_extraction/text.py\u001b[0m in \u001b[0;36mfit_transform\u001b[0;34m(self, raw_documents, y)\u001b[0m\n\u001b[1;32m   1196\u001b[0m         \u001b[0mmax_features\u001b[0m \u001b[0;34m=\u001b[0m \u001b[0mself\u001b[0m\u001b[0;34m.\u001b[0m\u001b[0mmax_features\u001b[0m\u001b[0;34m\u001b[0m\u001b[0;34m\u001b[0m\u001b[0m\n\u001b[1;32m   1197\u001b[0m \u001b[0;34m\u001b[0m\u001b[0m\n\u001b[0;32m-> 1198\u001b[0;31m         vocabulary, X = self._count_vocab(raw_documents,\n\u001b[0m\u001b[1;32m   1199\u001b[0m                                           self.fixed_vocabulary_)\n\u001b[1;32m   1200\u001b[0m \u001b[0;34m\u001b[0m\u001b[0m\n",
      "\u001b[0;32m~/.local/lib/python3.8/site-packages/sklearn/feature_extraction/text.py\u001b[0m in \u001b[0;36m_count_vocab\u001b[0;34m(self, raw_documents, fixed_vocab)\u001b[0m\n\u001b[1;32m   1108\u001b[0m         \u001b[0;32mfor\u001b[0m \u001b[0mdoc\u001b[0m \u001b[0;32min\u001b[0m \u001b[0mraw_documents\u001b[0m\u001b[0;34m:\u001b[0m\u001b[0;34m\u001b[0m\u001b[0;34m\u001b[0m\u001b[0m\n\u001b[1;32m   1109\u001b[0m             \u001b[0mfeature_counter\u001b[0m \u001b[0;34m=\u001b[0m \u001b[0;34m{\u001b[0m\u001b[0;34m}\u001b[0m\u001b[0;34m\u001b[0m\u001b[0;34m\u001b[0m\u001b[0m\n\u001b[0;32m-> 1110\u001b[0;31m             \u001b[0;32mfor\u001b[0m \u001b[0mfeature\u001b[0m \u001b[0;32min\u001b[0m \u001b[0manalyze\u001b[0m\u001b[0;34m(\u001b[0m\u001b[0mdoc\u001b[0m\u001b[0;34m)\u001b[0m\u001b[0;34m:\u001b[0m\u001b[0;34m\u001b[0m\u001b[0;34m\u001b[0m\u001b[0m\n\u001b[0m\u001b[1;32m   1111\u001b[0m                 \u001b[0;32mtry\u001b[0m\u001b[0;34m:\u001b[0m\u001b[0;34m\u001b[0m\u001b[0;34m\u001b[0m\u001b[0m\n\u001b[1;32m   1112\u001b[0m                     \u001b[0mfeature_idx\u001b[0m \u001b[0;34m=\u001b[0m \u001b[0mvocabulary\u001b[0m\u001b[0;34m[\u001b[0m\u001b[0mfeature\u001b[0m\u001b[0;34m]\u001b[0m\u001b[0;34m\u001b[0m\u001b[0;34m\u001b[0m\u001b[0m\n",
      "\u001b[0;32m~/.local/lib/python3.8/site-packages/sklearn/feature_extraction/text.py\u001b[0m in \u001b[0;36m_analyze\u001b[0;34m(doc, analyzer, tokenizer, ngrams, preprocessor, decoder, stop_words)\u001b[0m\n\u001b[1;32m    102\u001b[0m     \u001b[0;32melse\u001b[0m\u001b[0;34m:\u001b[0m\u001b[0;34m\u001b[0m\u001b[0;34m\u001b[0m\u001b[0m\n\u001b[1;32m    103\u001b[0m         \u001b[0;32mif\u001b[0m \u001b[0mpreprocessor\u001b[0m \u001b[0;32mis\u001b[0m \u001b[0;32mnot\u001b[0m \u001b[0;32mNone\u001b[0m\u001b[0;34m:\u001b[0m\u001b[0;34m\u001b[0m\u001b[0;34m\u001b[0m\u001b[0m\n\u001b[0;32m--> 104\u001b[0;31m             \u001b[0mdoc\u001b[0m \u001b[0;34m=\u001b[0m \u001b[0mpreprocessor\u001b[0m\u001b[0;34m(\u001b[0m\u001b[0mdoc\u001b[0m\u001b[0;34m)\u001b[0m\u001b[0;34m\u001b[0m\u001b[0;34m\u001b[0m\u001b[0m\n\u001b[0m\u001b[1;32m    105\u001b[0m         \u001b[0;32mif\u001b[0m \u001b[0mtokenizer\u001b[0m \u001b[0;32mis\u001b[0m \u001b[0;32mnot\u001b[0m \u001b[0;32mNone\u001b[0m\u001b[0;34m:\u001b[0m\u001b[0;34m\u001b[0m\u001b[0;34m\u001b[0m\u001b[0m\n\u001b[1;32m    106\u001b[0m             \u001b[0mdoc\u001b[0m \u001b[0;34m=\u001b[0m \u001b[0mtokenizer\u001b[0m\u001b[0;34m(\u001b[0m\u001b[0mdoc\u001b[0m\u001b[0;34m)\u001b[0m\u001b[0;34m\u001b[0m\u001b[0;34m\u001b[0m\u001b[0m\n",
      "\u001b[0;32m~/.local/lib/python3.8/site-packages/sklearn/feature_extraction/text.py\u001b[0m in \u001b[0;36m_preprocess\u001b[0;34m(doc, accent_function, lower)\u001b[0m\n\u001b[1;32m     67\u001b[0m     \"\"\"\n\u001b[1;32m     68\u001b[0m     \u001b[0;32mif\u001b[0m \u001b[0mlower\u001b[0m\u001b[0;34m:\u001b[0m\u001b[0;34m\u001b[0m\u001b[0;34m\u001b[0m\u001b[0m\n\u001b[0;32m---> 69\u001b[0;31m         \u001b[0mdoc\u001b[0m \u001b[0;34m=\u001b[0m \u001b[0mdoc\u001b[0m\u001b[0;34m.\u001b[0m\u001b[0mlower\u001b[0m\u001b[0;34m(\u001b[0m\u001b[0;34m)\u001b[0m\u001b[0;34m\u001b[0m\u001b[0;34m\u001b[0m\u001b[0m\n\u001b[0m\u001b[1;32m     70\u001b[0m     \u001b[0;32mif\u001b[0m \u001b[0maccent_function\u001b[0m \u001b[0;32mis\u001b[0m \u001b[0;32mnot\u001b[0m \u001b[0;32mNone\u001b[0m\u001b[0;34m:\u001b[0m\u001b[0;34m\u001b[0m\u001b[0;34m\u001b[0m\u001b[0m\n\u001b[1;32m     71\u001b[0m         \u001b[0mdoc\u001b[0m \u001b[0;34m=\u001b[0m \u001b[0maccent_function\u001b[0m\u001b[0;34m(\u001b[0m\u001b[0mdoc\u001b[0m\u001b[0;34m)\u001b[0m\u001b[0;34m\u001b[0m\u001b[0;34m\u001b[0m\u001b[0m\n",
      "\u001b[0;31mAttributeError\u001b[0m: 'list' object has no attribute 'lower'"
     ]
    }
   ],
   "source": [
    "tfidf_vectorizer=TfidfVectorizer(use_idf=True, max_df=0.8, max_features=200000,\n",
    "                                 min_df=0)\n",
    "fitted_vectorizer=tfidf_vectorizer.fit(docs)\n",
    "tfidf_vectorizer_vectors=fitted_vectorizer.transform(docs)\n",
    "tfidf.get_feature_names()"
   ]
  },
  {
   "cell_type": "code",
   "execution_count": 62,
   "metadata": {},
   "outputs": [
    {
     "ename": "NameError",
     "evalue": "name 'km' is not defined",
     "output_type": "error",
     "traceback": [
      "\u001b[0;31m---------------------------------------------------------------------------\u001b[0m",
      "\u001b[0;31mNameError\u001b[0m                                 Traceback (most recent call last)",
      "\u001b[0;32m<ipython-input-62-ac7bae00aea9>\u001b[0m in \u001b[0;36m<module>\u001b[0;34m\u001b[0m\n\u001b[1;32m      9\u001b[0m \u001b[0;31m# Create the visualizer and draw the vectors\u001b[0m\u001b[0;34m\u001b[0m\u001b[0;34m\u001b[0m\u001b[0;34m\u001b[0m\u001b[0m\n\u001b[1;32m     10\u001b[0m \u001b[0mtsne\u001b[0m \u001b[0;34m=\u001b[0m \u001b[0mTSNEVisualizer\u001b[0m\u001b[0;34m(\u001b[0m\u001b[0;34m)\u001b[0m\u001b[0;34m\u001b[0m\u001b[0;34m\u001b[0m\u001b[0m\n\u001b[0;32m---> 11\u001b[0;31m \u001b[0mtsne\u001b[0m\u001b[0;34m.\u001b[0m\u001b[0mfit\u001b[0m\u001b[0;34m(\u001b[0m\u001b[0mX\u001b[0m\u001b[0;34m,\u001b[0m \u001b[0mkm\u001b[0m\u001b[0;34m.\u001b[0m\u001b[0mlabels_\u001b[0m\u001b[0;34m)\u001b[0m\u001b[0;34m\u001b[0m\u001b[0;34m\u001b[0m\u001b[0m\n\u001b[0m\u001b[1;32m     12\u001b[0m \u001b[0mtsne\u001b[0m\u001b[0;34m.\u001b[0m\u001b[0mshow\u001b[0m\u001b[0;34m(\u001b[0m\u001b[0;34m)\u001b[0m\u001b[0;34m\u001b[0m\u001b[0;34m\u001b[0m\u001b[0m\n",
      "\u001b[0;31mNameError\u001b[0m: name 'km' is not defined"
     ]
    }
   ],
   "source": [
    "from sklearn.feature_extraction.text import TfidfVectorizer\n",
    "\n",
    "from yellowbrick.text import TSNEVisualizer\n",
    "\n",
    "# Load the data and create document vectors\n",
    "\n",
    "tfidf = TfidfVectorizer()\n",
    "\n",
    "# Create the visualizer and draw the vectors\n",
    "tsne = TSNEVisualizer()\n",
    "tsne.fit(X, km.labels_)\n",
    "tsne.show()"
   ]
  },
  {
   "cell_type": "code",
   "execution_count": 69,
   "metadata": {
    "scrolled": false
   },
   "outputs": [
    {
     "ename": "YellowbrickValueError",
     "evalue": "umap package doesn't seem to be installed.Please install UMAP via: pip install umap-learn",
     "output_type": "error",
     "traceback": [
      "\u001b[0;31m---------------------------------------------------------------------------\u001b[0m",
      "\u001b[0;31mYellowbrickValueError\u001b[0m                     Traceback (most recent call last)",
      "\u001b[0;32m<ipython-input-69-1a76591bceb7>\u001b[0m in \u001b[0;36m<module>\u001b[0;34m\u001b[0m\n\u001b[1;32m      5\u001b[0m \u001b[0;34m\u001b[0m\u001b[0m\n\u001b[1;32m      6\u001b[0m \u001b[0;31m# Instantiate the text visualizer\u001b[0m\u001b[0;34m\u001b[0m\u001b[0;34m\u001b[0m\u001b[0;34m\u001b[0m\u001b[0m\n\u001b[0;32m----> 7\u001b[0;31m \u001b[0mumap\u001b[0m \u001b[0;34m=\u001b[0m \u001b[0mUMAPVisualizer\u001b[0m\u001b[0;34m(\u001b[0m\u001b[0;34m)\u001b[0m\u001b[0;34m\u001b[0m\u001b[0;34m\u001b[0m\u001b[0m\n\u001b[0m\u001b[1;32m      8\u001b[0m \u001b[0mumap\u001b[0m\u001b[0;34m.\u001b[0m\u001b[0mfit\u001b[0m\u001b[0;34m(\u001b[0m\u001b[0mX\u001b[0m\u001b[0;34m,\u001b[0m \u001b[0mkm\u001b[0m\u001b[0;34m.\u001b[0m\u001b[0mlabels\u001b[0m\u001b[0;34m)\u001b[0m\u001b[0;34m\u001b[0m\u001b[0;34m\u001b[0m\u001b[0m\n\u001b[1;32m      9\u001b[0m \u001b[0mumap\u001b[0m\u001b[0;34m.\u001b[0m\u001b[0mshow\u001b[0m\u001b[0;34m(\u001b[0m\u001b[0;34m)\u001b[0m\u001b[0;34m\u001b[0m\u001b[0;34m\u001b[0m\u001b[0m\n",
      "\u001b[0;32m~/.local/lib/python3.8/site-packages/yellowbrick/text/umap_vis.py\u001b[0m in \u001b[0;36m__init__\u001b[0;34m(self, ax, labels, classes, colors, colormap, random_state, alpha, **kwargs)\u001b[0m\n\u001b[1;32m    208\u001b[0m \u001b[0;34m\u001b[0m\u001b[0m\n\u001b[1;32m    209\u001b[0m         \u001b[0;32mif\u001b[0m \u001b[0mUMAP\u001b[0m \u001b[0;32mis\u001b[0m \u001b[0;32mNone\u001b[0m\u001b[0;34m:\u001b[0m\u001b[0;34m\u001b[0m\u001b[0;34m\u001b[0m\u001b[0m\n\u001b[0;32m--> 210\u001b[0;31m             raise YellowbrickValueError(\n\u001b[0m\u001b[1;32m    211\u001b[0m                 (\n\u001b[1;32m    212\u001b[0m                     \u001b[0;34m\"umap package doesn't seem to be installed.\"\u001b[0m\u001b[0;34m\u001b[0m\u001b[0;34m\u001b[0m\u001b[0m\n",
      "\u001b[0;31mYellowbrickValueError\u001b[0m: umap package doesn't seem to be installed.Please install UMAP via: pip install umap-learn"
     ]
    }
   ],
   "source": [
    "from sklearn.feature_extraction.text import TfidfVectorizer\n",
    "\n",
    "from yellowbrick.datasets import load_hobbies\n",
    "from yellowbrick.text import UMAPVisualizer\n",
    "\n",
    "# Instantiate the text visualizer\n",
    "umap = UMAPVisualizer()\n",
    "umap.fit(X, km.labels)\n",
    "umap.show()"
   ]
  },
  {
   "cell_type": "code",
   "execution_count": 22,
   "metadata": {},
   "outputs": [
    {
     "data": {
      "text/plain": [
       "['NULL_CLASS',\n",
       " '__class__',\n",
       " '__delattr__',\n",
       " '__dict__',\n",
       " '__dir__',\n",
       " '__doc__',\n",
       " '__eq__',\n",
       " '__format__',\n",
       " '__ge__',\n",
       " '__getattribute__',\n",
       " '__getstate__',\n",
       " '__gt__',\n",
       " '__hash__',\n",
       " '__init__',\n",
       " '__init_subclass__',\n",
       " '__le__',\n",
       " '__lt__',\n",
       " '__module__',\n",
       " '__ne__',\n",
       " '__new__',\n",
       " '__reduce__',\n",
       " '__reduce_ex__',\n",
       " '__repr__',\n",
       " '__setattr__',\n",
       " '__setstate__',\n",
       " '__sizeof__',\n",
       " '__str__',\n",
       " '__subclasshook__',\n",
       " '__weakref__',\n",
       " '_ax',\n",
       " '_check_n_features',\n",
       " '_fig',\n",
       " '_get_param_names',\n",
       " '_get_tags',\n",
       " '_more_tags',\n",
       " '_repr_html_',\n",
       " '_repr_html_inner',\n",
       " '_repr_mimebundle_',\n",
       " '_size',\n",
       " '_validate_data',\n",
       " 'alpha',\n",
       " 'ax',\n",
       " 'classes_',\n",
       " 'color',\n",
       " 'color_values_',\n",
       " 'colormap',\n",
       " 'colors',\n",
       " 'draw',\n",
       " 'fig',\n",
       " 'finalize',\n",
       " 'fit',\n",
       " 'fit_transform',\n",
       " 'fit_transform_show',\n",
       " 'get_params',\n",
       " 'labels',\n",
       " 'make_transformer',\n",
       " 'n_instances_',\n",
       " 'poof',\n",
       " 'random_state',\n",
       " 'set_params',\n",
       " 'set_title',\n",
       " 'show',\n",
       " 'size',\n",
       " 'title',\n",
       " 'transform',\n",
       " 'transformer_']"
      ]
     },
     "execution_count": 22,
     "metadata": {},
     "output_type": "execute_result"
    }
   ],
   "source": [
    "dir(tsne)"
   ]
  },
  {
   "cell_type": "code",
   "execution_count": 137,
   "metadata": {},
   "outputs": [
    {
     "data": {
      "text/plain": [
       "<1x10408 sparse matrix of type '<class 'numpy.float64'>'\n",
       "\twith 1459 stored elements in Compressed Sparse Row format>"
      ]
     },
     "execution_count": 137,
     "metadata": {},
     "output_type": "execute_result"
    }
   ],
   "source": [
    "X[1709]"
   ]
  },
  {
   "cell_type": "markdown",
   "metadata": {},
   "source": [
    "# Calculate the pairwise similarity matrix"
   ]
  },
  {
   "cell_type": "markdown",
   "metadata": {},
   "source": [
    "pairwise_similarity = X * X.T "
   ]
  },
  {
   "cell_type": "code",
   "execution_count": 117,
   "metadata": {},
   "outputs": [
    {
     "data": {
      "text/plain": [
       "<1x1729 sparse matrix of type '<class 'numpy.float64'>'\n",
       "\twith 1729 stored elements in Compressed Sparse Row format>"
      ]
     },
     "execution_count": 117,
     "metadata": {},
     "output_type": "execute_result"
    }
   ],
   "source": [
    "pairwise_similarity[1]"
   ]
  },
  {
   "cell_type": "code",
   "execution_count": 112,
   "metadata": {},
   "outputs": [
    {
     "data": {
      "text/plain": [
       "0.1002656674204876"
      ]
     },
     "execution_count": 112,
     "metadata": {},
     "output_type": "execute_result"
    }
   ],
   "source": [
    "density = X.getnnz() / np.prod(X.shape)\n",
    "density"
   ]
  },
  {
   "cell_type": "markdown",
   "metadata": {},
   "source": [
    "# Plot the sparse matrix of Tfifd scores"
   ]
  },
  {
   "cell_type": "code",
   "execution_count": 143,
   "metadata": {},
   "outputs": [
    {
     "data": {
      "text/plain": [
       "<matplotlib.lines.Line2D at 0x7f837028ca60>"
      ]
     },
     "execution_count": 143,
     "metadata": {},
     "output_type": "execute_result"
    },
    {
     "data": {
      "image/png": "[encoded data removed]",
      "text/plain": [
       "<Figure size 576x396 with 1 Axes>"
      ]
     },
     "metadata": {},
     "output_type": "display_data"
    }
   ],
   "source": [
    "plt.spy(X, markersize=0.1)"
   ]
  },
  {
   "cell_type": "code",
   "execution_count": 121,
   "metadata": {},
   "outputs": [
    {
     "ename": "NameError",
     "evalue": "name 'sparse' is not defined",
     "output_type": "error",
     "traceback": [
      "\u001b[0;31m---------------------------------------------------------------------------\u001b[0m",
      "\u001b[0;31mNameError\u001b[0m                                 Traceback (most recent call last)",
      "\u001b[0;32m<ipython-input-121-f5c9b8dd8baf>\u001b[0m in \u001b[0;36m<module>\u001b[0;34m\u001b[0m\n\u001b[0;32m----> 1\u001b[0;31m \u001b[0mA\u001b[0m \u001b[0;34m=\u001b[0m \u001b[0msparse\u001b[0m\u001b[0;34m.\u001b[0m\u001b[0mrandom\u001b[0m\u001b[0;34m(\u001b[0m\u001b[0;36m100\u001b[0m\u001b[0;34m,\u001b[0m\u001b[0;36m100\u001b[0m\u001b[0;34m,\u001b[0m \u001b[0mdensity\u001b[0m\u001b[0;34m=\u001b[0m\u001b[0;36m0.01\u001b[0m\u001b[0;34m)\u001b[0m\u001b[0;34m\u001b[0m\u001b[0;34m\u001b[0m\u001b[0m\n\u001b[0m\u001b[1;32m      2\u001b[0m \u001b[0mplt\u001b[0m\u001b[0;34m.\u001b[0m\u001b[0mspy\u001b[0m\u001b[0;34m(\u001b[0m\u001b[0mA\u001b[0m\u001b[0;34m,\u001b[0m \u001b[0mmarkersize\u001b[0m\u001b[0;34m=\u001b[0m\u001b[0;36m4\u001b[0m\u001b[0;34m)\u001b[0m\u001b[0;34m\u001b[0m\u001b[0;34m\u001b[0m\u001b[0m\n",
      "\u001b[0;31mNameError\u001b[0m: name 'sparse' is not defined"
     ]
    }
   ],
   "source": [
    "A = sparse.random(100,100, density=0.01)\n",
    "plt.spy(A, markersize=4)"
   ]
  },
  {
   "cell_type": "code",
   "execution_count": 139,
   "metadata": {},
   "outputs": [],
   "source": [
    "import matplotlib.pyplot as plt\n",
    "from scipy.sparse import coo_matrix\n",
    "\n",
    "def plot_coo_matrix(m):\n",
    "    if not isinstance(m, coo_matrix):\n",
    "        m = coo_matrix(m)\n",
    "    fig = plt.figure()\n",
    "    ax = fig.add_subplot(111, facecolor='black')\n",
    "    ax.plot(m.col, m.row, 's', color='white', ms=1)\n",
    "    ax.set_xlim(0, m.shape[1])\n",
    "    ax.set_ylim(0, m.shape[0])\n",
    "    ax.set_aspect('equal')\n",
    "    for spine in ax.spines.values():\n",
    "        spine.set_visible(False)\n",
    "    ax.invert_yaxis()\n",
    "    ax.set_aspect('equal')\n",
    "    ax.set_xticks([])\n",
    "    ax.set_yticks([])\n",
    "    return ax"
   ]
  },
  {
   "cell_type": "code",
   "execution_count": null,
   "metadata": {},
   "outputs": [],
   "source": []
  },
  {
   "cell_type": "code",
   "execution_count": 108,
   "metadata": {},
   "outputs": [
    {
     "ename": "ValueError",
     "evalue": "Must pass 2-d input. shape=()",
     "output_type": "error",
     "traceback": [
      "\u001b[0;31m---------------------------------------------------------------------------\u001b[0m",
      "\u001b[0;31mValueError\u001b[0m                                Traceback (most recent call last)",
      "\u001b[0;32m<ipython-input-108-fb89e9088500>\u001b[0m in \u001b[0;36m<module>\u001b[0;34m\u001b[0m\n\u001b[1;32m      2\u001b[0m \u001b[0;32mimport\u001b[0m \u001b[0mseaborn\u001b[0m \u001b[0;32mas\u001b[0m \u001b[0msns\u001b[0m\u001b[0;34m;\u001b[0m \u001b[0msns\u001b[0m\u001b[0;34m.\u001b[0m\u001b[0mset_theme\u001b[0m\u001b[0;34m(\u001b[0m\u001b[0;34m)\u001b[0m\u001b[0;34m\u001b[0m\u001b[0;34m\u001b[0m\u001b[0m\n\u001b[1;32m      3\u001b[0m \u001b[0muniform_data\u001b[0m \u001b[0;34m=\u001b[0m \u001b[0mnp\u001b[0m\u001b[0;34m.\u001b[0m\u001b[0mrandom\u001b[0m\u001b[0;34m.\u001b[0m\u001b[0mrand\u001b[0m\u001b[0;34m(\u001b[0m\u001b[0;36m10\u001b[0m\u001b[0;34m,\u001b[0m \u001b[0;36m12\u001b[0m\u001b[0;34m)\u001b[0m\u001b[0;34m\u001b[0m\u001b[0;34m\u001b[0m\u001b[0m\n\u001b[0;32m----> 4\u001b[0;31m \u001b[0max\u001b[0m \u001b[0;34m=\u001b[0m \u001b[0msns\u001b[0m\u001b[0;34m.\u001b[0m\u001b[0mheatmap\u001b[0m\u001b[0;34m(\u001b[0m\u001b[0mpairwise_similarity\u001b[0m\u001b[0;34m)\u001b[0m\u001b[0;34m\u001b[0m\u001b[0;34m\u001b[0m\u001b[0m\n\u001b[0m",
      "\u001b[0;32m~/.local/lib/python3.8/site-packages/seaborn/_decorators.py\u001b[0m in \u001b[0;36minner_f\u001b[0;34m(*args, **kwargs)\u001b[0m\n\u001b[1;32m     44\u001b[0m             )\n\u001b[1;32m     45\u001b[0m         \u001b[0mkwargs\u001b[0m\u001b[0;34m.\u001b[0m\u001b[0mupdate\u001b[0m\u001b[0;34m(\u001b[0m\u001b[0;34m{\u001b[0m\u001b[0mk\u001b[0m\u001b[0;34m:\u001b[0m \u001b[0marg\u001b[0m \u001b[0;32mfor\u001b[0m \u001b[0mk\u001b[0m\u001b[0;34m,\u001b[0m \u001b[0marg\u001b[0m \u001b[0;32min\u001b[0m \u001b[0mzip\u001b[0m\u001b[0;34m(\u001b[0m\u001b[0msig\u001b[0m\u001b[0;34m.\u001b[0m\u001b[0mparameters\u001b[0m\u001b[0;34m,\u001b[0m \u001b[0margs\u001b[0m\u001b[0;34m)\u001b[0m\u001b[0;34m}\u001b[0m\u001b[0;34m)\u001b[0m\u001b[0;34m\u001b[0m\u001b[0;34m\u001b[0m\u001b[0m\n\u001b[0;32m---> 46\u001b[0;31m         \u001b[0;32mreturn\u001b[0m \u001b[0mf\u001b[0m\u001b[0;34m(\u001b[0m\u001b[0;34m**\u001b[0m\u001b[0mkwargs\u001b[0m\u001b[0;34m)\u001b[0m\u001b[0;34m\u001b[0m\u001b[0;34m\u001b[0m\u001b[0m\n\u001b[0m\u001b[1;32m     47\u001b[0m     \u001b[0;32mreturn\u001b[0m \u001b[0minner_f\u001b[0m\u001b[0;34m\u001b[0m\u001b[0;34m\u001b[0m\u001b[0m\n\u001b[1;32m     48\u001b[0m \u001b[0;34m\u001b[0m\u001b[0m\n",
      "\u001b[0;32m~/.local/lib/python3.8/site-packages/seaborn/matrix.py\u001b[0m in \u001b[0;36mheatmap\u001b[0;34m(data, vmin, vmax, cmap, center, robust, annot, fmt, annot_kws, linewidths, linecolor, cbar, cbar_kws, cbar_ax, square, xticklabels, yticklabels, mask, ax, **kwargs)\u001b[0m\n\u001b[1;32m    543\u001b[0m     \"\"\"\n\u001b[1;32m    544\u001b[0m     \u001b[0;31m# Initialize the plotter object\u001b[0m\u001b[0;34m\u001b[0m\u001b[0;34m\u001b[0m\u001b[0;34m\u001b[0m\u001b[0m\n\u001b[0;32m--> 545\u001b[0;31m     plotter = _HeatMapper(data, vmin, vmax, cmap, center, robust, annot, fmt,\n\u001b[0m\u001b[1;32m    546\u001b[0m                           \u001b[0mannot_kws\u001b[0m\u001b[0;34m,\u001b[0m \u001b[0mcbar\u001b[0m\u001b[0;34m,\u001b[0m \u001b[0mcbar_kws\u001b[0m\u001b[0;34m,\u001b[0m \u001b[0mxticklabels\u001b[0m\u001b[0;34m,\u001b[0m\u001b[0;34m\u001b[0m\u001b[0;34m\u001b[0m\u001b[0m\n\u001b[1;32m    547\u001b[0m                           yticklabels, mask)\n",
      "\u001b[0;32m~/.local/lib/python3.8/site-packages/seaborn/matrix.py\u001b[0m in \u001b[0;36m__init__\u001b[0;34m(self, data, vmin, vmax, cmap, center, robust, annot, fmt, annot_kws, cbar, cbar_kws, xticklabels, yticklabels, mask)\u001b[0m\n\u001b[1;32m    107\u001b[0m         \u001b[0;32melse\u001b[0m\u001b[0;34m:\u001b[0m\u001b[0;34m\u001b[0m\u001b[0;34m\u001b[0m\u001b[0m\n\u001b[1;32m    108\u001b[0m             \u001b[0mplot_data\u001b[0m \u001b[0;34m=\u001b[0m \u001b[0mnp\u001b[0m\u001b[0;34m.\u001b[0m\u001b[0masarray\u001b[0m\u001b[0;34m(\u001b[0m\u001b[0mdata\u001b[0m\u001b[0;34m)\u001b[0m\u001b[0;34m\u001b[0m\u001b[0;34m\u001b[0m\u001b[0m\n\u001b[0;32m--> 109\u001b[0;31m             \u001b[0mdata\u001b[0m \u001b[0;34m=\u001b[0m \u001b[0mpd\u001b[0m\u001b[0;34m.\u001b[0m\u001b[0mDataFrame\u001b[0m\u001b[0;34m(\u001b[0m\u001b[0mplot_data\u001b[0m\u001b[0;34m)\u001b[0m\u001b[0;34m\u001b[0m\u001b[0;34m\u001b[0m\u001b[0m\n\u001b[0m\u001b[1;32m    110\u001b[0m \u001b[0;34m\u001b[0m\u001b[0m\n\u001b[1;32m    111\u001b[0m         \u001b[0;31m# Validate the mask and convet to DataFrame\u001b[0m\u001b[0;34m\u001b[0m\u001b[0;34m\u001b[0m\u001b[0;34m\u001b[0m\u001b[0m\n",
      "\u001b[0;32m~/.local/lib/python3.8/site-packages/pandas/core/frame.py\u001b[0m in \u001b[0;36m__init__\u001b[0;34m(self, data, index, columns, dtype, copy)\u001b[0m\n\u001b[1;32m    495\u001b[0m                 \u001b[0mmgr\u001b[0m \u001b[0;34m=\u001b[0m \u001b[0minit_dict\u001b[0m\u001b[0;34m(\u001b[0m\u001b[0;34m{\u001b[0m\u001b[0mdata\u001b[0m\u001b[0;34m.\u001b[0m\u001b[0mname\u001b[0m\u001b[0;34m:\u001b[0m \u001b[0mdata\u001b[0m\u001b[0;34m}\u001b[0m\u001b[0;34m,\u001b[0m \u001b[0mindex\u001b[0m\u001b[0;34m,\u001b[0m \u001b[0mcolumns\u001b[0m\u001b[0;34m,\u001b[0m \u001b[0mdtype\u001b[0m\u001b[0;34m=\u001b[0m\u001b[0mdtype\u001b[0m\u001b[0;34m)\u001b[0m\u001b[0;34m\u001b[0m\u001b[0;34m\u001b[0m\u001b[0m\n\u001b[1;32m    496\u001b[0m             \u001b[0;32melse\u001b[0m\u001b[0;34m:\u001b[0m\u001b[0;34m\u001b[0m\u001b[0;34m\u001b[0m\u001b[0m\n\u001b[0;32m--> 497\u001b[0;31m                 \u001b[0mmgr\u001b[0m \u001b[0;34m=\u001b[0m \u001b[0minit_ndarray\u001b[0m\u001b[0;34m(\u001b[0m\u001b[0mdata\u001b[0m\u001b[0;34m,\u001b[0m \u001b[0mindex\u001b[0m\u001b[0;34m,\u001b[0m \u001b[0mcolumns\u001b[0m\u001b[0;34m,\u001b[0m \u001b[0mdtype\u001b[0m\u001b[0;34m=\u001b[0m\u001b[0mdtype\u001b[0m\u001b[0;34m,\u001b[0m \u001b[0mcopy\u001b[0m\u001b[0;34m=\u001b[0m\u001b[0mcopy\u001b[0m\u001b[0;34m)\u001b[0m\u001b[0;34m\u001b[0m\u001b[0;34m\u001b[0m\u001b[0m\n\u001b[0m\u001b[1;32m    498\u001b[0m \u001b[0;34m\u001b[0m\u001b[0m\n\u001b[1;32m    499\u001b[0m         \u001b[0;31m# For data is list-like, or Iterable (will consume into list)\u001b[0m\u001b[0;34m\u001b[0m\u001b[0;34m\u001b[0m\u001b[0;34m\u001b[0m\u001b[0m\n",
      "\u001b[0;32m~/.local/lib/python3.8/site-packages/pandas/core/internals/construction.py\u001b[0m in \u001b[0;36minit_ndarray\u001b[0;34m(values, index, columns, dtype, copy)\u001b[0m\n\u001b[1;32m    188\u001b[0m     \u001b[0;31m# by definition an array here\u001b[0m\u001b[0;34m\u001b[0m\u001b[0;34m\u001b[0m\u001b[0;34m\u001b[0m\u001b[0m\n\u001b[1;32m    189\u001b[0m     \u001b[0;31m# the dtypes will be coerced to a single dtype\u001b[0m\u001b[0;34m\u001b[0m\u001b[0;34m\u001b[0m\u001b[0;34m\u001b[0m\u001b[0m\n\u001b[0;32m--> 190\u001b[0;31m     \u001b[0mvalues\u001b[0m \u001b[0;34m=\u001b[0m \u001b[0m_prep_ndarray\u001b[0m\u001b[0;34m(\u001b[0m\u001b[0mvalues\u001b[0m\u001b[0;34m,\u001b[0m \u001b[0mcopy\u001b[0m\u001b[0;34m=\u001b[0m\u001b[0mcopy\u001b[0m\u001b[0;34m)\u001b[0m\u001b[0;34m\u001b[0m\u001b[0;34m\u001b[0m\u001b[0m\n\u001b[0m\u001b[1;32m    191\u001b[0m \u001b[0;34m\u001b[0m\u001b[0m\n\u001b[1;32m    192\u001b[0m     \u001b[0;32mif\u001b[0m \u001b[0mdtype\u001b[0m \u001b[0;32mis\u001b[0m \u001b[0;32mnot\u001b[0m \u001b[0;32mNone\u001b[0m\u001b[0;34m:\u001b[0m\u001b[0;34m\u001b[0m\u001b[0;34m\u001b[0m\u001b[0m\n",
      "\u001b[0;32m~/.local/lib/python3.8/site-packages/pandas/core/internals/construction.py\u001b[0m in \u001b[0;36m_prep_ndarray\u001b[0;34m(values, copy)\u001b[0m\n\u001b[1;32m    322\u001b[0m         \u001b[0mvalues\u001b[0m \u001b[0;34m=\u001b[0m \u001b[0mvalues\u001b[0m\u001b[0;34m.\u001b[0m\u001b[0mreshape\u001b[0m\u001b[0;34m(\u001b[0m\u001b[0;34m(\u001b[0m\u001b[0mvalues\u001b[0m\u001b[0;34m.\u001b[0m\u001b[0mshape\u001b[0m\u001b[0;34m[\u001b[0m\u001b[0;36m0\u001b[0m\u001b[0;34m]\u001b[0m\u001b[0;34m,\u001b[0m \u001b[0;36m1\u001b[0m\u001b[0;34m)\u001b[0m\u001b[0;34m)\u001b[0m\u001b[0;34m\u001b[0m\u001b[0;34m\u001b[0m\u001b[0m\n\u001b[1;32m    323\u001b[0m     \u001b[0;32melif\u001b[0m \u001b[0mvalues\u001b[0m\u001b[0;34m.\u001b[0m\u001b[0mndim\u001b[0m \u001b[0;34m!=\u001b[0m \u001b[0;36m2\u001b[0m\u001b[0;34m:\u001b[0m\u001b[0;34m\u001b[0m\u001b[0;34m\u001b[0m\u001b[0m\n\u001b[0;32m--> 324\u001b[0;31m         \u001b[0;32mraise\u001b[0m \u001b[0mValueError\u001b[0m\u001b[0;34m(\u001b[0m\u001b[0;34mf\"Must pass 2-d input. shape={values.shape}\"\u001b[0m\u001b[0;34m)\u001b[0m\u001b[0;34m\u001b[0m\u001b[0;34m\u001b[0m\u001b[0m\n\u001b[0m\u001b[1;32m    325\u001b[0m \u001b[0;34m\u001b[0m\u001b[0m\n\u001b[1;32m    326\u001b[0m     \u001b[0;32mreturn\u001b[0m \u001b[0mvalues\u001b[0m\u001b[0;34m\u001b[0m\u001b[0;34m\u001b[0m\u001b[0m\n",
      "\u001b[0;31mValueError\u001b[0m: Must pass 2-d input. shape=()"
     ]
    }
   ],
   "source": [
    "import numpy as np; np.random.seed(0)\n",
    "import seaborn as sns; sns.set_theme()\n",
    "uniform_data = np.random.rand(10, 12)\n",
    "ax = sns.heatmap(pairwise_similarity)"
   ]
  },
  {
   "cell_type": "code",
   "execution_count": 29,
   "metadata": {},
   "outputs": [
    {
     "name": "stdout",
     "output_type": "stream",
     "text": [
      "0 (1729, 144539)\n",
      "0.01 (1729, 10408)\n",
      "0.02 (1729, 7323)\n",
      "0.03 (1729, 5945)\n",
      "0.04 (1729, 5098)\n",
      "0.05 (1729, 4581)\n",
      "0.06 (1729, 4191)\n",
      "0.07 (1729, 3899)\n",
      "0.08 (1729, 3661)\n",
      "0.09 (1729, 3432)\n",
      "0.1 (1729, 3247)\n",
      "0.12 (1729, 2926)\n",
      "0.14 (1729, 2364)\n",
      "0.16 (1729, 1939)\n",
      "0.18 (1729, 1656)\n",
      "0.2 (1729, 1450)\n"
     ]
    }
   ],
   "source": [
    "#experient with changing paramters in tfidf\n",
    "\n",
    "min_df = [0,0.01,0.02,0.03,0.04,0.05,0.06,0.07,0.08,0.09,0.1,0.12,0.14,0.16, 0.18, 0.2]\n",
    "max_df = \n",
    "\n",
    "result=[]\n",
    "for i in min_df:\n",
    "    tfidf_vectorizer=TfidfVectorizer(use_idf=True, max_df=0.8, max_features=200000,\n",
    "                                 min_df=i)\n",
    "    # just send in all your docs here\n",
    "    fitted_vectorizer=tfidf_vectorizer.fit(docs)\n",
    "    tfidf_vectorizer_vectors=fitted_vectorizer.transform(docs)\n",
    "    shape = tfidf_vectorizer_vectors.shape\n",
    "    print(i, shape)\n"
   ]
  },
  {
   "cell_type": "markdown",
   "metadata": {
    "slideshow": {
     "slide_type": "subslide"
    }
   },
   "source": [
    "# HashingVectorizer"
   ]
  },
  {
   "cell_type": "code",
   "execution_count": 114,
   "metadata": {},
   "outputs": [],
   "source": [
    "from sklearn.feature_extraction.text import HashingVectorizer\n",
    "\n",
    "hashvectorizer = HashingVectorizer(encoding='utf-8',\n",
    "                    decode_error='strict', strip_accents=None,\n",
    "                    lowercase=False, preprocessor=None,\n",
    "                    tokenizer=None, stop_words=None,\n",
    "                    token_pattern='(?u)\\b\\w\\w+\\b',\n",
    "                    ngram_range=(1, 1), analyzer='word',\n",
    "                    n_features=10000, binary=False,\n",
    "                    norm='l2', alternate_sign=True,)\n"
   ]
  },
  {
   "cell_type": "code",
   "execution_count": 115,
   "metadata": {},
   "outputs": [],
   "source": [
    "fitted_vectorizer=hashvectorizer.fit(docs)\n",
    "#hash_vectorizer_vectors=fitted_vectorizer.transform(docs)"
   ]
  },
  {
   "cell_type": "code",
   "execution_count": 116,
   "metadata": {},
   "outputs": [],
   "source": [
    "hashvec = fitted_vectorizer.transform(docs)"
   ]
  },
  {
   "cell_type": "code",
   "execution_count": 117,
   "metadata": {},
   "outputs": [
    {
     "data": {
      "text/plain": [
       "<1729x10000 sparse matrix of type '<class 'numpy.float64'>'\n",
       "\twith 0 stored elements in Compressed Sparse Row format>"
      ]
     },
     "execution_count": 117,
     "metadata": {},
     "output_type": "execute_result"
    }
   ],
   "source": [
    "hashvec"
   ]
  },
  {
   "cell_type": "code",
   "execution_count": 110,
   "metadata": {},
   "outputs": [
    {
     "data": {
      "text/plain": [
       "StringDtype"
      ]
     },
     "execution_count": 110,
     "metadata": {},
     "output_type": "execute_result"
    }
   ],
   "source": [
    "docs = docs.astype('string')\n",
    "docs.dtypes"
   ]
  },
  {
   "cell_type": "code",
   "execution_count": 113,
   "metadata": {},
   "outputs": [
    {
     "data": {
      "text/plain": [
       "0       ['august', 'trustee', 'annual', 'report', 'per...\n",
       "1       ['receipt', 'payment', 'account', 'period', 's...\n",
       "2       ['welcome', 'annual', 'report', 'first', 'time...\n",
       "3       ['annual', 'repor', 'account', 'year', 'ended'...\n",
       "4       ['greenway', 'centre', 'registered', 'charity'...\n",
       "                              ...                        \n",
       "1724    ['august', 'trustee', 'annual', 'report', 'per...\n",
       "1725    ['gordon', 'russell', 'trust', 'charity', 'tru...\n",
       "1726    ['charity', 'period', 'start', 'date', 'period...\n",
       "1727    ['caspari', 'foundation', 'company', 'number',...\n",
       "1728    ['registered', 'company', 'number', 'england',...\n",
       "Name: preprocess, Length: 1729, dtype: string"
      ]
     },
     "execution_count": 113,
     "metadata": {},
     "output_type": "execute_result"
    }
   ],
   "source": [
    "docs"
   ]
  },
  {
   "cell_type": "code",
   "execution_count": 86,
   "metadata": {},
   "outputs": [
    {
     "name": "stdout",
     "output_type": "stream",
     "text": [
      "Clustering sparse data with KMeans(max_iter=1000, n_clusters=10)\n"
     ]
    },
    {
     "ename": "TypeError",
     "evalue": "float() argument must be a string or a number, not 'HashingVectorizer'",
     "output_type": "error",
     "traceback": [
      "\u001b[0;31m---------------------------------------------------------------------------\u001b[0m",
      "\u001b[0;31mTypeError\u001b[0m                                 Traceback (most recent call last)",
      "\u001b[0;32m<ipython-input-86-8fbc224f9c7d>\u001b[0m in \u001b[0;36m<module>\u001b[0;34m\u001b[0m\n\u001b[0;32m----> 1\u001b[0;31m \u001b[0mkcluster\u001b[0m\u001b[0;34m(\u001b[0m\u001b[0mhashvectorizer\u001b[0m\u001b[0;34m)\u001b[0m\u001b[0;34m\u001b[0m\u001b[0;34m\u001b[0m\u001b[0m\n\u001b[0m",
      "\u001b[0;32m<ipython-input-85-cebd56ed1789>\u001b[0m in \u001b[0;36mkcluster\u001b[0;34m(X)\u001b[0m\n\u001b[1;32m     13\u001b[0m     \u001b[0mt0\u001b[0m \u001b[0;34m=\u001b[0m \u001b[0mtime\u001b[0m\u001b[0;34m(\u001b[0m\u001b[0;34m)\u001b[0m\u001b[0;34m\u001b[0m\u001b[0;34m\u001b[0m\u001b[0m\n\u001b[1;32m     14\u001b[0m \u001b[0;34m\u001b[0m\u001b[0m\n\u001b[0;32m---> 15\u001b[0;31m     \u001b[0mkm\u001b[0m\u001b[0;34m.\u001b[0m\u001b[0mfit\u001b[0m\u001b[0;34m(\u001b[0m\u001b[0mX\u001b[0m\u001b[0;34m)\u001b[0m\u001b[0;34m\u001b[0m\u001b[0;34m\u001b[0m\u001b[0m\n\u001b[0m\u001b[1;32m     16\u001b[0m     \u001b[0mkm\u001b[0m\u001b[0;34m.\u001b[0m\u001b[0mpredict\u001b[0m\u001b[0;34m(\u001b[0m\u001b[0mX\u001b[0m\u001b[0;34m)\u001b[0m\u001b[0;34m\u001b[0m\u001b[0;34m\u001b[0m\u001b[0m\n\u001b[1;32m     17\u001b[0m     \u001b[0mX_trans\u001b[0m \u001b[0;34m=\u001b[0m \u001b[0mkm\u001b[0m\u001b[0;34m.\u001b[0m\u001b[0mtransform\u001b[0m\u001b[0;34m(\u001b[0m\u001b[0mX\u001b[0m\u001b[0;34m)\u001b[0m\u001b[0;34m\u001b[0m\u001b[0;34m\u001b[0m\u001b[0m\n",
      "\u001b[0;32m~/.local/lib/python3.8/site-packages/sklearn/cluster/_kmeans.py\u001b[0m in \u001b[0;36mfit\u001b[0;34m(self, X, y, sample_weight)\u001b[0m\n\u001b[1;32m   1028\u001b[0m             \u001b[0mFitted\u001b[0m \u001b[0mestimator\u001b[0m\u001b[0;34m.\u001b[0m\u001b[0;34m\u001b[0m\u001b[0;34m\u001b[0m\u001b[0m\n\u001b[1;32m   1029\u001b[0m         \"\"\"\n\u001b[0;32m-> 1030\u001b[0;31m         X = self._validate_data(X, accept_sparse='csr',\n\u001b[0m\u001b[1;32m   1031\u001b[0m                                 \u001b[0mdtype\u001b[0m\u001b[0;34m=\u001b[0m\u001b[0;34m[\u001b[0m\u001b[0mnp\u001b[0m\u001b[0;34m.\u001b[0m\u001b[0mfloat64\u001b[0m\u001b[0;34m,\u001b[0m \u001b[0mnp\u001b[0m\u001b[0;34m.\u001b[0m\u001b[0mfloat32\u001b[0m\u001b[0;34m]\u001b[0m\u001b[0;34m,\u001b[0m\u001b[0;34m\u001b[0m\u001b[0;34m\u001b[0m\u001b[0m\n\u001b[1;32m   1032\u001b[0m                                 \u001b[0morder\u001b[0m\u001b[0;34m=\u001b[0m\u001b[0;34m'C'\u001b[0m\u001b[0;34m,\u001b[0m \u001b[0mcopy\u001b[0m\u001b[0;34m=\u001b[0m\u001b[0mself\u001b[0m\u001b[0;34m.\u001b[0m\u001b[0mcopy_x\u001b[0m\u001b[0;34m,\u001b[0m\u001b[0;34m\u001b[0m\u001b[0;34m\u001b[0m\u001b[0m\n",
      "\u001b[0;32m~/.local/lib/python3.8/site-packages/sklearn/base.py\u001b[0m in \u001b[0;36m_validate_data\u001b[0;34m(self, X, y, reset, validate_separately, **check_params)\u001b[0m\n\u001b[1;32m    418\u001b[0m                     \u001b[0;34mf\"requires y to be passed, but the target y is None.\"\u001b[0m\u001b[0;34m\u001b[0m\u001b[0;34m\u001b[0m\u001b[0m\n\u001b[1;32m    419\u001b[0m                 )\n\u001b[0;32m--> 420\u001b[0;31m             \u001b[0mX\u001b[0m \u001b[0;34m=\u001b[0m \u001b[0mcheck_array\u001b[0m\u001b[0;34m(\u001b[0m\u001b[0mX\u001b[0m\u001b[0;34m,\u001b[0m \u001b[0;34m**\u001b[0m\u001b[0mcheck_params\u001b[0m\u001b[0;34m)\u001b[0m\u001b[0;34m\u001b[0m\u001b[0;34m\u001b[0m\u001b[0m\n\u001b[0m\u001b[1;32m    421\u001b[0m             \u001b[0mout\u001b[0m \u001b[0;34m=\u001b[0m \u001b[0mX\u001b[0m\u001b[0;34m\u001b[0m\u001b[0;34m\u001b[0m\u001b[0m\n\u001b[1;32m    422\u001b[0m         \u001b[0;32melse\u001b[0m\u001b[0;34m:\u001b[0m\u001b[0;34m\u001b[0m\u001b[0;34m\u001b[0m\u001b[0m\n",
      "\u001b[0;32m~/.local/lib/python3.8/site-packages/sklearn/utils/validation.py\u001b[0m in \u001b[0;36minner_f\u001b[0;34m(*args, **kwargs)\u001b[0m\n\u001b[1;32m     70\u001b[0m                           FutureWarning)\n\u001b[1;32m     71\u001b[0m         \u001b[0mkwargs\u001b[0m\u001b[0;34m.\u001b[0m\u001b[0mupdate\u001b[0m\u001b[0;34m(\u001b[0m\u001b[0;34m{\u001b[0m\u001b[0mk\u001b[0m\u001b[0;34m:\u001b[0m \u001b[0marg\u001b[0m \u001b[0;32mfor\u001b[0m \u001b[0mk\u001b[0m\u001b[0;34m,\u001b[0m \u001b[0marg\u001b[0m \u001b[0;32min\u001b[0m \u001b[0mzip\u001b[0m\u001b[0;34m(\u001b[0m\u001b[0msig\u001b[0m\u001b[0;34m.\u001b[0m\u001b[0mparameters\u001b[0m\u001b[0;34m,\u001b[0m \u001b[0margs\u001b[0m\u001b[0;34m)\u001b[0m\u001b[0;34m}\u001b[0m\u001b[0;34m)\u001b[0m\u001b[0;34m\u001b[0m\u001b[0;34m\u001b[0m\u001b[0m\n\u001b[0;32m---> 72\u001b[0;31m         \u001b[0;32mreturn\u001b[0m \u001b[0mf\u001b[0m\u001b[0;34m(\u001b[0m\u001b[0;34m**\u001b[0m\u001b[0mkwargs\u001b[0m\u001b[0;34m)\u001b[0m\u001b[0;34m\u001b[0m\u001b[0;34m\u001b[0m\u001b[0m\n\u001b[0m\u001b[1;32m     73\u001b[0m     \u001b[0;32mreturn\u001b[0m \u001b[0minner_f\u001b[0m\u001b[0;34m\u001b[0m\u001b[0;34m\u001b[0m\u001b[0m\n\u001b[1;32m     74\u001b[0m \u001b[0;34m\u001b[0m\u001b[0m\n",
      "\u001b[0;32m~/.local/lib/python3.8/site-packages/sklearn/utils/validation.py\u001b[0m in \u001b[0;36mcheck_array\u001b[0;34m(array, accept_sparse, accept_large_sparse, dtype, order, copy, force_all_finite, ensure_2d, allow_nd, ensure_min_samples, ensure_min_features, estimator)\u001b[0m\n\u001b[1;32m    596\u001b[0m                     \u001b[0marray\u001b[0m \u001b[0;34m=\u001b[0m \u001b[0marray\u001b[0m\u001b[0;34m.\u001b[0m\u001b[0mastype\u001b[0m\u001b[0;34m(\u001b[0m\u001b[0mdtype\u001b[0m\u001b[0;34m,\u001b[0m \u001b[0mcasting\u001b[0m\u001b[0;34m=\u001b[0m\u001b[0;34m\"unsafe\"\u001b[0m\u001b[0;34m,\u001b[0m \u001b[0mcopy\u001b[0m\u001b[0;34m=\u001b[0m\u001b[0;32mFalse\u001b[0m\u001b[0;34m)\u001b[0m\u001b[0;34m\u001b[0m\u001b[0;34m\u001b[0m\u001b[0m\n\u001b[1;32m    597\u001b[0m                 \u001b[0;32melse\u001b[0m\u001b[0;34m:\u001b[0m\u001b[0;34m\u001b[0m\u001b[0;34m\u001b[0m\u001b[0m\n\u001b[0;32m--> 598\u001b[0;31m                     \u001b[0marray\u001b[0m \u001b[0;34m=\u001b[0m \u001b[0mnp\u001b[0m\u001b[0;34m.\u001b[0m\u001b[0masarray\u001b[0m\u001b[0;34m(\u001b[0m\u001b[0marray\u001b[0m\u001b[0;34m,\u001b[0m \u001b[0morder\u001b[0m\u001b[0;34m=\u001b[0m\u001b[0morder\u001b[0m\u001b[0;34m,\u001b[0m \u001b[0mdtype\u001b[0m\u001b[0;34m=\u001b[0m\u001b[0mdtype\u001b[0m\u001b[0;34m)\u001b[0m\u001b[0;34m\u001b[0m\u001b[0;34m\u001b[0m\u001b[0m\n\u001b[0m\u001b[1;32m    599\u001b[0m             \u001b[0;32mexcept\u001b[0m \u001b[0mComplexWarning\u001b[0m\u001b[0;34m:\u001b[0m\u001b[0;34m\u001b[0m\u001b[0;34m\u001b[0m\u001b[0m\n\u001b[1;32m    600\u001b[0m                 raise ValueError(\"Complex data not supported\\n\"\n",
      "\u001b[0;32m~/.local/lib/python3.8/site-packages/numpy/core/_asarray.py\u001b[0m in \u001b[0;36masarray\u001b[0;34m(a, dtype, order)\u001b[0m\n\u001b[1;32m     81\u001b[0m \u001b[0;34m\u001b[0m\u001b[0m\n\u001b[1;32m     82\u001b[0m     \"\"\"\n\u001b[0;32m---> 83\u001b[0;31m     \u001b[0;32mreturn\u001b[0m \u001b[0marray\u001b[0m\u001b[0;34m(\u001b[0m\u001b[0ma\u001b[0m\u001b[0;34m,\u001b[0m \u001b[0mdtype\u001b[0m\u001b[0;34m,\u001b[0m \u001b[0mcopy\u001b[0m\u001b[0;34m=\u001b[0m\u001b[0;32mFalse\u001b[0m\u001b[0;34m,\u001b[0m \u001b[0morder\u001b[0m\u001b[0;34m=\u001b[0m\u001b[0morder\u001b[0m\u001b[0;34m)\u001b[0m\u001b[0;34m\u001b[0m\u001b[0;34m\u001b[0m\u001b[0m\n\u001b[0m\u001b[1;32m     84\u001b[0m \u001b[0;34m\u001b[0m\u001b[0m\n\u001b[1;32m     85\u001b[0m \u001b[0;34m\u001b[0m\u001b[0m\n",
      "\u001b[0;31mTypeError\u001b[0m: float() argument must be a string or a number, not 'HashingVectorizer'"
     ]
    }
   ],
   "source": [
    "kcluster(hashvectorizer)"
   ]
  },
  {
   "cell_type": "code",
   "execution_count": 85,
   "metadata": {},
   "outputs": [],
   "source": [
    "from sklearn import metrics\n",
    "from sklearn.cluster import KMeans, MiniBatchKMeans\n",
    "import matplotlib.pyplot as plt\n",
    "import sys\n",
    "from time import time\n",
    "\n",
    "def kcluster(X):\n",
    "    #Initialize\n",
    "    km = KMeans(n_clusters=10, init='k-means++', max_iter=1000, n_init=10,\n",
    "                verbose=0)\n",
    "    \n",
    "    print(\"Clustering sparse data with %s\" % km)\n",
    "    t0 = time()\n",
    "    \n",
    "    km.fit(X)\n",
    "    km.predict(X)\n",
    "    X_trans = km.transform(X)\n",
    "    \n",
    "    #Verbose info\n",
    "    print(\"done in %0.3fs\" % (time() - t0))\n",
    "    \n",
    "    #Clustering metric\n",
    "    print(\"Silhouette Coefficient: %0.3f\"\n",
    "      % metrics.silhouette_score(X, km.labels_, sample_size=1000))\n",
    "    \n",
    "    #Plot\n",
    "    plt.scatter(X_trans[:, 0], X_trans[:, 1], c=km.labels_, s=20, cmap='viridis')\n",
    "    #cmaps['viridis', 'plasma', 'inferno', 'magma', 'cividis']"
   ]
  },
  {
   "cell_type": "code",
   "execution_count": 66,
   "metadata": {},
   "outputs": [
    {
     "name": "stdout",
     "output_type": "stream",
     "text": [
      "Clustering sparse data with KMeans(max_iter=1000, n_clusters=10)\n",
      "done in 7.200s\n",
      "Silhouette Coefficient: 0.040\n"
     ]
    },
    {
     "data": {
      "image/png": "[encoded data removed]",
      "text/plain": [
       "<Figure size 576x396 with 1 Axes>"
      ]
     },
     "metadata": {},
     "output_type": "display_data"
    }
   ],
   "source": [
    "#Run clustering\n",
    "kcluster(X)"
   ]
  },
  {
   "cell_type": "code",
   "execution_count": 60,
   "metadata": {},
   "outputs": [
    {
     "ename": "ValueError",
     "evalue": "setting an array element with a sequence.",
     "output_type": "error",
     "traceback": [
      "\u001b[0;31m---------------------------------------------------------------------------\u001b[0m",
      "\u001b[0;31mTypeError\u001b[0m                                 Traceback (most recent call last)",
      "\u001b[0;31mTypeError\u001b[0m: float() argument must be a string or a number, not 'csr_matrix'",
      "\nThe above exception was the direct cause of the following exception:\n",
      "\u001b[0;31mValueError\u001b[0m                                Traceback (most recent call last)",
      "\u001b[0;32m<ipython-input-60-7795ae744a2a>\u001b[0m in \u001b[0;36m<module>\u001b[0;34m\u001b[0m\n\u001b[1;32m      1\u001b[0m \u001b[0;32mimport\u001b[0m \u001b[0mmatplotlib\u001b[0m\u001b[0;34m.\u001b[0m\u001b[0mpyplot\u001b[0m \u001b[0;32mas\u001b[0m \u001b[0mplt\u001b[0m\u001b[0;34m\u001b[0m\u001b[0;34m\u001b[0m\u001b[0m\n\u001b[0;32m----> 2\u001b[0;31m \u001b[0mplt\u001b[0m\u001b[0;34m.\u001b[0m\u001b[0mscatter\u001b[0m\u001b[0;34m(\u001b[0m\u001b[0mX\u001b[0m\u001b[0;34m,\u001b[0m\u001b[0mX\u001b[0m\u001b[0;34m,\u001b[0m \u001b[0ms\u001b[0m\u001b[0;34m=\u001b[0m\u001b[0;36m20\u001b[0m\u001b[0;34m,\u001b[0m \u001b[0mcmap\u001b[0m\u001b[0;34m=\u001b[0m\u001b[0;34m'viridis'\u001b[0m\u001b[0;34m)\u001b[0m\u001b[0;34m\u001b[0m\u001b[0;34m\u001b[0m\u001b[0m\n\u001b[0m",
      "\u001b[0;32m~/.local/lib/python3.8/site-packages/matplotlib/pyplot.py\u001b[0m in \u001b[0;36mscatter\u001b[0;34m(x, y, s, c, marker, cmap, norm, vmin, vmax, alpha, linewidths, verts, edgecolors, plotnonfinite, data, **kwargs)\u001b[0m\n\u001b[1;32m   2888\u001b[0m         \u001b[0mverts\u001b[0m\u001b[0;34m=\u001b[0m\u001b[0mcbook\u001b[0m\u001b[0;34m.\u001b[0m\u001b[0mdeprecation\u001b[0m\u001b[0;34m.\u001b[0m\u001b[0m_deprecated_parameter\u001b[0m\u001b[0;34m,\u001b[0m\u001b[0;34m\u001b[0m\u001b[0;34m\u001b[0m\u001b[0m\n\u001b[1;32m   2889\u001b[0m         edgecolors=None, *, plotnonfinite=False, data=None, **kwargs):\n\u001b[0;32m-> 2890\u001b[0;31m     __ret = gca().scatter(\n\u001b[0m\u001b[1;32m   2891\u001b[0m         \u001b[0mx\u001b[0m\u001b[0;34m,\u001b[0m \u001b[0my\u001b[0m\u001b[0;34m,\u001b[0m \u001b[0ms\u001b[0m\u001b[0;34m=\u001b[0m\u001b[0ms\u001b[0m\u001b[0;34m,\u001b[0m \u001b[0mc\u001b[0m\u001b[0;34m=\u001b[0m\u001b[0mc\u001b[0m\u001b[0;34m,\u001b[0m \u001b[0mmarker\u001b[0m\u001b[0;34m=\u001b[0m\u001b[0mmarker\u001b[0m\u001b[0;34m,\u001b[0m \u001b[0mcmap\u001b[0m\u001b[0;34m=\u001b[0m\u001b[0mcmap\u001b[0m\u001b[0;34m,\u001b[0m \u001b[0mnorm\u001b[0m\u001b[0;34m=\u001b[0m\u001b[0mnorm\u001b[0m\u001b[0;34m,\u001b[0m\u001b[0;34m\u001b[0m\u001b[0;34m\u001b[0m\u001b[0m\n\u001b[1;32m   2892\u001b[0m         \u001b[0mvmin\u001b[0m\u001b[0;34m=\u001b[0m\u001b[0mvmin\u001b[0m\u001b[0;34m,\u001b[0m \u001b[0mvmax\u001b[0m\u001b[0;34m=\u001b[0m\u001b[0mvmax\u001b[0m\u001b[0;34m,\u001b[0m \u001b[0malpha\u001b[0m\u001b[0;34m=\u001b[0m\u001b[0malpha\u001b[0m\u001b[0;34m,\u001b[0m \u001b[0mlinewidths\u001b[0m\u001b[0;34m=\u001b[0m\u001b[0mlinewidths\u001b[0m\u001b[0;34m,\u001b[0m\u001b[0;34m\u001b[0m\u001b[0;34m\u001b[0m\u001b[0m\n",
      "\u001b[0;32m~/.local/lib/python3.8/site-packages/matplotlib/__init__.py\u001b[0m in \u001b[0;36minner\u001b[0;34m(ax, data, *args, **kwargs)\u001b[0m\n\u001b[1;32m   1436\u001b[0m     \u001b[0;32mdef\u001b[0m \u001b[0minner\u001b[0m\u001b[0;34m(\u001b[0m\u001b[0max\u001b[0m\u001b[0;34m,\u001b[0m \u001b[0;34m*\u001b[0m\u001b[0margs\u001b[0m\u001b[0;34m,\u001b[0m \u001b[0mdata\u001b[0m\u001b[0;34m=\u001b[0m\u001b[0;32mNone\u001b[0m\u001b[0;34m,\u001b[0m \u001b[0;34m**\u001b[0m\u001b[0mkwargs\u001b[0m\u001b[0;34m)\u001b[0m\u001b[0;34m:\u001b[0m\u001b[0;34m\u001b[0m\u001b[0;34m\u001b[0m\u001b[0m\n\u001b[1;32m   1437\u001b[0m         \u001b[0;32mif\u001b[0m \u001b[0mdata\u001b[0m \u001b[0;32mis\u001b[0m \u001b[0;32mNone\u001b[0m\u001b[0;34m:\u001b[0m\u001b[0;34m\u001b[0m\u001b[0;34m\u001b[0m\u001b[0m\n\u001b[0;32m-> 1438\u001b[0;31m             \u001b[0;32mreturn\u001b[0m \u001b[0mfunc\u001b[0m\u001b[0;34m(\u001b[0m\u001b[0max\u001b[0m\u001b[0;34m,\u001b[0m \u001b[0;34m*\u001b[0m\u001b[0mmap\u001b[0m\u001b[0;34m(\u001b[0m\u001b[0msanitize_sequence\u001b[0m\u001b[0;34m,\u001b[0m \u001b[0margs\u001b[0m\u001b[0;34m)\u001b[0m\u001b[0;34m,\u001b[0m \u001b[0;34m**\u001b[0m\u001b[0mkwargs\u001b[0m\u001b[0;34m)\u001b[0m\u001b[0;34m\u001b[0m\u001b[0;34m\u001b[0m\u001b[0m\n\u001b[0m\u001b[1;32m   1439\u001b[0m \u001b[0;34m\u001b[0m\u001b[0m\n\u001b[1;32m   1440\u001b[0m         \u001b[0mbound\u001b[0m \u001b[0;34m=\u001b[0m \u001b[0mnew_sig\u001b[0m\u001b[0;34m.\u001b[0m\u001b[0mbind\u001b[0m\u001b[0;34m(\u001b[0m\u001b[0max\u001b[0m\u001b[0;34m,\u001b[0m \u001b[0;34m*\u001b[0m\u001b[0margs\u001b[0m\u001b[0;34m,\u001b[0m \u001b[0;34m**\u001b[0m\u001b[0mkwargs\u001b[0m\u001b[0;34m)\u001b[0m\u001b[0;34m\u001b[0m\u001b[0;34m\u001b[0m\u001b[0m\n",
      "\u001b[0;32m~/.local/lib/python3.8/site-packages/matplotlib/cbook/deprecation.py\u001b[0m in \u001b[0;36mwrapper\u001b[0;34m(*inner_args, **inner_kwargs)\u001b[0m\n\u001b[1;32m    409\u001b[0m                          \u001b[0;32melse\u001b[0m \u001b[0mdeprecation_addendum\u001b[0m\u001b[0;34m,\u001b[0m\u001b[0;34m\u001b[0m\u001b[0;34m\u001b[0m\u001b[0m\n\u001b[1;32m    410\u001b[0m                 **kwargs)\n\u001b[0;32m--> 411\u001b[0;31m         \u001b[0;32mreturn\u001b[0m \u001b[0mfunc\u001b[0m\u001b[0;34m(\u001b[0m\u001b[0;34m*\u001b[0m\u001b[0minner_args\u001b[0m\u001b[0;34m,\u001b[0m \u001b[0;34m**\u001b[0m\u001b[0minner_kwargs\u001b[0m\u001b[0;34m)\u001b[0m\u001b[0;34m\u001b[0m\u001b[0;34m\u001b[0m\u001b[0m\n\u001b[0m\u001b[1;32m    412\u001b[0m \u001b[0;34m\u001b[0m\u001b[0m\n\u001b[1;32m    413\u001b[0m     \u001b[0;32mreturn\u001b[0m \u001b[0mwrapper\u001b[0m\u001b[0;34m\u001b[0m\u001b[0;34m\u001b[0m\u001b[0m\n",
      "\u001b[0;32m~/.local/lib/python3.8/site-packages/matplotlib/axes/_axes.py\u001b[0m in \u001b[0;36mscatter\u001b[0;34m(self, x, y, s, c, marker, cmap, norm, vmin, vmax, alpha, linewidths, verts, edgecolors, plotnonfinite, **kwargs)\u001b[0m\n\u001b[1;32m   4486\u001b[0m         \u001b[0moffsets\u001b[0m \u001b[0;34m=\u001b[0m \u001b[0mnp\u001b[0m\u001b[0;34m.\u001b[0m\u001b[0mma\u001b[0m\u001b[0;34m.\u001b[0m\u001b[0mcolumn_stack\u001b[0m\u001b[0;34m(\u001b[0m\u001b[0;34m[\u001b[0m\u001b[0mx\u001b[0m\u001b[0;34m,\u001b[0m \u001b[0my\u001b[0m\u001b[0;34m]\u001b[0m\u001b[0;34m)\u001b[0m\u001b[0;34m\u001b[0m\u001b[0;34m\u001b[0m\u001b[0m\n\u001b[1;32m   4487\u001b[0m \u001b[0;34m\u001b[0m\u001b[0m\n\u001b[0;32m-> 4488\u001b[0;31m         collection = mcoll.PathCollection(\n\u001b[0m\u001b[1;32m   4489\u001b[0m                 \u001b[0;34m(\u001b[0m\u001b[0mpath\u001b[0m\u001b[0;34m,\u001b[0m\u001b[0;34m)\u001b[0m\u001b[0;34m,\u001b[0m \u001b[0mscales\u001b[0m\u001b[0;34m,\u001b[0m\u001b[0;34m\u001b[0m\u001b[0;34m\u001b[0m\u001b[0m\n\u001b[1;32m   4490\u001b[0m                 \u001b[0mfacecolors\u001b[0m\u001b[0;34m=\u001b[0m\u001b[0mcolors\u001b[0m\u001b[0;34m,\u001b[0m\u001b[0;34m\u001b[0m\u001b[0;34m\u001b[0m\u001b[0m\n",
      "\u001b[0;32m~/.local/lib/python3.8/site-packages/matplotlib/collections.py\u001b[0m in \u001b[0;36m__init__\u001b[0;34m(self, paths, sizes, **kwargs)\u001b[0m\n\u001b[1;32m    951\u001b[0m         \"\"\"\n\u001b[1;32m    952\u001b[0m \u001b[0;34m\u001b[0m\u001b[0m\n\u001b[0;32m--> 953\u001b[0;31m         \u001b[0msuper\u001b[0m\u001b[0;34m(\u001b[0m\u001b[0;34m)\u001b[0m\u001b[0;34m.\u001b[0m\u001b[0m__init__\u001b[0m\u001b[0;34m(\u001b[0m\u001b[0;34m**\u001b[0m\u001b[0mkwargs\u001b[0m\u001b[0;34m)\u001b[0m\u001b[0;34m\u001b[0m\u001b[0;34m\u001b[0m\u001b[0m\n\u001b[0m\u001b[1;32m    954\u001b[0m         \u001b[0mself\u001b[0m\u001b[0;34m.\u001b[0m\u001b[0mset_paths\u001b[0m\u001b[0;34m(\u001b[0m\u001b[0mpaths\u001b[0m\u001b[0;34m)\u001b[0m\u001b[0;34m\u001b[0m\u001b[0;34m\u001b[0m\u001b[0m\n\u001b[1;32m    955\u001b[0m         \u001b[0mself\u001b[0m\u001b[0;34m.\u001b[0m\u001b[0mset_sizes\u001b[0m\u001b[0;34m(\u001b[0m\u001b[0msizes\u001b[0m\u001b[0;34m)\u001b[0m\u001b[0;34m\u001b[0m\u001b[0;34m\u001b[0m\u001b[0m\n",
      "\u001b[0;32m~/.local/lib/python3.8/site-packages/matplotlib/cbook/deprecation.py\u001b[0m in \u001b[0;36mwrapper\u001b[0;34m(*inner_args, **inner_kwargs)\u001b[0m\n\u001b[1;32m    409\u001b[0m                          \u001b[0;32melse\u001b[0m \u001b[0mdeprecation_addendum\u001b[0m\u001b[0;34m,\u001b[0m\u001b[0;34m\u001b[0m\u001b[0;34m\u001b[0m\u001b[0m\n\u001b[1;32m    410\u001b[0m                 **kwargs)\n\u001b[0;32m--> 411\u001b[0;31m         \u001b[0;32mreturn\u001b[0m \u001b[0mfunc\u001b[0m\u001b[0;34m(\u001b[0m\u001b[0;34m*\u001b[0m\u001b[0minner_args\u001b[0m\u001b[0;34m,\u001b[0m \u001b[0;34m**\u001b[0m\u001b[0minner_kwargs\u001b[0m\u001b[0;34m)\u001b[0m\u001b[0;34m\u001b[0m\u001b[0;34m\u001b[0m\u001b[0m\n\u001b[0m\u001b[1;32m    412\u001b[0m \u001b[0;34m\u001b[0m\u001b[0m\n\u001b[1;32m    413\u001b[0m     \u001b[0;32mreturn\u001b[0m \u001b[0mwrapper\u001b[0m\u001b[0;34m\u001b[0m\u001b[0;34m\u001b[0m\u001b[0m\n",
      "\u001b[0;32m~/.local/lib/python3.8/site-packages/matplotlib/collections.py\u001b[0m in \u001b[0;36m__init__\u001b[0;34m(self, edgecolors, facecolors, linewidths, linestyles, capstyle, joinstyle, antialiaseds, offsets, transOffset, norm, cmap, pickradius, hatch, urls, offset_position, zorder, **kwargs)\u001b[0m\n\u001b[1;32m    200\u001b[0m         \u001b[0mself\u001b[0m\u001b[0;34m.\u001b[0m\u001b[0m_uniform_offsets\u001b[0m \u001b[0;34m=\u001b[0m \u001b[0;32mNone\u001b[0m\u001b[0;34m\u001b[0m\u001b[0;34m\u001b[0m\u001b[0m\n\u001b[1;32m    201\u001b[0m         \u001b[0;32mif\u001b[0m \u001b[0moffsets\u001b[0m \u001b[0;32mis\u001b[0m \u001b[0;32mnot\u001b[0m \u001b[0;32mNone\u001b[0m\u001b[0;34m:\u001b[0m\u001b[0;34m\u001b[0m\u001b[0;34m\u001b[0m\u001b[0m\n\u001b[0;32m--> 202\u001b[0;31m             \u001b[0moffsets\u001b[0m \u001b[0;34m=\u001b[0m \u001b[0mnp\u001b[0m\u001b[0;34m.\u001b[0m\u001b[0masanyarray\u001b[0m\u001b[0;34m(\u001b[0m\u001b[0moffsets\u001b[0m\u001b[0;34m,\u001b[0m \u001b[0mfloat\u001b[0m\u001b[0;34m)\u001b[0m\u001b[0;34m\u001b[0m\u001b[0;34m\u001b[0m\u001b[0m\n\u001b[0m\u001b[1;32m    203\u001b[0m             \u001b[0;31m# Broadcast (2,) -> (1, 2) but nothing else.\u001b[0m\u001b[0;34m\u001b[0m\u001b[0;34m\u001b[0m\u001b[0;34m\u001b[0m\u001b[0m\n\u001b[1;32m    204\u001b[0m             \u001b[0;32mif\u001b[0m \u001b[0moffsets\u001b[0m\u001b[0;34m.\u001b[0m\u001b[0mshape\u001b[0m \u001b[0;34m==\u001b[0m \u001b[0;34m(\u001b[0m\u001b[0;36m2\u001b[0m\u001b[0;34m,\u001b[0m\u001b[0;34m)\u001b[0m\u001b[0;34m:\u001b[0m\u001b[0;34m\u001b[0m\u001b[0;34m\u001b[0m\u001b[0m\n",
      "\u001b[0;32m~/.local/lib/python3.8/site-packages/numpy/core/_asarray.py\u001b[0m in \u001b[0;36masanyarray\u001b[0;34m(a, dtype, order)\u001b[0m\n\u001b[1;32m    134\u001b[0m \u001b[0;34m\u001b[0m\u001b[0m\n\u001b[1;32m    135\u001b[0m     \"\"\"\n\u001b[0;32m--> 136\u001b[0;31m     \u001b[0;32mreturn\u001b[0m \u001b[0marray\u001b[0m\u001b[0;34m(\u001b[0m\u001b[0ma\u001b[0m\u001b[0;34m,\u001b[0m \u001b[0mdtype\u001b[0m\u001b[0;34m,\u001b[0m \u001b[0mcopy\u001b[0m\u001b[0;34m=\u001b[0m\u001b[0;32mFalse\u001b[0m\u001b[0;34m,\u001b[0m \u001b[0morder\u001b[0m\u001b[0;34m=\u001b[0m\u001b[0morder\u001b[0m\u001b[0;34m,\u001b[0m \u001b[0msubok\u001b[0m\u001b[0;34m=\u001b[0m\u001b[0;32mTrue\u001b[0m\u001b[0;34m)\u001b[0m\u001b[0;34m\u001b[0m\u001b[0;34m\u001b[0m\u001b[0m\n\u001b[0m\u001b[1;32m    137\u001b[0m \u001b[0;34m\u001b[0m\u001b[0m\n\u001b[1;32m    138\u001b[0m \u001b[0;34m\u001b[0m\u001b[0m\n",
      "\u001b[0;31mValueError\u001b[0m: setting an array element with a sequence."
     ]
    },
    {
     "data": {
      "image/png": "[encoded data removed]",
      "text/plain": [
       "<Figure size 576x396 with 1 Axes>"
      ]
     },
     "metadata": {},
     "output_type": "display_data"
    }
   ],
   "source": [
    "import matplotlib.pyplot as plt\n",
    "plt.scatter(X,X, s=20, cmap='viridis')"
   ]
  },
  {
   "cell_type": "code",
   "execution_count": 81,
   "metadata": {},
   "outputs": [
    {
     "name": "stderr",
     "output_type": "stream",
     "text": [
      "/home/becode/.local/lib/python3.8/site-packages/sklearn/utils/deprecation.py:143: FutureWarning: The sklearn.metrics.classification module is  deprecated in version 0.22 and will be removed in version 0.24. The corresponding classes / functions should instead be imported from sklearn.metrics. Anything that cannot be imported from sklearn.metrics is now part of the private API.\n",
      "  warnings.warn(message, FutureWarning)\n",
      "/home/becode/.local/lib/python3.8/site-packages/yellowbrick/utils/kneed.py:140: YellowbrickWarning: No 'knee' or 'elbow point' detected This could be due to bad clustering, no actual clusters being formed etc.\n",
      "  warnings.warn(warning_message, YellowbrickWarning)\n",
      "/home/becode/.local/lib/python3.8/site-packages/yellowbrick/cluster/elbow.py:343: YellowbrickWarning: No 'knee' or 'elbow' point detected, pass `locate_elbow=False` to remove the warning\n",
      "  warnings.warn(warning_message, YellowbrickWarning)\n"
     ]
    },
    {
     "data": {
      "image/png": "[encoded data removed]",
      "text/plain": [
       "<Figure size 576x396 with 2 Axes>"
      ]
     },
     "metadata": {},
     "output_type": "display_data"
    },
    {
     "data": {
      "text/plain": [
       "<AxesSubplot:title={'center':'Distortion Score Elbow for KMeans Clustering'}, xlabel='k', ylabel='distortion score'>"
      ]
     },
     "execution_count": 81,
     "metadata": {},
     "output_type": "execute_result"
    }
   ],
   "source": [
    "from sklearn.cluster import KMeans\n",
    "\n",
    "from yellowbrick.cluster import KElbowVisualizer\n",
    "\n",
    "# Instantiate the clustering model and visualizer\n",
    "model = KMeans()\n",
    "visualizer = KElbowVisualizer(model, k=(4,12))\n",
    "\n",
    "visualizer.fit(X)        # Fit the data to the visualizer\n",
    "visualizer.show()        # Finalize and render the figure"
   ]
  },
  {
   "cell_type": "code",
   "execution_count": 46,
   "metadata": {},
   "outputs": [
    {
     "name": "stdout",
     "output_type": "stream",
     "text": [
      "Initialization complete\n",
      "Iteration 0, inertia 2397.967268864254\n",
      "Iteration 1, inertia 1367.9648762668467\n",
      "Iteration 2, inertia 1357.7719532330855\n",
      "Iteration 3, inertia 1355.1893712113208\n",
      "Iteration 4, inertia 1354.3188541645748\n",
      "Iteration 5, inertia 1354.0479706525748\n",
      "Iteration 6, inertia 1353.880105489739\n",
      "Iteration 7, inertia 1353.6428203435084\n",
      "Iteration 8, inertia 1353.578016165946\n",
      "Iteration 9, inertia 1353.5472577831383\n",
      "Iteration 10, inertia 1353.5215939766656\n",
      "Iteration 11, inertia 1353.5160913295324\n",
      "Iteration 12, inertia 1353.5031453984889\n",
      "Converged at iteration 12: strict convergence.\n",
      "Initialization complete\n",
      "Iteration 0, inertia 2524.9756820109546\n",
      "Iteration 1, inertia 1400.106264038081\n",
      "Iteration 2, inertia 1374.7563163089528\n",
      "Iteration 3, inertia 1358.8950227831529\n",
      "Iteration 4, inertia 1353.3805010822662\n",
      "Iteration 5, inertia 1350.9375039672502\n",
      "Iteration 6, inertia 1349.8121422768638\n",
      "Iteration 7, inertia 1349.3401287564618\n",
      "Iteration 8, inertia 1349.1139896092873\n",
      "Iteration 9, inertia 1348.9884905447634\n",
      "Iteration 10, inertia 1348.8964429378552\n",
      "Iteration 11, inertia 1348.8246478325502\n",
      "Iteration 12, inertia 1348.7121785062616\n",
      "Iteration 13, inertia 1348.5808937981828\n",
      "Iteration 14, inertia 1348.4809288445667\n",
      "Iteration 15, inertia 1348.4082848649064\n",
      "Iteration 16, inertia 1348.3389315152763\n",
      "Iteration 17, inertia 1348.2809485200864\n",
      "Iteration 18, inertia 1348.2497421500564\n",
      "Iteration 19, inertia 1348.200550067711\n",
      "Iteration 20, inertia 1348.119910968738\n",
      "Iteration 21, inertia 1348.0505882060447\n",
      "Iteration 22, inertia 1347.980587609649\n",
      "Iteration 23, inertia 1347.900158625349\n",
      "Iteration 24, inertia 1347.757959019438\n",
      "Iteration 25, inertia 1347.6251667344136\n",
      "Iteration 26, inertia 1347.5469660473525\n",
      "Iteration 27, inertia 1347.5187213574575\n",
      "Iteration 28, inertia 1347.4936586979027\n",
      "Iteration 29, inertia 1347.4825760816332\n",
      "Iteration 30, inertia 1347.4752858749175\n",
      "Iteration 31, inertia 1347.4643949838012\n",
      "Converged at iteration 31: strict convergence.\n",
      "Initialization complete\n",
      "Iteration 0, inertia 2544.86636613527\n",
      "Iteration 1, inertia 1393.5724162987033\n",
      "Iteration 2, inertia 1374.562640224647\n",
      "Iteration 3, inertia 1369.6544683374584\n",
      "Iteration 4, inertia 1367.6896173270068\n",
      "Iteration 5, inertia 1365.6384157465418\n",
      "Iteration 6, inertia 1361.8518407084487\n",
      "Iteration 7, inertia 1359.599353272259\n",
      "Iteration 8, inertia 1359.4776148510864\n",
      "Iteration 9, inertia 1359.3887621810547\n",
      "Iteration 10, inertia 1359.348679776041\n",
      "Iteration 11, inertia 1359.2884157047863\n",
      "Iteration 12, inertia 1359.2200137778377\n",
      "Iteration 13, inertia 1359.1234749774221\n",
      "Iteration 14, inertia 1358.9753834779106\n",
      "Iteration 15, inertia 1358.7886387651592\n",
      "Iteration 16, inertia 1358.6504799590477\n",
      "Iteration 17, inertia 1358.583988465235\n",
      "Iteration 18, inertia 1358.554742450444\n",
      "Iteration 19, inertia 1358.536868932269\n",
      "Iteration 20, inertia 1358.525407538502\n",
      "Iteration 21, inertia 1358.5194603326672\n",
      "Iteration 22, inertia 1358.5088119347854\n",
      "Iteration 23, inertia 1358.5027688337987\n",
      "Iteration 24, inertia 1358.4977614847535\n",
      "Converged at iteration 24: strict convergence.\n",
      "Initialization complete\n",
      "Iteration 0, inertia 2565.101625296554\n",
      "Iteration 1, inertia 1409.2927277964477\n",
      "Iteration 2, inertia 1384.812189382108\n",
      "Iteration 3, inertia 1370.4386918882985\n",
      "Iteration 4, inertia 1364.0764416039424\n",
      "Iteration 5, inertia 1361.9272825867447\n",
      "Iteration 6, inertia 1361.1538150560884\n",
      "Iteration 7, inertia 1360.844720485176\n",
      "Iteration 8, inertia 1360.7051943895199\n",
      "Iteration 9, inertia 1360.6435017446515\n",
      "Iteration 10, inertia 1360.6003677411834\n",
      "Iteration 11, inertia 1360.550588114097\n",
      "Iteration 12, inertia 1360.5134756146908\n",
      "Iteration 13, inertia 1360.497321687089\n",
      "Iteration 14, inertia 1360.4923199444215\n",
      "Converged at iteration 14: strict convergence.\n",
      "Initialization complete\n",
      "Iteration 0, inertia 2580.7314304395236\n",
      "Iteration 1, inertia 1390.721768927591\n",
      "Iteration 2, inertia 1371.3715709624917\n",
      "Iteration 3, inertia 1363.6642329644467\n",
      "Iteration 4, inertia 1361.7872168694528\n",
      "Iteration 5, inertia 1360.6789149085603\n",
      "Iteration 6, inertia 1360.040533166696\n",
      "Iteration 7, inertia 1359.8073104189273\n",
      "Iteration 8, inertia 1359.6792839923262\n",
      "Iteration 9, inertia 1359.6161139323087\n",
      "Iteration 10, inertia 1359.5816848281431\n",
      "Iteration 11, inertia 1359.5065181157897\n",
      "Iteration 12, inertia 1359.465076097512\n",
      "Iteration 13, inertia 1359.451538923237\n",
      "Iteration 14, inertia 1359.4431366077604\n",
      "Iteration 15, inertia 1359.4282477352185\n",
      "Iteration 16, inertia 1359.4101455539794\n",
      "Iteration 17, inertia 1359.3956833149264\n",
      "Iteration 18, inertia 1359.3848946936\n",
      "Converged at iteration 18: strict convergence.\n",
      "Initialization complete\n",
      "Iteration 0, inertia 2547.6003756490227\n",
      "Iteration 1, inertia 1413.4100636882226\n",
      "Iteration 2, inertia 1375.9619115880982\n",
      "Iteration 3, inertia 1364.983042082226\n",
      "Iteration 4, inertia 1362.8217793721444\n",
      "Iteration 5, inertia 1361.7967125617988\n",
      "Iteration 6, inertia 1361.1762230565187\n",
      "Iteration 7, inertia 1360.8241406464213\n",
      "Iteration 8, inertia 1360.572791166502\n",
      "Iteration 9, inertia 1360.2866134035103\n",
      "Iteration 10, inertia 1359.982367589067\n",
      "Iteration 11, inertia 1359.76994559153\n",
      "Iteration 12, inertia 1359.618607086704\n",
      "Iteration 13, inertia 1359.5030531314976\n",
      "Iteration 14, inertia 1359.483775345814\n",
      "Iteration 15, inertia 1359.4769205377695\n",
      "Iteration 16, inertia 1359.4645833198351\n",
      "Converged at iteration 16: strict convergence.\n",
      "Initialization complete\n",
      "Iteration 0, inertia 2499.8329597711063\n",
      "Iteration 1, inertia 1395.3563988789851\n",
      "Iteration 2, inertia 1378.0762739651486\n",
      "Iteration 3, inertia 1367.0741429564994\n",
      "Iteration 4, inertia 1361.7729510240315\n",
      "Iteration 5, inertia 1355.1157134388125\n",
      "Iteration 6, inertia 1352.2819210166438\n",
      "Iteration 7, inertia 1351.6709571775382\n",
      "Iteration 8, inertia 1351.3070284787693\n",
      "Iteration 9, inertia 1350.9884071197205\n",
      "Iteration 10, inertia 1350.5510855755133\n",
      "Iteration 11, inertia 1350.0230604163849\n",
      "Iteration 12, inertia 1349.719466747403\n",
      "Iteration 13, inertia 1349.3800790247624\n",
      "Iteration 14, inertia 1348.928317002583\n",
      "Iteration 15, inertia 1348.2529190680732\n",
      "Iteration 16, inertia 1347.5625839251777\n",
      "Iteration 17, inertia 1347.0111928471213\n",
      "Iteration 18, inertia 1346.5703758810766\n",
      "Iteration 19, inertia 1346.3353574233265\n",
      "Iteration 20, inertia 1346.2126426537363\n",
      "Iteration 21, inertia 1346.1594971705542\n",
      "Iteration 22, inertia 1346.1384900151154\n",
      "Converged at iteration 22: strict convergence.\n",
      "Initialization complete\n",
      "Iteration 0, inertia 2479.412732770147\n",
      "Iteration 1, inertia 1407.611415842604\n",
      "Iteration 2, inertia 1396.0611610847648\n",
      "Iteration 3, inertia 1390.9574309466323\n",
      "Iteration 4, inertia 1388.0074420308117\n",
      "Iteration 5, inertia 1382.5012697443092\n",
      "Iteration 6, inertia 1376.123122276416\n",
      "Iteration 7, inertia 1373.996324236039\n",
      "Iteration 8, inertia 1371.2819396801647\n",
      "Iteration 9, inertia 1368.0045430717737\n",
      "Iteration 10, inertia 1365.8982136833513\n",
      "Iteration 11, inertia 1365.4832057260833\n",
      "Iteration 12, inertia 1365.2057147476748\n",
      "Iteration 13, inertia 1365.1419041966706\n",
      "Iteration 14, inertia 1365.1109983866102\n",
      "Iteration 15, inertia 1365.0845642883216\n",
      "Iteration 16, inertia 1365.0451990117879\n",
      "Iteration 17, inertia 1364.963903787146\n",
      "Iteration 18, inertia 1364.8146332313852\n",
      "Iteration 19, inertia 1364.5841489078305\n",
      "Iteration 20, inertia 1364.4357896758318\n",
      "Iteration 21, inertia 1364.3477866648666\n",
      "Iteration 22, inertia 1364.2921266692038\n",
      "Iteration 23, inertia 1364.246178157772\n",
      "Iteration 24, inertia 1364.2157491680875\n",
      "Iteration 25, inertia 1364.199998714055\n",
      "Converged at iteration 25: strict convergence.\n",
      "Initialization complete\n",
      "Iteration 0, inertia 2514.6991340837953\n",
      "Iteration 1, inertia 1390.5343293426802\n",
      "Iteration 2, inertia 1378.5232276830552\n",
      "Iteration 3, inertia 1372.4120291825852\n",
      "Iteration 4, inertia 1368.532711257595\n",
      "Iteration 5, inertia 1365.8201151729254\n",
      "Iteration 6, inertia 1364.9082440357595\n",
      "Iteration 7, inertia 1364.2995905142827\n",
      "Iteration 8, inertia 1363.690745211677\n",
      "Iteration 9, inertia 1363.030606061212\n",
      "Iteration 10, inertia 1362.1373857099031\n",
      "Iteration 11, inertia 1361.2020768991156\n",
      "Iteration 12, inertia 1360.6630367326024\n",
      "Iteration 13, inertia 1360.3150534687022\n",
      "Iteration 14, inertia 1360.0493527276121\n",
      "Iteration 15, inertia 1359.9031955972505\n",
      "Iteration 16, inertia 1359.8262442296295\n",
      "Iteration 17, inertia 1359.8104987977767\n"
     ]
    },
    {
     "name": "stdout",
     "output_type": "stream",
     "text": [
      "Iteration 18, inertia 1359.7953322622843\n",
      "Iteration 19, inertia 1359.769240369313\n",
      "Iteration 20, inertia 1359.7463073493866\n",
      "Iteration 21, inertia 1359.718371191989\n",
      "Iteration 22, inertia 1359.7109817999055\n",
      "Iteration 23, inertia 1359.7031014745999\n",
      "Iteration 24, inertia 1359.695911629404\n",
      "Converged at iteration 24: strict convergence.\n",
      "Initialization complete\n",
      "Iteration 0, inertia 2480.3927915659588\n",
      "Iteration 1, inertia 1382.5969010316348\n",
      "Iteration 2, inertia 1369.0246189139784\n",
      "Iteration 3, inertia 1363.5856948012288\n",
      "Iteration 4, inertia 1360.8279391466822\n",
      "Iteration 5, inertia 1359.5006325904728\n",
      "Iteration 6, inertia 1358.4893858935334\n",
      "Iteration 7, inertia 1357.5886640374524\n",
      "Iteration 8, inertia 1356.691487021494\n",
      "Iteration 9, inertia 1356.135345199088\n",
      "Iteration 10, inertia 1355.898936707259\n",
      "Iteration 11, inertia 1355.7916473756782\n",
      "Iteration 12, inertia 1355.6966291591832\n",
      "Iteration 13, inertia 1355.6001051626454\n",
      "Iteration 14, inertia 1355.5207528536423\n",
      "Iteration 15, inertia 1355.409579214319\n",
      "Iteration 16, inertia 1355.2224751538656\n",
      "Iteration 17, inertia 1354.9967927923933\n",
      "Iteration 18, inertia 1354.782107684284\n",
      "Iteration 19, inertia 1354.6575318339424\n",
      "Iteration 20, inertia 1354.5922164607787\n",
      "Iteration 21, inertia 1354.5787673594393\n",
      "Iteration 22, inertia 1354.5748259714235\n",
      "Converged at iteration 22: strict convergence.\n"
     ]
    }
   ],
   "source": [
    "X_new = km.fit_transform(X)"
   ]
  },
  {
   "cell_type": "code",
   "execution_count": 48,
   "metadata": {},
   "outputs": [],
   "source": [
    "y_kmeans = km.predict(X)"
   ]
  },
  {
   "cell_type": "code",
   "execution_count": 56,
   "metadata": {},
   "outputs": [
    {
     "data": {
      "text/plain": [
       "<matplotlib.collections.PathCollection at 0x7f99e38dfb20>"
      ]
     },
     "execution_count": 56,
     "metadata": {},
     "output_type": "execute_result"
    },
    {
     "data": {
      "image/png": "[encoded data removed]",
      "text/plain": [
       "<Figure size 576x396 with 1 Axes>"
      ]
     },
     "metadata": {},
     "output_type": "display_data"
    }
   ],
   "source": [
    "X_new = km.fit_transform(X)\n",
    "import matplotlib.pyplot as plt\n",
    "plt.scatter(X_new[:, 0], X_new[:, 1], c=km.labels_, s=20, cmap='viridis')\n",
    "#cmaps['Perceptually Uniform Sequential'] = [\n",
    "#            'viridis', 'plasma', 'inferno', 'magma', 'cividis']"
   ]
  },
  {
   "cell_type": "code",
   "execution_count": 95,
   "metadata": {},
   "outputs": [
    {
     "data": {
      "image/png": "[encoded data removed]",
      "text/plain": [
       "<Figure size 576x396 with 1 Axes>"
      ]
     },
     "metadata": {},
     "output_type": "display_data"
    },
    {
     "name": "stderr",
     "output_type": "stream",
     "text": [
      "/home/becode/.local/lib/python3.8/site-packages/sklearn/base.py:209: FutureWarning: From version 0.24, get_params will raise an AttributeError if a parameter cannot be retrieved as an instance attribute. Previously it would return None.\n",
      "  warnings.warn('From version 0.24, get_params will raise an '\n"
     ]
    },
    {
     "data": {
      "text/plain": [
       "SilhouetteVisualizer(ax=<AxesSubplot:title={'center':'Silhouette Plot of KMeans Clustering for 1729 Samples in 10 Centers'}, xlabel='silhouette coefficient values', ylabel='cluster label'>,\n",
       "                     colors='yellowbrick', model=None)"
      ]
     },
     "execution_count": 95,
     "metadata": {},
     "output_type": "execute_result"
    }
   ],
   "source": [
    "from sklearn.cluster import KMeans\n",
    "\n",
    "from yellowbrick.cluster import silhouette_visualizer\n",
    "from yellowbrick.datasets import load_credit\n",
    "\n",
    "# Use the quick method and immediately show the figure\n",
    "silhouette_visualizer(km, X, colors='yellowbrick')"
   ]
  },
  {
   "cell_type": "code",
   "execution_count": 102,
   "metadata": {},
   "outputs": [],
   "source": [
    "import sklearn.preprocessing as pp\n",
    "\n",
    "def cosine_similarities(X):\n",
    "    #X_norm = pp.normalize(X.tocsc(), axis=0)\n",
    "    return X.T * X"
   ]
  },
  {
   "cell_type": "code",
   "execution_count": 103,
   "metadata": {},
   "outputs": [],
   "source": [
    "X_cos = cosine_similarities(X)"
   ]
  },
  {
   "cell_type": "code",
   "execution_count": 101,
   "metadata": {},
   "outputs": [
    {
     "data": {
      "text/plain": [
       "scipy.sparse.csr.csr_matrix"
      ]
     },
     "execution_count": 101,
     "metadata": {},
     "output_type": "execute_result"
    }
   ],
   "source": [
    "type(X_cos)"
   ]
  },
  {
   "cell_type": "code",
   "execution_count": 38,
   "metadata": {},
   "outputs": [
    {
     "data": {
      "text/plain": [
       "0"
      ]
     },
     "execution_count": 38,
     "metadata": {},
     "output_type": "execute_result"
    }
   ],
   "source": [
    "len(labels)\n",
    "labels.fillna('Nonumber', inplace=True)\n",
    "labels.isna().sum()"
   ]
  },
  {
   "cell_type": "code",
   "execution_count": 33,
   "metadata": {},
   "outputs": [
    {
     "data": {
      "text/plain": [
       "1729"
      ]
     },
     "execution_count": 33,
     "metadata": {},
     "output_type": "execute_result"
    }
   ],
   "source": [
    "len(km.labels_)"
   ]
  },
  {
   "cell_type": "code",
   "execution_count": 23,
   "metadata": {},
   "outputs": [
    {
     "name": "stdout",
     "output_type": "stream",
     "text": [
      "<class 'numpy.ndarray'>\n"
     ]
    }
   ],
   "source": [
    "from sklearn.metrics.pairwise import cosine_similarity\n",
    "\n",
    "X = cosine_similarity(tfidf_vectorizer_vectors)\n",
    "\n"
   ]
  },
  {
   "cell_type": "code",
   "execution_count": 26,
   "metadata": {},
   "outputs": [
    {
     "data": {
      "text/plain": [
       "(1729, 7323)"
      ]
     },
     "execution_count": 26,
     "metadata": {},
     "output_type": "execute_result"
    }
   ],
   "source": [
    "tfidf_vectorizer_vectors.shape\n"
   ]
  },
  {
   "cell_type": "code",
   "execution_count": 27,
   "metadata": {},
   "outputs": [
    {
     "data": {
      "text/plain": [
       "(1729, 1729)"
      ]
     },
     "execution_count": 27,
     "metadata": {},
     "output_type": "execute_result"
    }
   ],
   "source": [
    "X.shape"
   ]
  },
  {
   "cell_type": "code",
   "execution_count": 28,
   "metadata": {},
   "outputs": [],
   "source": [
    "from sklearn.neighbors import NearestNeighbors\n",
    "neigh = NearestNeighbors(n_neighbors=5, metric='cosine')\n",
    "cos = neigh.fit(tfidf_vectorizer_vectors)"
   ]
  },
  {
   "cell_type": "code",
   "execution_count": 31,
   "metadata": {},
   "outputs": [
    {
     "data": {
      "text/plain": [
       "NearestNeighbors(metric='cosine')"
      ]
     },
     "execution_count": 31,
     "metadata": {},
     "output_type": "execute_result"
    }
   ],
   "source": [
    "cos"
   ]
  },
  {
   "cell_type": "code",
   "execution_count": null,
   "metadata": {},
   "outputs": [],
   "source": [
    "def max_n(row_data, row_indices, n):\n",
    "        i = row_data.argsort()[-n:]\n",
    "        # i = row_data.argpartition(-n)[-n:]\n",
    "        top_values = row_data[i]\n",
    "        top_indices = row_indices[i]  # do the sparse indices matter?\n",
    "\n",
    "        return top_values, top_indices, i"
   ]
  },
  {
   "cell_type": "code",
   "execution_count": null,
   "metadata": {},
   "outputs": [],
   "source": [
    "# Create a tool and make it public"
   ]
  },
  {
   "cell_type": "code",
   "execution_count": 91,
   "metadata": {},
   "outputs": [
    {
     "ename": "TypeError",
     "evalue": "sparse matrix length is ambiguous; use getnnz() or shape[0]",
     "output_type": "error",
     "traceback": [
      "\u001b[0;31m---------------------------------------------------------------------------\u001b[0m",
      "\u001b[0;31mTypeError\u001b[0m                                 Traceback (most recent call last)",
      "\u001b[0;32m<ipython-input-91-4a381a7d92a0>\u001b[0m in \u001b[0;36m<module>\u001b[0;34m\u001b[0m\n\u001b[1;32m      6\u001b[0m \u001b[0;31m#sample = read_sample(FCPS_SAMPLES.SAMPLE_CHAINLINK)\u001b[0m\u001b[0;34m\u001b[0m\u001b[0;34m\u001b[0m\u001b[0;34m\u001b[0m\u001b[0m\n\u001b[1;32m      7\u001b[0m \u001b[0;31m# Create DBSCAN algorithm.\u001b[0m\u001b[0;34m\u001b[0m\u001b[0;34m\u001b[0m\u001b[0;34m\u001b[0m\u001b[0m\n\u001b[0;32m----> 8\u001b[0;31m \u001b[0mdbscan_instance\u001b[0m \u001b[0;34m=\u001b[0m \u001b[0mdbscan\u001b[0m\u001b[0;34m(\u001b[0m\u001b[0mX\u001b[0m\u001b[0;34m,\u001b[0m \u001b[0;36m0.2\u001b[0m\u001b[0;34m,\u001b[0m \u001b[0;36m10\u001b[0m\u001b[0;34m)\u001b[0m\u001b[0;34m\u001b[0m\u001b[0;34m\u001b[0m\u001b[0m\n\u001b[0m\u001b[1;32m      9\u001b[0m \u001b[0;31m# Start processing by DBSCAN.\u001b[0m\u001b[0;34m\u001b[0m\u001b[0;34m\u001b[0m\u001b[0;34m\u001b[0m\u001b[0m\n\u001b[1;32m     10\u001b[0m \u001b[0mdbscan_instance\u001b[0m\u001b[0;34m.\u001b[0m\u001b[0mprocess\u001b[0m\u001b[0;34m(\u001b[0m\u001b[0;34m)\u001b[0m\u001b[0;34m\u001b[0m\u001b[0;34m\u001b[0m\u001b[0m\n",
      "\u001b[0;32m~/.local/lib/python3.8/site-packages/pyclustering/cluster/dbscan.py\u001b[0m in \u001b[0;36m__init__\u001b[0;34m(self, data, eps, neighbors, ccore, **kwargs)\u001b[0m\n\u001b[1;32m     93\u001b[0m         \u001b[0mself\u001b[0m\u001b[0;34m.\u001b[0m\u001b[0m__neighbors\u001b[0m \u001b[0;34m=\u001b[0m \u001b[0mneighbors\u001b[0m\u001b[0;34m\u001b[0m\u001b[0;34m\u001b[0m\u001b[0m\n\u001b[1;32m     94\u001b[0m \u001b[0;34m\u001b[0m\u001b[0m\n\u001b[0;32m---> 95\u001b[0;31m         \u001b[0mself\u001b[0m\u001b[0;34m.\u001b[0m\u001b[0m__visited\u001b[0m \u001b[0;34m=\u001b[0m \u001b[0;34m[\u001b[0m\u001b[0;32mFalse\u001b[0m\u001b[0;34m]\u001b[0m \u001b[0;34m*\u001b[0m \u001b[0mlen\u001b[0m\u001b[0;34m(\u001b[0m\u001b[0mself\u001b[0m\u001b[0;34m.\u001b[0m\u001b[0m__pointer_data\u001b[0m\u001b[0;34m)\u001b[0m\u001b[0;34m\u001b[0m\u001b[0;34m\u001b[0m\u001b[0m\n\u001b[0m\u001b[1;32m     96\u001b[0m         \u001b[0mself\u001b[0m\u001b[0;34m.\u001b[0m\u001b[0m__belong\u001b[0m \u001b[0;34m=\u001b[0m \u001b[0;34m[\u001b[0m\u001b[0;32mFalse\u001b[0m\u001b[0;34m]\u001b[0m \u001b[0;34m*\u001b[0m \u001b[0mlen\u001b[0m\u001b[0;34m(\u001b[0m\u001b[0mself\u001b[0m\u001b[0;34m.\u001b[0m\u001b[0m__pointer_data\u001b[0m\u001b[0;34m)\u001b[0m\u001b[0;34m\u001b[0m\u001b[0;34m\u001b[0m\u001b[0m\n\u001b[1;32m     97\u001b[0m \u001b[0;34m\u001b[0m\u001b[0m\n",
      "\u001b[0;32m~/.local/lib/python3.8/site-packages/scipy/sparse/base.py\u001b[0m in \u001b[0;36m__len__\u001b[0;34m(self)\u001b[0m\n\u001b[1;32m    289\u001b[0m     \u001b[0;31m# non-zeros is more important.  For now, raise an exception!\u001b[0m\u001b[0;34m\u001b[0m\u001b[0;34m\u001b[0m\u001b[0;34m\u001b[0m\u001b[0m\n\u001b[1;32m    290\u001b[0m     \u001b[0;32mdef\u001b[0m \u001b[0m__len__\u001b[0m\u001b[0;34m(\u001b[0m\u001b[0mself\u001b[0m\u001b[0;34m)\u001b[0m\u001b[0;34m:\u001b[0m\u001b[0;34m\u001b[0m\u001b[0;34m\u001b[0m\u001b[0m\n\u001b[0;32m--> 291\u001b[0;31m         raise TypeError(\"sparse matrix length is ambiguous; use getnnz()\"\n\u001b[0m\u001b[1;32m    292\u001b[0m                         \" or shape[0]\")\n\u001b[1;32m    293\u001b[0m \u001b[0;34m\u001b[0m\u001b[0m\n",
      "\u001b[0;31mTypeError\u001b[0m: sparse matrix length is ambiguous; use getnnz() or shape[0]"
     ]
    }
   ],
   "source": [
    "from pyclustering.cluster.dbscan import dbscan\n",
    "from pyclustering.cluster import cluster_visualizer\n",
    "from pyclustering.utils import read_sample\n",
    "from pyclustering.samples.definitions import FCPS_SAMPLES\n",
    "# Sample for cluster analysis.\n",
    "#sample = read_sample(FCPS_SAMPLES.SAMPLE_CHAINLINK)\n",
    "# Create DBSCAN algorithm.\n",
    "dbscan_instance = dbscan(X, 0.2, 10)\n",
    "# Start processing by DBSCAN.\n",
    "dbscan_instance.process()\n",
    "# Obtain results of clustering.\n",
    "clusters = dbscan_instance.get_clusters()\n",
    "noise = dbscan_instance.get_noise()\n",
    "# Visualize clustering results\n",
    "visualizer = cluster_visualizer()\n",
    "visualizer.append_clusters(clusters, X)\n",
    "visualizer.append_cluster(noise, X, marker='x')\n",
    "visualizer.show()"
   ]
  },
  {
   "cell_type": "code",
   "execution_count": 150,
   "metadata": {},
   "outputs": [
    {
     "name": "stdout",
     "output_type": "stream",
     "text": [
      "Cluster memberships:\n",
      "[-1 -1 -1 ... -1 -1 -1]\n"
     ]
    }
   ],
   "source": [
    "from sklearn.cluster import DBSCAN\n",
    "\n",
    "\n",
    "dbscan = DBSCAN()\n",
    "clusters = dbscan.fit_predict(X)\n",
    "print(\"Cluster memberships:\\n{}\".format(clusters))"
   ]
  },
  {
   "cell_type": "code",
   "execution_count": 155,
   "metadata": {
    "scrolled": true
   },
   "outputs": [
    {
     "ename": "ValueError",
     "evalue": "'c' argument has 1729 elements, which is inconsistent with 'x' and 'y' with size 1.",
     "output_type": "error",
     "traceback": [
      "\u001b[0;31m---------------------------------------------------------------------------\u001b[0m",
      "\u001b[0;31mValueError\u001b[0m                                Traceback (most recent call last)",
      "\u001b[0;32m~/.local/lib/python3.8/site-packages/matplotlib/axes/_axes.py\u001b[0m in \u001b[0;36m_parse_scatter_color_args\u001b[0;34m(c, edgecolors, kwargs, xsize, get_next_color_func)\u001b[0m\n\u001b[1;32m   4290\u001b[0m             \u001b[0;32mtry\u001b[0m\u001b[0;34m:\u001b[0m  \u001b[0;31m# Is 'c' acceptable as PathCollection facecolors?\u001b[0m\u001b[0;34m\u001b[0m\u001b[0;34m\u001b[0m\u001b[0m\n\u001b[0;32m-> 4291\u001b[0;31m                 \u001b[0mcolors\u001b[0m \u001b[0;34m=\u001b[0m \u001b[0mmcolors\u001b[0m\u001b[0;34m.\u001b[0m\u001b[0mto_rgba_array\u001b[0m\u001b[0;34m(\u001b[0m\u001b[0mc\u001b[0m\u001b[0;34m)\u001b[0m\u001b[0;34m\u001b[0m\u001b[0;34m\u001b[0m\u001b[0m\n\u001b[0m\u001b[1;32m   4292\u001b[0m             \u001b[0;32mexcept\u001b[0m \u001b[0;34m(\u001b[0m\u001b[0mTypeError\u001b[0m\u001b[0;34m,\u001b[0m \u001b[0mValueError\u001b[0m\u001b[0;34m)\u001b[0m \u001b[0;32mas\u001b[0m \u001b[0merr\u001b[0m\u001b[0;34m:\u001b[0m\u001b[0;34m\u001b[0m\u001b[0;34m\u001b[0m\u001b[0m\n",
      "\u001b[0;32m~/.local/lib/python3.8/site-packages/matplotlib/colors.py\u001b[0m in \u001b[0;36mto_rgba_array\u001b[0;34m(c, alpha)\u001b[0m\n\u001b[1;32m    340\u001b[0m     \u001b[0;32melse\u001b[0m\u001b[0;34m:\u001b[0m\u001b[0;34m\u001b[0m\u001b[0;34m\u001b[0m\u001b[0m\n\u001b[0;32m--> 341\u001b[0;31m         \u001b[0;32mreturn\u001b[0m \u001b[0mnp\u001b[0m\u001b[0;34m.\u001b[0m\u001b[0marray\u001b[0m\u001b[0;34m(\u001b[0m\u001b[0;34m[\u001b[0m\u001b[0mto_rgba\u001b[0m\u001b[0;34m(\u001b[0m\u001b[0mcc\u001b[0m\u001b[0;34m,\u001b[0m \u001b[0malpha\u001b[0m\u001b[0;34m)\u001b[0m \u001b[0;32mfor\u001b[0m \u001b[0mcc\u001b[0m \u001b[0;32min\u001b[0m \u001b[0mc\u001b[0m\u001b[0;34m]\u001b[0m\u001b[0;34m)\u001b[0m\u001b[0;34m\u001b[0m\u001b[0;34m\u001b[0m\u001b[0m\n\u001b[0m\u001b[1;32m    342\u001b[0m \u001b[0;34m\u001b[0m\u001b[0m\n",
      "\u001b[0;32m~/.local/lib/python3.8/site-packages/matplotlib/colors.py\u001b[0m in \u001b[0;36m<listcomp>\u001b[0;34m(.0)\u001b[0m\n\u001b[1;32m    340\u001b[0m     \u001b[0;32melse\u001b[0m\u001b[0;34m:\u001b[0m\u001b[0;34m\u001b[0m\u001b[0;34m\u001b[0m\u001b[0m\n\u001b[0;32m--> 341\u001b[0;31m         \u001b[0;32mreturn\u001b[0m \u001b[0mnp\u001b[0m\u001b[0;34m.\u001b[0m\u001b[0marray\u001b[0m\u001b[0;34m(\u001b[0m\u001b[0;34m[\u001b[0m\u001b[0mto_rgba\u001b[0m\u001b[0;34m(\u001b[0m\u001b[0mcc\u001b[0m\u001b[0;34m,\u001b[0m \u001b[0malpha\u001b[0m\u001b[0;34m)\u001b[0m \u001b[0;32mfor\u001b[0m \u001b[0mcc\u001b[0m \u001b[0;32min\u001b[0m \u001b[0mc\u001b[0m\u001b[0;34m]\u001b[0m\u001b[0;34m)\u001b[0m\u001b[0;34m\u001b[0m\u001b[0;34m\u001b[0m\u001b[0m\n\u001b[0m\u001b[1;32m    342\u001b[0m \u001b[0;34m\u001b[0m\u001b[0m\n",
      "\u001b[0;32m~/.local/lib/python3.8/site-packages/matplotlib/colors.py\u001b[0m in \u001b[0;36mto_rgba\u001b[0;34m(c, alpha)\u001b[0m\n\u001b[1;32m    188\u001b[0m     \u001b[0;32mif\u001b[0m \u001b[0mrgba\u001b[0m \u001b[0;32mis\u001b[0m \u001b[0;32mNone\u001b[0m\u001b[0;34m:\u001b[0m  \u001b[0;31m# Suppress exception chaining of cache lookup failure.\u001b[0m\u001b[0;34m\u001b[0m\u001b[0;34m\u001b[0m\u001b[0m\n\u001b[0;32m--> 189\u001b[0;31m         \u001b[0mrgba\u001b[0m \u001b[0;34m=\u001b[0m \u001b[0m_to_rgba_no_colorcycle\u001b[0m\u001b[0;34m(\u001b[0m\u001b[0mc\u001b[0m\u001b[0;34m,\u001b[0m \u001b[0malpha\u001b[0m\u001b[0;34m)\u001b[0m\u001b[0;34m\u001b[0m\u001b[0;34m\u001b[0m\u001b[0m\n\u001b[0m\u001b[1;32m    190\u001b[0m         \u001b[0;32mtry\u001b[0m\u001b[0;34m:\u001b[0m\u001b[0;34m\u001b[0m\u001b[0;34m\u001b[0m\u001b[0m\n",
      "\u001b[0;32m~/.local/lib/python3.8/site-packages/matplotlib/colors.py\u001b[0m in \u001b[0;36m_to_rgba_no_colorcycle\u001b[0;34m(c, alpha)\u001b[0m\n\u001b[1;32m    262\u001b[0m     \u001b[0;32mif\u001b[0m \u001b[0;32mnot\u001b[0m \u001b[0mnp\u001b[0m\u001b[0;34m.\u001b[0m\u001b[0miterable\u001b[0m\u001b[0;34m(\u001b[0m\u001b[0mc\u001b[0m\u001b[0;34m)\u001b[0m\u001b[0;34m:\u001b[0m\u001b[0;34m\u001b[0m\u001b[0;34m\u001b[0m\u001b[0m\n\u001b[0;32m--> 263\u001b[0;31m         \u001b[0;32mraise\u001b[0m \u001b[0mValueError\u001b[0m\u001b[0;34m(\u001b[0m\u001b[0;34mf\"Invalid RGBA argument: {orig_c!r}\"\u001b[0m\u001b[0;34m)\u001b[0m\u001b[0;34m\u001b[0m\u001b[0;34m\u001b[0m\u001b[0m\n\u001b[0m\u001b[1;32m    264\u001b[0m     \u001b[0;32mif\u001b[0m \u001b[0mlen\u001b[0m\u001b[0;34m(\u001b[0m\u001b[0mc\u001b[0m\u001b[0;34m)\u001b[0m \u001b[0;32mnot\u001b[0m \u001b[0;32min\u001b[0m \u001b[0;34m[\u001b[0m\u001b[0;36m3\u001b[0m\u001b[0;34m,\u001b[0m \u001b[0;36m4\u001b[0m\u001b[0;34m]\u001b[0m\u001b[0;34m:\u001b[0m\u001b[0;34m\u001b[0m\u001b[0;34m\u001b[0m\u001b[0m\n",
      "\u001b[0;31mValueError\u001b[0m: Invalid RGBA argument: -1.0",
      "\nThe above exception was the direct cause of the following exception:\n",
      "\u001b[0;31mValueError\u001b[0m                                Traceback (most recent call last)",
      "\u001b[0;32m<ipython-input-155-410289c7283c>\u001b[0m in \u001b[0;36m<module>\u001b[0;34m\u001b[0m\n\u001b[1;32m      4\u001b[0m \u001b[0mclusters\u001b[0m \u001b[0;34m=\u001b[0m \u001b[0mdbscan\u001b[0m\u001b[0;34m.\u001b[0m\u001b[0mfit_predict\u001b[0m\u001b[0;34m(\u001b[0m\u001b[0mX\u001b[0m\u001b[0;34m)\u001b[0m\u001b[0;34m\u001b[0m\u001b[0;34m\u001b[0m\u001b[0m\n\u001b[1;32m      5\u001b[0m \u001b[0;31m# plot the cluster assignments\u001b[0m\u001b[0;34m\u001b[0m\u001b[0;34m\u001b[0m\u001b[0;34m\u001b[0m\u001b[0m\n\u001b[0;32m----> 6\u001b[0;31m \u001b[0mplt\u001b[0m\u001b[0;34m.\u001b[0m\u001b[0mscatter\u001b[0m\u001b[0;34m(\u001b[0m\u001b[0mX\u001b[0m\u001b[0;34m[\u001b[0m\u001b[0;34m:\u001b[0m\u001b[0;34m,\u001b[0m \u001b[0;36m0\u001b[0m\u001b[0;34m]\u001b[0m\u001b[0;34m,\u001b[0m \u001b[0mX\u001b[0m\u001b[0;34m[\u001b[0m\u001b[0;34m:\u001b[0m\u001b[0;34m,\u001b[0m \u001b[0;36m1\u001b[0m\u001b[0;34m]\u001b[0m\u001b[0;34m,\u001b[0m \u001b[0mc\u001b[0m\u001b[0;34m=\u001b[0m\u001b[0mclusters\u001b[0m\u001b[0;34m,\u001b[0m \u001b[0mcmap\u001b[0m\u001b[0;34m=\u001b[0m\u001b[0mmglearn\u001b[0m\u001b[0;34m.\u001b[0m\u001b[0mcm2\u001b[0m\u001b[0;34m,\u001b[0m \u001b[0ms\u001b[0m\u001b[0;34m=\u001b[0m\u001b[0;36m60\u001b[0m\u001b[0;34m)\u001b[0m\u001b[0;34m\u001b[0m\u001b[0;34m\u001b[0m\u001b[0m\n\u001b[0m",
      "\u001b[0;32m~/.local/lib/python3.8/site-packages/matplotlib/pyplot.py\u001b[0m in \u001b[0;36mscatter\u001b[0;34m(x, y, s, c, marker, cmap, norm, vmin, vmax, alpha, linewidths, verts, edgecolors, plotnonfinite, data, **kwargs)\u001b[0m\n\u001b[1;32m   2888\u001b[0m         \u001b[0mverts\u001b[0m\u001b[0;34m=\u001b[0m\u001b[0mcbook\u001b[0m\u001b[0;34m.\u001b[0m\u001b[0mdeprecation\u001b[0m\u001b[0;34m.\u001b[0m\u001b[0m_deprecated_parameter\u001b[0m\u001b[0;34m,\u001b[0m\u001b[0;34m\u001b[0m\u001b[0;34m\u001b[0m\u001b[0m\n\u001b[1;32m   2889\u001b[0m         edgecolors=None, *, plotnonfinite=False, data=None, **kwargs):\n\u001b[0;32m-> 2890\u001b[0;31m     __ret = gca().scatter(\n\u001b[0m\u001b[1;32m   2891\u001b[0m         \u001b[0mx\u001b[0m\u001b[0;34m,\u001b[0m \u001b[0my\u001b[0m\u001b[0;34m,\u001b[0m \u001b[0ms\u001b[0m\u001b[0;34m=\u001b[0m\u001b[0ms\u001b[0m\u001b[0;34m,\u001b[0m \u001b[0mc\u001b[0m\u001b[0;34m=\u001b[0m\u001b[0mc\u001b[0m\u001b[0;34m,\u001b[0m \u001b[0mmarker\u001b[0m\u001b[0;34m=\u001b[0m\u001b[0mmarker\u001b[0m\u001b[0;34m,\u001b[0m \u001b[0mcmap\u001b[0m\u001b[0;34m=\u001b[0m\u001b[0mcmap\u001b[0m\u001b[0;34m,\u001b[0m \u001b[0mnorm\u001b[0m\u001b[0;34m=\u001b[0m\u001b[0mnorm\u001b[0m\u001b[0;34m,\u001b[0m\u001b[0;34m\u001b[0m\u001b[0;34m\u001b[0m\u001b[0m\n\u001b[1;32m   2892\u001b[0m         \u001b[0mvmin\u001b[0m\u001b[0;34m=\u001b[0m\u001b[0mvmin\u001b[0m\u001b[0;34m,\u001b[0m \u001b[0mvmax\u001b[0m\u001b[0;34m=\u001b[0m\u001b[0mvmax\u001b[0m\u001b[0;34m,\u001b[0m \u001b[0malpha\u001b[0m\u001b[0;34m=\u001b[0m\u001b[0malpha\u001b[0m\u001b[0;34m,\u001b[0m \u001b[0mlinewidths\u001b[0m\u001b[0;34m=\u001b[0m\u001b[0mlinewidths\u001b[0m\u001b[0;34m,\u001b[0m\u001b[0;34m\u001b[0m\u001b[0;34m\u001b[0m\u001b[0m\n",
      "\u001b[0;32m~/.local/lib/python3.8/site-packages/matplotlib/__init__.py\u001b[0m in \u001b[0;36minner\u001b[0;34m(ax, data, *args, **kwargs)\u001b[0m\n\u001b[1;32m   1436\u001b[0m     \u001b[0;32mdef\u001b[0m \u001b[0minner\u001b[0m\u001b[0;34m(\u001b[0m\u001b[0max\u001b[0m\u001b[0;34m,\u001b[0m \u001b[0;34m*\u001b[0m\u001b[0margs\u001b[0m\u001b[0;34m,\u001b[0m \u001b[0mdata\u001b[0m\u001b[0;34m=\u001b[0m\u001b[0;32mNone\u001b[0m\u001b[0;34m,\u001b[0m \u001b[0;34m**\u001b[0m\u001b[0mkwargs\u001b[0m\u001b[0;34m)\u001b[0m\u001b[0;34m:\u001b[0m\u001b[0;34m\u001b[0m\u001b[0;34m\u001b[0m\u001b[0m\n\u001b[1;32m   1437\u001b[0m         \u001b[0;32mif\u001b[0m \u001b[0mdata\u001b[0m \u001b[0;32mis\u001b[0m \u001b[0;32mNone\u001b[0m\u001b[0;34m:\u001b[0m\u001b[0;34m\u001b[0m\u001b[0;34m\u001b[0m\u001b[0m\n\u001b[0;32m-> 1438\u001b[0;31m             \u001b[0;32mreturn\u001b[0m \u001b[0mfunc\u001b[0m\u001b[0;34m(\u001b[0m\u001b[0max\u001b[0m\u001b[0;34m,\u001b[0m \u001b[0;34m*\u001b[0m\u001b[0mmap\u001b[0m\u001b[0;34m(\u001b[0m\u001b[0msanitize_sequence\u001b[0m\u001b[0;34m,\u001b[0m \u001b[0margs\u001b[0m\u001b[0;34m)\u001b[0m\u001b[0;34m,\u001b[0m \u001b[0;34m**\u001b[0m\u001b[0mkwargs\u001b[0m\u001b[0;34m)\u001b[0m\u001b[0;34m\u001b[0m\u001b[0;34m\u001b[0m\u001b[0m\n\u001b[0m\u001b[1;32m   1439\u001b[0m \u001b[0;34m\u001b[0m\u001b[0m\n\u001b[1;32m   1440\u001b[0m         \u001b[0mbound\u001b[0m \u001b[0;34m=\u001b[0m \u001b[0mnew_sig\u001b[0m\u001b[0;34m.\u001b[0m\u001b[0mbind\u001b[0m\u001b[0;34m(\u001b[0m\u001b[0max\u001b[0m\u001b[0;34m,\u001b[0m \u001b[0;34m*\u001b[0m\u001b[0margs\u001b[0m\u001b[0;34m,\u001b[0m \u001b[0;34m**\u001b[0m\u001b[0mkwargs\u001b[0m\u001b[0;34m)\u001b[0m\u001b[0;34m\u001b[0m\u001b[0;34m\u001b[0m\u001b[0m\n",
      "\u001b[0;32m~/.local/lib/python3.8/site-packages/matplotlib/cbook/deprecation.py\u001b[0m in \u001b[0;36mwrapper\u001b[0;34m(*inner_args, **inner_kwargs)\u001b[0m\n\u001b[1;32m    409\u001b[0m                          \u001b[0;32melse\u001b[0m \u001b[0mdeprecation_addendum\u001b[0m\u001b[0;34m,\u001b[0m\u001b[0;34m\u001b[0m\u001b[0;34m\u001b[0m\u001b[0m\n\u001b[1;32m    410\u001b[0m                 **kwargs)\n\u001b[0;32m--> 411\u001b[0;31m         \u001b[0;32mreturn\u001b[0m \u001b[0mfunc\u001b[0m\u001b[0;34m(\u001b[0m\u001b[0;34m*\u001b[0m\u001b[0minner_args\u001b[0m\u001b[0;34m,\u001b[0m \u001b[0;34m**\u001b[0m\u001b[0minner_kwargs\u001b[0m\u001b[0;34m)\u001b[0m\u001b[0;34m\u001b[0m\u001b[0;34m\u001b[0m\u001b[0m\n\u001b[0m\u001b[1;32m    412\u001b[0m \u001b[0;34m\u001b[0m\u001b[0m\n\u001b[1;32m    413\u001b[0m     \u001b[0;32mreturn\u001b[0m \u001b[0mwrapper\u001b[0m\u001b[0;34m\u001b[0m\u001b[0;34m\u001b[0m\u001b[0m\n",
      "\u001b[0;32m~/.local/lib/python3.8/site-packages/matplotlib/axes/_axes.py\u001b[0m in \u001b[0;36mscatter\u001b[0;34m(self, x, y, s, c, marker, cmap, norm, vmin, vmax, alpha, linewidths, verts, edgecolors, plotnonfinite, **kwargs)\u001b[0m\n\u001b[1;32m   4449\u001b[0m \u001b[0;34m\u001b[0m\u001b[0m\n\u001b[1;32m   4450\u001b[0m         \u001b[0mc\u001b[0m\u001b[0;34m,\u001b[0m \u001b[0mcolors\u001b[0m\u001b[0;34m,\u001b[0m \u001b[0medgecolors\u001b[0m \u001b[0;34m=\u001b[0m\u001b[0;31m \u001b[0m\u001b[0;31m\\\u001b[0m\u001b[0;34m\u001b[0m\u001b[0;34m\u001b[0m\u001b[0m\n\u001b[0;32m-> 4451\u001b[0;31m             self._parse_scatter_color_args(\n\u001b[0m\u001b[1;32m   4452\u001b[0m                 \u001b[0mc\u001b[0m\u001b[0;34m,\u001b[0m \u001b[0medgecolors\u001b[0m\u001b[0;34m,\u001b[0m \u001b[0mkwargs\u001b[0m\u001b[0;34m,\u001b[0m \u001b[0mx\u001b[0m\u001b[0;34m.\u001b[0m\u001b[0msize\u001b[0m\u001b[0;34m,\u001b[0m\u001b[0;34m\u001b[0m\u001b[0;34m\u001b[0m\u001b[0m\n\u001b[1;32m   4453\u001b[0m                 get_next_color_func=self._get_patches_for_fill.get_next_color)\n",
      "\u001b[0;32m~/.local/lib/python3.8/site-packages/matplotlib/axes/_axes.py\u001b[0m in \u001b[0;36m_parse_scatter_color_args\u001b[0;34m(c, edgecolors, kwargs, xsize, get_next_color_func)\u001b[0m\n\u001b[1;32m   4295\u001b[0m                 \u001b[0;32melse\u001b[0m\u001b[0;34m:\u001b[0m\u001b[0;34m\u001b[0m\u001b[0;34m\u001b[0m\u001b[0m\n\u001b[1;32m   4296\u001b[0m                     \u001b[0;32mif\u001b[0m \u001b[0;32mnot\u001b[0m \u001b[0mvalid_shape\u001b[0m\u001b[0;34m:\u001b[0m\u001b[0;34m\u001b[0m\u001b[0;34m\u001b[0m\u001b[0m\n\u001b[0;32m-> 4297\u001b[0;31m                         \u001b[0;32mraise\u001b[0m \u001b[0minvalid_shape_exception\u001b[0m\u001b[0;34m(\u001b[0m\u001b[0mc\u001b[0m\u001b[0;34m.\u001b[0m\u001b[0msize\u001b[0m\u001b[0;34m,\u001b[0m \u001b[0mxsize\u001b[0m\u001b[0;34m)\u001b[0m \u001b[0;32mfrom\u001b[0m \u001b[0merr\u001b[0m\u001b[0;34m\u001b[0m\u001b[0;34m\u001b[0m\u001b[0m\n\u001b[0m\u001b[1;32m   4298\u001b[0m                     \u001b[0;31m# Both the mapping *and* the RGBA conversion failed: pretty\u001b[0m\u001b[0;34m\u001b[0m\u001b[0;34m\u001b[0m\u001b[0;34m\u001b[0m\u001b[0m\n\u001b[1;32m   4299\u001b[0m                     \u001b[0;31m# severe failure => one may appreciate a verbose feedback.\u001b[0m\u001b[0;34m\u001b[0m\u001b[0;34m\u001b[0m\u001b[0;34m\u001b[0m\u001b[0m\n",
      "\u001b[0;31mValueError\u001b[0m: 'c' argument has 1729 elements, which is inconsistent with 'x' and 'y' with size 1."
     ]
    },
    {
     "data": {
      "image/png": "[encoded data removed]",
      "text/plain": [
       "<Figure size 576x396 with 1 Axes>"
      ]
     },
     "metadata": {},
     "output_type": "display_data"
    }
   ],
   "source": [
    "from sklearn.cluster import DBSCAN\n",
    "dbsc = DBSCAN(eps = .5, min_samples = 5)\n",
    "\n",
    "clusters = dbscan.fit_predict(X)\n",
    "# plot the cluster assignments\n",
    "plt.scatter(X[:, 0], X[:, 1], c=clusters, cmap=mglearn.cm2, s=60)"
   ]
  },
  {
   "cell_type": "code",
   "execution_count": 158,
   "metadata": {},
   "outputs": [
    {
     "data": {
      "text/plain": [
       "<1x10408 sparse matrix of type '<class 'numpy.float64'>'\n",
       "\twith 429 stored elements in Compressed Sparse Row format>"
      ]
     },
     "execution_count": 158,
     "metadata": {},
     "output_type": "execute_result"
    }
   ],
   "source": [
    "X[0,:]"
   ]
  },
  {
   "cell_type": "code",
   "execution_count": null,
   "metadata": {},
   "outputs": [],
   "source": [
    "X_fit"
   ]
  },
  {
   "cell_type": "code",
   "execution_count": 148,
   "metadata": {},
   "outputs": [
    {
     "data": {
      "text/plain": [
       "['T',\n",
       " '__abs__',\n",
       " '__add__',\n",
       " '__and__',\n",
       " '__array__',\n",
       " '__array_finalize__',\n",
       " '__array_function__',\n",
       " '__array_interface__',\n",
       " '__array_prepare__',\n",
       " '__array_priority__',\n",
       " '__array_struct__',\n",
       " '__array_ufunc__',\n",
       " '__array_wrap__',\n",
       " '__bool__',\n",
       " '__class__',\n",
       " '__complex__',\n",
       " '__contains__',\n",
       " '__copy__',\n",
       " '__deepcopy__',\n",
       " '__delattr__',\n",
       " '__delitem__',\n",
       " '__dir__',\n",
       " '__divmod__',\n",
       " '__doc__',\n",
       " '__eq__',\n",
       " '__float__',\n",
       " '__floordiv__',\n",
       " '__format__',\n",
       " '__ge__',\n",
       " '__getattribute__',\n",
       " '__getitem__',\n",
       " '__gt__',\n",
       " '__hash__',\n",
       " '__iadd__',\n",
       " '__iand__',\n",
       " '__ifloordiv__',\n",
       " '__ilshift__',\n",
       " '__imatmul__',\n",
       " '__imod__',\n",
       " '__imul__',\n",
       " '__index__',\n",
       " '__init__',\n",
       " '__init_subclass__',\n",
       " '__int__',\n",
       " '__invert__',\n",
       " '__ior__',\n",
       " '__ipow__',\n",
       " '__irshift__',\n",
       " '__isub__',\n",
       " '__iter__',\n",
       " '__itruediv__',\n",
       " '__ixor__',\n",
       " '__le__',\n",
       " '__len__',\n",
       " '__lshift__',\n",
       " '__lt__',\n",
       " '__matmul__',\n",
       " '__mod__',\n",
       " '__mul__',\n",
       " '__ne__',\n",
       " '__neg__',\n",
       " '__new__',\n",
       " '__or__',\n",
       " '__pos__',\n",
       " '__pow__',\n",
       " '__radd__',\n",
       " '__rand__',\n",
       " '__rdivmod__',\n",
       " '__reduce__',\n",
       " '__reduce_ex__',\n",
       " '__repr__',\n",
       " '__rfloordiv__',\n",
       " '__rlshift__',\n",
       " '__rmatmul__',\n",
       " '__rmod__',\n",
       " '__rmul__',\n",
       " '__ror__',\n",
       " '__rpow__',\n",
       " '__rrshift__',\n",
       " '__rshift__',\n",
       " '__rsub__',\n",
       " '__rtruediv__',\n",
       " '__rxor__',\n",
       " '__setattr__',\n",
       " '__setitem__',\n",
       " '__setstate__',\n",
       " '__sizeof__',\n",
       " '__str__',\n",
       " '__sub__',\n",
       " '__subclasshook__',\n",
       " '__truediv__',\n",
       " '__xor__',\n",
       " 'all',\n",
       " 'any',\n",
       " 'argmax',\n",
       " 'argmin',\n",
       " 'argpartition',\n",
       " 'argsort',\n",
       " 'astype',\n",
       " 'base',\n",
       " 'byteswap',\n",
       " 'choose',\n",
       " 'clip',\n",
       " 'compress',\n",
       " 'conj',\n",
       " 'conjugate',\n",
       " 'copy',\n",
       " 'ctypes',\n",
       " 'cumprod',\n",
       " 'cumsum',\n",
       " 'data',\n",
       " 'diagonal',\n",
       " 'dot',\n",
       " 'dtype',\n",
       " 'dump',\n",
       " 'dumps',\n",
       " 'fill',\n",
       " 'flags',\n",
       " 'flat',\n",
       " 'flatten',\n",
       " 'getfield',\n",
       " 'imag',\n",
       " 'item',\n",
       " 'itemset',\n",
       " 'itemsize',\n",
       " 'max',\n",
       " 'mean',\n",
       " 'min',\n",
       " 'nbytes',\n",
       " 'ndim',\n",
       " 'newbyteorder',\n",
       " 'nonzero',\n",
       " 'partition',\n",
       " 'prod',\n",
       " 'ptp',\n",
       " 'put',\n",
       " 'ravel',\n",
       " 'real',\n",
       " 'repeat',\n",
       " 'reshape',\n",
       " 'resize',\n",
       " 'round',\n",
       " 'searchsorted',\n",
       " 'setfield',\n",
       " 'setflags',\n",
       " 'shape',\n",
       " 'size',\n",
       " 'sort',\n",
       " 'squeeze',\n",
       " 'std',\n",
       " 'strides',\n",
       " 'sum',\n",
       " 'swapaxes',\n",
       " 'take',\n",
       " 'tobytes',\n",
       " 'tofile',\n",
       " 'tolist',\n",
       " 'tostring',\n",
       " 'trace',\n",
       " 'transpose',\n",
       " 'var',\n",
       " 'view']"
      ]
     },
     "execution_count": 148,
     "metadata": {},
     "output_type": "execute_result"
    }
   ],
   "source": [
    "dir(X_fit)"
   ]
  },
  {
   "cell_type": "code",
   "execution_count": 57,
   "metadata": {},
   "outputs": [
    {
     "data": {
      "text/plain": [
       "0       TAR 1 August 2016 Trustees' Annual Report for ...\n",
       "1        ; Na {if anv) { oA el C 3 QIC [1€d C f (S ' R...\n",
       "2       54 S ke * B   Welcome to our Annual Report for...\n",
       "3       Annual Repor t 8 Accounts 2017/18 Year ended 3...\n",
       "4       The Greenway Centre (Registered charity, numbe...\n",
       "                              ...                        \n",
       "1724    TAR 1 August 2016 Trustees' Annual Report for ...\n",
       "1725    The Gordon Russell Trust Charity No. 326446 Tr...\n",
       "1726    Charity No (if any) 1111593 Period start date ...\n",
       "1727    CASPARI FOUNDATION (Company Number 3815700) (R...\n",
       "1728    REGISTERED COMPANY NUMBER: 09623674 (England a...\n",
       "Name: text, Length: 1729, dtype: object"
      ]
     },
     "execution_count": 57,
     "metadata": {},
     "output_type": "execute_result"
    }
   ],
   "source": [
    "docs"
   ]
  },
  {
   "cell_type": "code",
   "execution_count": null,
   "metadata": {},
   "outputs": [],
   "source": []
  }
 ],
 "metadata": {
  "celltoolbar": "Slideshow",
  "kernelspec": {
   "display_name": "Python 3",
   "language": "python",
   "name": "python3"
  },
  "language_info": {
   "codemirror_mode": {
    "name": "ipython",
    "version": 3
   },
   "file_extension": ".py",
   "mimetype": "text/x-python",
   "name": "python",
   "nbconvert_exporter": "python",
   "pygments_lexer": "ipython3",
   "version": "3.8.5"
  }
 },
 "nbformat": 4,
 "nbformat_minor": 4
}
